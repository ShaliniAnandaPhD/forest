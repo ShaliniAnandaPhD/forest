{
  "nbformat": 4,
  "nbformat_minor": 0,
  "metadata": {
    "colab": {
      "name": "Original Hudak AGB Data",
      "provenance": []
    },
    "kernelspec": {
      "name": "python3",
      "display_name": "Python 3"
    }
  },
  "cells": [
    {
      "cell_type": "code",
      "metadata": {
        "colab": {
          "base_uri": "https://localhost:8080/"
        },
        "id": "usqoy-_XJAMI",
        "outputId": "dc16212e-c98e-4d2d-8f80-a832a374a8c2"
      },
      "source": [
        "import ee\n",
        "import pandas as pd \n",
        "import numpy as np\n",
        "from typing import List\n",
        "ee.Authenticate()"
      ],
      "execution_count": null,
      "outputs": [
        {
          "output_type": "stream",
          "text": [
            "To authorize access needed by Earth Engine, open the following URL in a web browser and follow the instructions. If the web browser does not start automatically, please manually browse the URL below.\n",
            "\n",
            "    https://accounts.google.com/o/oauth2/auth?client_id=517222506229-vsmmajv00ul0bs7p89v5m89qs8eb9359.apps.googleusercontent.com&scope=https%3A%2F%2Fwww.googleapis.com%2Fauth%2Fearthengine+https%3A%2F%2Fwww.googleapis.com%2Fauth%2Fdevstorage.full_control&redirect_uri=urn%3Aietf%3Awg%3Aoauth%3A2.0%3Aoob&response_type=code&code_challenge=IRtEtWmlj9VR5BwP6uhTMJ7YiQJGbnErFD-qQ-i4HOg&code_challenge_method=S256\n",
            "\n",
            "The authorization workflow will generate a code, which you should paste in the box below. \n",
            "Enter verification code: 4/1AY0e-g51nKSzWtcjNbGvLFXmTmyEjdR9gtaMwR2AU7B-9MQEZK_UE5SJldU\n",
            "\n",
            "Successfully saved authorization token.\n"
          ],
          "name": "stdout"
        }
      ]
    },
    {
      "cell_type": "code",
      "metadata": {
        "id": "wSeRLhCwJDC4"
      },
      "source": [
        "ee.Initialize()"
      ],
      "execution_count": null,
      "outputs": []
    },
    {
      "cell_type": "code",
      "metadata": {
        "id": "QP_5YmQZlF1I"
      },
      "source": [
        "def _extract_and_append_date(image: ee.Image, input_list: ee.List) -> ee.List:\n",
        "    \"\"\"Given an ee.Image and an ee.List, append the image's date to the list.\"\"\"\n",
        "    date = image.date()\n",
        "    return ee.List(input_list).add(ee.Date(date))\n",
        "\n",
        "\n",
        "def _create_yearly_list(collection: ee.ImageCollection) -> ee.List:\n",
        "    \"\"\"Given an ee.ImageCollection, return an ee.List containing all the (unique)\n",
        "    years present in the collection.\"\"\"\n",
        "    dates = collection.iterate(_extract_and_append_date, ee.List([]))\n",
        "\n",
        "    years = ee.List(dates).map(lambda date: ee.Date(date).get(\"year\")).distinct().sort()\n",
        "\n",
        "    return years\n",
        "\n",
        "\n",
        "def _extract_medoid_image(\n",
        "    year: int,\n",
        "    collection: ee.ImageCollection,\n",
        "    start_day: str = \"06-20\",\n",
        "    end_day: str = \"09-10\",\n",
        ") -> ee.Image:\n",
        "    \"\"\"Given a year of interest, an ee.ImageCollection, and boundaries of start\n",
        "    and end days, return an ee.Image which is the medoid image for the year in\n",
        "    question. Distance calculated using the standard Euclidean norm across all\n",
        "    6 TM-equivalent bands. Question: is it possible to do better, for the purposes\n",
        "    of a deforestation analysis, by applying a higher weight to NIR and SWIR bands?\n",
        "    Parameters\n",
        "    ----------\n",
        "    year: int\n",
        "      The year for which the medoid should be calculated.\n",
        "    collection: ee.ImageCollection\n",
        "      The collection whose medoid should be calculated.\n",
        "    start_day: str\n",
        "      The first day, inclusive, to consider in calculating the medoid. Formatted\n",
        "      as 'mm-dd'.\n",
        "    end_day: str\n",
        "      The last day, inclusive, to consider in calculating the medoid. Formatted as\n",
        "      'mm-dd'.\n",
        "    Returns\n",
        "    -------\n",
        "    ee.Image\n",
        "      An ee.Image containing the pixel-wise medoid for the year in question.\n",
        "    \"\"\"\n",
        "    start_m, start_d = start_day.split(\"-\")\n",
        "    end_m, end_d = end_day.split(\"-\")\n",
        "\n",
        "    start_date = ee.Date.fromYMD(ee.Number(year), int(start_m), int(start_d))\n",
        "    end_date = ee.Date.fromYMD(ee.Number(year), int(end_m), int(end_d)).advance(\n",
        "        1, \"day\"\n",
        "    )\n",
        "    filtered_collection = collection.filterDate(start_date, end_date)\n",
        "    empty_col = ee.ImageCollection([ee.Image([0,0,0,0,0,0]).mask(ee.Image(0))]);\n",
        "    non_empty = filtered_collection.toList(1).length().gt(0)\n",
        "    final_collection = ee.ImageCollection(ee.Algorithms.If(non_empty, filtered_collection, empty_col))\n",
        "    median = final_collection.median()\n",
        "\n",
        "    def _euclidean_distance(image: ee.Image) -> ee.Image:\n",
        "        distance = ee.Image(image).subtract(median).pow(ee.Image.constant(2))\n",
        "        return distance.reduce(\"sum\").addBands(image)\n",
        "\n",
        "    distance_from_median = final_collection.map(_euclidean_distance)\n",
        "    return (\n",
        "        ee.ImageCollection(distance_from_median)\n",
        "        .reduce(ee.Reducer.min(7))\n",
        "        .set(\"system:time_start\", ee.Date.fromYMD(year, 8, 1).millis())\n",
        "    )\n",
        "\n",
        "\n",
        "def _generate_medoid_collection(\n",
        "    collection: ee.ImageCollection, start_day: str, end_day: str\n",
        ") -> ee.ImageCollection:\n",
        "    \"\"\"Given an ee.ImageCollection and bounds on the start and end days, compute\n",
        "    an ee.ImageCollection which contains a medoid image for each year present in\n",
        "    the input collection.\n",
        "    Parameters\n",
        "    ----------\n",
        "    collection: ee.ImageCollection\n",
        "      The collection whose medoid should be calculated.\n",
        "    start_day: str\n",
        "      The first day, inclusive, to consider in calculating the medoid. Formatted\n",
        "      as 'mm-dd'.\n",
        "    end_day: str\n",
        "      The last day, inclusive, to consider in calculating the medoid. Formatted as\n",
        "      'mm-dd'.\n",
        "    Returns\n",
        "    -------\n",
        "    ee.ImageCollection\n",
        "      A collection of yearly medoid images for the provided collection.\n",
        "    \"\"\"\n",
        "\n",
        "    years = _create_yearly_list(collection)\n",
        "\n",
        "    def _extract_medoid(year):\n",
        "        return _extract_medoid_image(year, collection, start_day, end_day)\n",
        "\n",
        "    images = years.map(_extract_medoid)\n",
        "    return ee.ImageCollection.fromImages(images)\n",
        "\n",
        "\n",
        "def _mask_landsat_sr(image: ee.Image) -> ee.Image:\n",
        "    \"\"\"Apply a mask to a Landsat image to filter out water, cloud, snow, and cloud\n",
        "    shadow pixels.\"\"\"\n",
        "    qa_band = image.select(\"pixel_qa\")\n",
        "    # Bits 2, 3, 4, and 5 of pixel_qa band of Landsat are water, cloud shadow, snow,\n",
        "    # and cloud, respectively. Define bitmasks for these entries below:\n",
        "    water_bit_msk = 1 << 2\n",
        "    cloud_shadow_bit_msk = 1 << 3\n",
        "    snow_bit_msk = 1 << 4\n",
        "    cloud_bit_msk = 1 << 5\n",
        "\n",
        "    qa_mask = (\n",
        "        qa_band.bitwiseAnd(water_bit_msk)\n",
        "        .eq(0)\n",
        "        .And(qa_band.bitwiseAnd(cloud_shadow_bit_msk).eq(0))\n",
        "        .And(qa_band.bitwiseAnd(snow_bit_msk).eq(0))\n",
        "        .And(qa_band.bitwiseAnd(cloud_bit_msk).eq(0))\n",
        "    )\n",
        "\n",
        "    return image.updateMask(qa_mask)\n",
        "\n",
        "\n",
        "def _prepare_images(\n",
        "    image: ee.Image, input_bands: List[str], output_bands: List[str]\n",
        ") -> ee.Image:\n",
        "    \"\"\"Takes an ee.Image object and a list of input and output bands; this function\n",
        "    resamples the image using bilinear resampling, applies a QA mask, and returns\n",
        "    an ee.Image with the output bands selected and with the system:time_start\n",
        "    field set from input image.\n",
        "    Intended to be used via partial execution for TM and OLI collections.\n",
        "    Parameters\n",
        "    ----------\n",
        "    image: ee.Image\n",
        "      The image to prepare.\n",
        "    input_bands: List[str]\n",
        "      The bands to select from the image.\n",
        "    output_bands: List[str]\n",
        "      The labels for the selected bands in the output image.\n",
        "    Returns\n",
        "    -------\n",
        "    ee.Image\n",
        "      The input image, resampled, with QA mask applied, and with bands renamed.\n",
        "    \"\"\"\n",
        "\n",
        "    resampled_image = image.resample(\"bilinear\").set(\n",
        "        \"system:time_start\", image.get(\"system:time_start\")\n",
        "    )\n",
        "\n",
        "    return _mask_landsat_sr(resampled_image).select(input_bands, output_bands)\n",
        "\n",
        "\n",
        "def _build_TM_collection(\n",
        "    sensor: str,\n",
        "    aoi: ee.Geometry,\n",
        "    start_year: int = 1985,\n",
        "    start_day: int = \"06-20\",\n",
        "    end_year: int = 2020,\n",
        "    end_day: int = \"09-10\",\n",
        ") -> ee.ImageCollection:\n",
        "    \"\"\"Given the sensor, area of interest, and date boundaries, return a collection\n",
        "    of TM (or ETM+) Landsat images. Intended for use on Landsat 5 and Landsat 7\n",
        "    images.\n",
        "    Parameters\n",
        "    ----------\n",
        "    sensor: str\n",
        "      The sensor to use -- expects one of 'LT05' or 'LE07'.\n",
        "    aoi: ee.Geometry\n",
        "      The area of interest for the collection. This will be used in a filterBounds\n",
        "      call on the collection to reduce size.\n",
        "    start_year: int\n",
        "      The first year (inclusive) to get data.\n",
        "    start_day: str\n",
        "      The first day (inclusive) to get data. Formatted as 'mm-dd'.\n",
        "    end_year: int\n",
        "      The last year (inclusive) to get data.\n",
        "    end_day: str\n",
        "      The last day (inclusive) to get data. Formatted as 'mm-dd'.\n",
        "    Returns\n",
        "    -------\n",
        "    ee.ImageCollection\n",
        "      The filtered collection.\n",
        "    \"\"\"\n",
        "\n",
        "    def _prepare_TM(image: ee.Image) -> ee.Image:\n",
        "        return _prepare_images(\n",
        "            image=image,\n",
        "            input_bands=[\"B1\", \"B2\", \"B3\", \"B4\", \"B5\", \"B7\"],\n",
        "            output_bands=[\"B1\", \"B2\", \"B3\", \"B4\", \"B5\", \"B7\"],\n",
        "        )\n",
        "\n",
        "    collection = (\n",
        "        ee.ImageCollection(\"LANDSAT/\" + sensor + \"/C01/T1_SR\")\n",
        "        .filterBounds(aoi)\n",
        "        .filterDate(\n",
        "            ee.Date(str(start_year) + \"-\" + start_day),\n",
        "            ee.Date(str(end_year) + \"-\" + end_day).advance(1, \"day\"),\n",
        "        )\n",
        "    )\n",
        "    return collection.map(_prepare_TM)\n",
        "\n",
        "\n",
        "def _build_OLI_collection(\n",
        "    sensor: str,\n",
        "    aoi: ee.Geometry,\n",
        "    start_year: int = 1985,\n",
        "    start_day: int = \"06-20\",\n",
        "    end_year: int = 2020,\n",
        "    end_day: int = \"09-10\",\n",
        ") -> ee.ImageCollection:\n",
        "    \"\"\"Given the sensor, area of interest, and date boundaries, return a collection\n",
        "    of TM-equivalent Landsat images from an OLI Landsat collection. Intended for\n",
        "    use on Landsat 8 images.\n",
        "    This function applies a linear transformation to harmonize Landsat 7 (ETM) and\n",
        "    Landsat 8 (OLI) images. Transformation developed by Roy et al. and implemented\n",
        "    by Justin Braaten at:\n",
        "    https://github.com/eMapR/LT-GEE/blob/master/scripts/python/lt_gee_bap_test.py#L60\n",
        "    Parameters\n",
        "    ----------\n",
        "    sensor: str\n",
        "      The sensor to use -- expects 'LC08'.\n",
        "    aoi: ee.Geometry\n",
        "      The area of interest for the collection. This will be used in a filterBounds\n",
        "      call on the collection to reduce size.\n",
        "    start_year: int\n",
        "      The first year (inclusive) to get data.\n",
        "    start_day: str\n",
        "      The first day (inclusive) to get data. Formatted as 'mm-dd'.\n",
        "    end_year: int\n",
        "      The last year (inclusive) to get data.\n",
        "    end_day: str\n",
        "      The last day (inclusive) to get data. Formatted as 'mm-dd'.\n",
        "    Returns\n",
        "    -------\n",
        "    ee.ImageCollection\n",
        "      The filtered collection with OLI bands scaled and renamed to TM-equivalents.\n",
        "    \"\"\"\n",
        "\n",
        "    def _harmonization_Roy(image: ee.Image) -> ee.Image:\n",
        "        \"\"\"Taken verbatim from Justin Braaten's implementation at:\n",
        "        https://github.com/eMapR/LT-GEE/blob/b0e92a0c198bdd1a794e1e9b8f4db8fc7fa06054/scripts/python/lt_gee_bap_test.py#L60\"\"\"\n",
        "        slopes = ee.Image.constant([0.9785, 0.9542, 0.9825, 1.0073, 1.0171, 0.9949])\n",
        "        intercepts = ee.Image.constant(\n",
        "            [-0.0095, -0.0016, -0.0022, -0.0021, -0.0030, 0.0029]\n",
        "        )\n",
        "\n",
        "        return (\n",
        "            image.subtract(intercepts.multiply(10000))\n",
        "            .divide(slopes)\n",
        "            .toShort()\n",
        "            .set(\"system:time_start\", image.get(\"system:time_start\"))\n",
        "        )\n",
        "\n",
        "    def _prepare_OLI(image: ee.Image) -> ee.Image:\n",
        "        return _prepare_images(\n",
        "            image=image,\n",
        "            input_bands=[\"B2\", \"B3\", \"B4\", \"B5\", \"B6\", \"B7\"],\n",
        "            output_bands=[\"B1\", \"B2\", \"B3\", \"B4\", \"B5\", \"B7\"],\n",
        "        )\n",
        "\n",
        "    collection = (\n",
        "        ee.ImageCollection(\"LANDSAT/\" + sensor + \"/C01/T1_SR\")\n",
        "        .filterBounds(aoi)\n",
        "        .filterDate(\n",
        "            ee.Date(str(start_year) + \"-\" + start_day),\n",
        "            ee.Date(str(end_year) + \"-\" + end_day).advance(1, \"day\"),\n",
        "        )\n",
        "    )\n",
        "    return collection.map(_prepare_OLI).map(_harmonization_Roy)\n",
        "\n",
        "\n",
        "def _build_combined_Landsat(\n",
        "    aoi: ee.Geometry,\n",
        "    start_year: int = 1985,\n",
        "    start_day: int = \"06-20\",\n",
        "    end_year: int = 2020,\n",
        "    end_day: int = \"09-10\",\n",
        ") -> ee.ImageCollection:\n",
        "    \"\"\"\n",
        "    Given an area of interest and date bounds, return a collection containing\n",
        "    Landsat 5, 7, and 8 images. A linear rescaling is applied to Landsat 8 bands,\n",
        "    which are from the Operational Land Imager (OLI) instrument, to convert them\n",
        "    to Thematic Mapper-equivalent values.\n",
        "    Parameters\n",
        "    ----------\n",
        "    aoi: ee.Geometry\n",
        "      The area of interest for the collection.\n",
        "    start_year: int\n",
        "      The first year (inclusive) to get data.\n",
        "    start_day: str\n",
        "      The first day (inclusive) to get data. Formatted as 'mm-dd'.\n",
        "    end_year: int\n",
        "      The last year (inclusive) to get data.\n",
        "    end_day: str\n",
        "      The last day (inclusive) to get data. Formatted as 'mm-dd'.\n",
        "    Returns\n",
        "    -------\n",
        "    ee.ImageCollection\n",
        "      The TM-equivalent bands from Landsat 5, 7, and 8 for the time period and\n",
        "      region of interest.\n",
        "    \"\"\"\n",
        "    landsat5 = _build_TM_collection(\n",
        "        sensor=\"LT05\",\n",
        "        aoi=aoi,\n",
        "        start_year=start_year,\n",
        "        start_day=start_day,\n",
        "        end_year=end_year,\n",
        "        end_day=end_day,\n",
        "    )\n",
        "\n",
        "    landsat7 = _build_TM_collection(\n",
        "        sensor=\"LE07\",\n",
        "        aoi=aoi,\n",
        "        start_year=start_year,\n",
        "        start_day=start_day,\n",
        "        end_year=end_year,\n",
        "        end_day=end_day,\n",
        "    )\n",
        "\n",
        "    landsat8 = _build_OLI_collection(\n",
        "        sensor=\"LC08\",\n",
        "        aoi=aoi,\n",
        "        start_year=start_year,\n",
        "        start_day=start_day,\n",
        "        end_year=end_year,\n",
        "        end_day=end_day,\n",
        "    )\n",
        "\n",
        "    return ee.ImageCollection(landsat5.merge(landsat7).merge(landsat8))\n",
        "\n",
        "\n",
        "def build_SR_collection(\n",
        "    aoi: ee.Geometry, start_year: int, start_day: str, end_year: int, end_day: str\n",
        ") -> ee.ImageCollection:\n",
        "    \"\"\"\n",
        "    Given an area of interest and date bounds, return a collection containing a\n",
        "    yearly medoid for each image in the date range using Landsat 5, 7, and 8\n",
        "    images.\n",
        "    Python attempt at implementing:\n",
        "    https://emapr.github.io/LT-GEE/api.html#buildsrcollection\n",
        "    Parameters\n",
        "    ----------\n",
        "    aoi: ee.Geometry\n",
        "      The area of interest for the collection.\n",
        "    start_year: int\n",
        "      The first year (inclusive) to get data.\n",
        "    start_day: str\n",
        "      The first day (inclusive) to get data. Formatted as 'mm-dd'.\n",
        "    end_year: int\n",
        "      The last year (inclusive) to get data.\n",
        "    end_day: str\n",
        "      The last day (inclusive) to get data. Formatted as 'mm-dd'.\n",
        "    Returns\n",
        "    -------\n",
        "    ee.ImageCollection\n",
        "      The collection of yearly medoid images.\n",
        "    \"\"\"\n",
        "\n",
        "    combined_landsat = _build_combined_Landsat(\n",
        "        aoi, start_year, start_day, end_year, end_day\n",
        "    )\n",
        "    return _generate_medoid_collection(combined_landsat, start_day, end_day).select(\n",
        "        [1, 2, 3, 4, 5, 6], [\"B1\", \"B2\", \"B3\", \"B4\", \"B5\", \"B7\"]\n",
        "    )"
      ],
      "execution_count": null,
      "outputs": []
    },
    {
      "cell_type": "code",
      "metadata": {
        "id": "6SifpY1nO1un"
      },
      "source": [
        "aoi = ee.Geometry.Polygon(\n",
        "        [[[-124.1, 43.38],\n",
        "          [-124.1, 42.88],\n",
        "          [-123.6, 42.88],\n",
        "          [-123.6, 43.38]]])"
      ],
      "execution_count": null,
      "outputs": []
    },
    {
      "cell_type": "code",
      "metadata": {
        "id": "6-V_E8AZJKFU"
      },
      "source": [
        "hudak_sites_2031 = ee.FeatureCollection('users/connorr/hudak_stands_2031')\n",
        "hudak_sites_2051 = ee.FeatureCollection('users/connorr/hudak_stands_2051')\n",
        "gedi_canopy_data_fc = ee.FeatureCollection('users/connorr/gediL2A_with_canopy_metrics')\n",
        "hudak_agb_2016 = ee.Image('users/connorr/agb_2016_hudak')"
      ],
      "execution_count": null,
      "outputs": []
    },
    {
      "cell_type": "code",
      "metadata": {
        "id": "ZFxwsjyjO9Ts"
      },
      "source": [
        "hudak_sites_bands = ee.List(['frac_change_AGB_live', 'frac_change_AGB_total'])"
      ],
      "execution_count": null,
      "outputs": []
    },
    {
      "cell_type": "code",
      "metadata": {
        "id": "B__SOFwlJuyD"
      },
      "source": [
        "def reduce_features_to_image(fc: ee.FeatureCollection, aoi: ee.Geometry, bands: ee.List):\n",
        "  def _add_img_band(band, img):\n",
        "    return ee.Image(img).addBands(fc.reduceToImage(properties=[band], reducer=ee.Reducer.first()).rename([band]))\n",
        "\n",
        "  fc = fc.filterBounds(aoi)\n",
        "  empty = ee.Image().select()\n",
        "  return bands.iterate(_add_img_band, empty)"
      ],
      "execution_count": null,
      "outputs": []
    },
    {
      "cell_type": "code",
      "metadata": {
        "id": "EVEUJYOndyaf"
      },
      "source": [
        "gedi_canopy_bands = ee.List([\"canopy_avg\", \"canopy_min\", \"canopy_max\", \"canopy_p10\", \"canopy_p25\", \"canopy_p50\", \"canopy_p75\", \"canopy_p90\", \"canopy_std\", \"d01\", \"d02\", \"d03\", \"d04\", \"dns\"])\n",
        "# gedi_canopy_bands = ee.List([\"canopy_max\", \"canopy_p10\", \"canopy_p90\", \"canopy_std\", \"d02\", \"d03\", \"d04\"])"
      ],
      "execution_count": null,
      "outputs": []
    },
    {
      "cell_type": "code",
      "metadata": {
        "id": "gffy-YWzrqMn"
      },
      "source": [
        "def assemble_input_features(aoi, gedi_collection, gedi_bands, year):\n",
        "  gedi_features = ee.Image(reduce_features_to_image(gedi_collection, aoi, gedi_bands))\n",
        "  \n",
        "  ndvi_jul = build_SR_collection(aoi, start_year=year, start_day='07-01', end_year=year, end_day='07-31').first().normalizedDifference([\"B4\", \"B3\"]).rename(\"NDVI_jul\")\n",
        "\n",
        "  return gedi_features.addBands(ndvi_jul).addBands(hudak_agb_2016)"
      ],
      "execution_count": null,
      "outputs": []
    },
    {
      "cell_type": "code",
      "metadata": {
        "id": "ntiu2O8GurpO"
      },
      "source": [
        "def assemble_targets(aoi, hudak_sites, target_band):\n",
        "  return ee.Image(reduce_features_to_image(hudak_sites, aoi, ee.List([target_band]))).select(target_band)"
      ],
      "execution_count": null,
      "outputs": []
    },
    {
      "cell_type": "code",
      "metadata": {
        "id": "0Bw2-6htuYWX"
      },
      "source": [
        "X = assemble_input_features(aoi, gedi_canopy_data_fc, gedi_canopy_bands, 2020)\n",
        "Y = assemble_targets(aoi, hudak_sites_2031, \"frac_change_AGB_live\")"
      ],
      "execution_count": null,
      "outputs": []
    },
    {
      "cell_type": "code",
      "metadata": {
        "id": "VE4AuvvcL-2I"
      },
      "source": [
        "bands = X.bandNames()"
      ],
      "execution_count": null,
      "outputs": []
    },
    {
      "cell_type": "code",
      "metadata": {
        "id": "79rvC6MJ8gHu"
      },
      "source": [
        "gedi_mask = X.select(\"canopy_max\").mask()\n",
        "hudak_site_mask = Y.mask()"
      ],
      "execution_count": null,
      "outputs": []
    },
    {
      "cell_type": "code",
      "metadata": {
        "id": "ucA6ZZzsDxW8"
      },
      "source": [
        "input_features = X.addBands(Y)"
      ],
      "execution_count": null,
      "outputs": []
    },
    {
      "cell_type": "code",
      "metadata": {
        "id": "GllBD3YHANQO"
      },
      "source": [
        "# Train separate models using gedi_mask.and(hudak_site_mask) and gedi_mask.not().and(hudak_site_mask)\n",
        "\n",
        "input_features_w_gedi = input_features.updateMask(gedi_mask.And(hudak_site_mask))\n",
        "input_features_no_gedi = input_features.select([\"NDVI_jul\", \"b1\", \"frac_change_AGB_live\"]).updateMask(gedi_mask.Not().And(hudak_site_mask))"
      ],
      "execution_count": null,
      "outputs": []
    },
    {
      "cell_type": "code",
      "metadata": {
        "id": "I0HPx-7-FkMq"
      },
      "source": [
        "input_data_w_gedi = input_features_w_gedi.sample(factor=1, region=aoi, scale=300).randomColumn()"
      ],
      "execution_count": null,
      "outputs": []
    },
    {
      "cell_type": "code",
      "metadata": {
        "id": "KrLgagmbLT3T"
      },
      "source": [
        "training = input_data_w_gedi.filter(ee.Filter.lt(\"random\", 0.7))\n",
        "validation = input_data_w_gedi.filter(ee.Filter.gte(\"random\", 0.7))"
      ],
      "execution_count": null,
      "outputs": []
    },
    {
      "cell_type": "code",
      "metadata": {
        "id": "EsNBjiurpAAj"
      },
      "source": [
        "def run_boosted_grid_search(training, validation, input_bands, target_band):\n",
        "  results_df = pd.DataFrame()\n",
        "  for _n in [100, 200, 500]:\n",
        "    for _l in [\"LeastAbsoluteDeviation\"]:# [\"LeastSquares\", \"LeastAbsoluteDeviation\", \"Huber\"]:\n",
        "      for _s in [0.5, 0.7, 0.9]:  \n",
        "        for _leaves in [2, 4]:\n",
        "          for _lr in [0.001, 0.005, 0.01]:  \n",
        "            model = ee.Classifier.smileGradientTreeBoost(numberOfTrees=_n, loss=_l, samplingRate=_s, maxNodes=_leaves, shrinkage=_lr, seed=42).setOutputMode(\"REGRESSION\").train(training, target_band, input_bands)\n",
        "            holdout = validation.classify(model, \"predicted\")\n",
        "\n",
        "            test = holdout.select([\"predicted\", \"frac_change_AGB_live\"]).getInfo()\n",
        "            actual = [x[\"properties\"][\"frac_change_AGB_live\"] for x in test[\"features\"]]\n",
        "            predicted = [x[\"properties\"][\"predicted\"] for x in test[\"features\"]]\n",
        "\n",
        "            corr_matrix = np.corrcoef(actual, predicted)\n",
        "            corr_xy = corr_matrix[0, 1]\n",
        "            r_squared = corr_xy**2\n",
        "            RMSE = np.sqrt(np.mean((np.array(predicted) - np.array(actual)) ** 2))\n",
        "\n",
        "            results_df = results_df.append({\"n_trees\": _n, \"loss\": _l, \"sampling_rate\": _s, \"max_nodes\": _leaves, \"learning_rate\": _lr, \"r_squared\": r_squared, \"rmse\": RMSE}, ignore_index=True,)\n",
        "            print(f\"N_trees: {_n} || loss: {_l} || sampling rate: {_s} || max nodes: {_leaves} || learning rate: {_lr} || r-squared: {r_squared} || rmse: {RMSE}\")\n",
        "  \n",
        "  return results_df"
      ],
      "execution_count": null,
      "outputs": []
    },
    {
      "cell_type": "code",
      "metadata": {
        "colab": {
          "base_uri": "https://localhost:8080/"
        },
        "id": "h56ozoWerCAu",
        "outputId": "732987a5-bee5-4c99-8ecd-aace30eda3f5"
      },
      "source": [
        "# With Hudak AGB 2016 as input\n",
        "df = run_boosted_grid_search(training, validation, bands, \"frac_change_AGB_live\")"
      ],
      "execution_count": null,
      "outputs": [
        {
          "output_type": "stream",
          "text": [
            "N_trees: 100 || loss: LeastAbsoluteDeviation || sampling rate: 0.5 || max nodes: 2 || learning rate: 0.001 || r-squared: 0.2767524548276043 || rmse: 0.27239047103955477\n",
            "N_trees: 100 || loss: LeastAbsoluteDeviation || sampling rate: 0.5 || max nodes: 2 || learning rate: 0.005 || r-squared: 0.26091667618533304 || rmse: 0.2652205054963387\n",
            "N_trees: 100 || loss: LeastAbsoluteDeviation || sampling rate: 0.5 || max nodes: 2 || learning rate: 0.01 || r-squared: 0.24862757763829244 || rmse: 0.25861185875673104\n",
            "N_trees: 100 || loss: LeastAbsoluteDeviation || sampling rate: 0.5 || max nodes: 4 || learning rate: 0.001 || r-squared: 0.25061762044716046 || rmse: 0.2720337668919761\n",
            "N_trees: 100 || loss: LeastAbsoluteDeviation || sampling rate: 0.5 || max nodes: 4 || learning rate: 0.005 || r-squared: 0.23499468202111706 || rmse: 0.26337968883674145\n",
            "N_trees: 100 || loss: LeastAbsoluteDeviation || sampling rate: 0.5 || max nodes: 4 || learning rate: 0.01 || r-squared: 0.23758265700298892 || rmse: 0.25551035047725495\n",
            "N_trees: 100 || loss: LeastAbsoluteDeviation || sampling rate: 0.7 || max nodes: 2 || learning rate: 0.001 || r-squared: 0.2726941965254483 || rmse: 0.2725344301381047\n",
            "N_trees: 100 || loss: LeastAbsoluteDeviation || sampling rate: 0.7 || max nodes: 2 || learning rate: 0.005 || r-squared: 0.2701909107568643 || rmse: 0.26578182750293905\n",
            "N_trees: 100 || loss: LeastAbsoluteDeviation || sampling rate: 0.7 || max nodes: 2 || learning rate: 0.01 || r-squared: 0.2540952273587397 || rmse: 0.26004006569583626\n",
            "N_trees: 100 || loss: LeastAbsoluteDeviation || sampling rate: 0.7 || max nodes: 4 || learning rate: 0.001 || r-squared: 0.24655734391908957 || rmse: 0.2723286819892242\n",
            "N_trees: 100 || loss: LeastAbsoluteDeviation || sampling rate: 0.7 || max nodes: 4 || learning rate: 0.005 || r-squared: 0.24979445579792595 || rmse: 0.2643868114535489\n",
            "N_trees: 100 || loss: LeastAbsoluteDeviation || sampling rate: 0.7 || max nodes: 4 || learning rate: 0.01 || r-squared: 0.24810136754635193 || rmse: 0.2579445695889952\n",
            "N_trees: 100 || loss: LeastAbsoluteDeviation || sampling rate: 0.9 || max nodes: 2 || learning rate: 0.001 || r-squared: 0.2671019310546468 || rmse: 0.2723093560800473\n",
            "N_trees: 100 || loss: LeastAbsoluteDeviation || sampling rate: 0.9 || max nodes: 2 || learning rate: 0.005 || r-squared: 0.2661496215324455 || rmse: 0.26676514632358733\n",
            "N_trees: 100 || loss: LeastAbsoluteDeviation || sampling rate: 0.9 || max nodes: 2 || learning rate: 0.01 || r-squared: 0.24389216144703327 || rmse: 0.262356301157805\n",
            "N_trees: 100 || loss: LeastAbsoluteDeviation || sampling rate: 0.9 || max nodes: 4 || learning rate: 0.001 || r-squared: 0.24028401401785243 || rmse: 0.2721856418739569\n",
            "N_trees: 100 || loss: LeastAbsoluteDeviation || sampling rate: 0.9 || max nodes: 4 || learning rate: 0.005 || r-squared: 0.2540289434157293 || rmse: 0.2652567608117063\n",
            "N_trees: 100 || loss: LeastAbsoluteDeviation || sampling rate: 0.9 || max nodes: 4 || learning rate: 0.01 || r-squared: 0.23360937713115693 || rmse: 0.2604211098751031\n",
            "N_trees: 200 || loss: LeastAbsoluteDeviation || sampling rate: 0.5 || max nodes: 2 || learning rate: 0.001 || r-squared: 0.27619980235151087 || rmse: 0.27036249464285456\n",
            "N_trees: 200 || loss: LeastAbsoluteDeviation || sampling rate: 0.5 || max nodes: 2 || learning rate: 0.005 || r-squared: 0.23024868566911405 || rmse: 0.26044706525783645\n",
            "N_trees: 200 || loss: LeastAbsoluteDeviation || sampling rate: 0.5 || max nodes: 2 || learning rate: 0.01 || r-squared: 0.2210636673358957 || rmse: 0.25401430101922334\n",
            "N_trees: 200 || loss: LeastAbsoluteDeviation || sampling rate: 0.5 || max nodes: 4 || learning rate: 0.001 || r-squared: 0.24695949193919284 || rmse: 0.2697766005971666\n",
            "N_trees: 200 || loss: LeastAbsoluteDeviation || sampling rate: 0.5 || max nodes: 4 || learning rate: 0.005 || r-squared: 0.20967748418355964 || rmse: 0.2586099015804881\n",
            "N_trees: 200 || loss: LeastAbsoluteDeviation || sampling rate: 0.5 || max nodes: 4 || learning rate: 0.01 || r-squared: 0.18520992247850182 || rmse: 0.25206987480104054\n",
            "N_trees: 200 || loss: LeastAbsoluteDeviation || sampling rate: 0.7 || max nodes: 2 || learning rate: 0.001 || r-squared: 0.271194093943547 || rmse: 0.27069889739168024\n",
            "N_trees: 200 || loss: LeastAbsoluteDeviation || sampling rate: 0.7 || max nodes: 2 || learning rate: 0.005 || r-squared: 0.255894391898995 || rmse: 0.2612104349094084\n",
            "N_trees: 200 || loss: LeastAbsoluteDeviation || sampling rate: 0.7 || max nodes: 2 || learning rate: 0.01 || r-squared: 0.20966762969120478 || rmse: 0.25666749519695875\n",
            "N_trees: 200 || loss: LeastAbsoluteDeviation || sampling rate: 0.7 || max nodes: 4 || learning rate: 0.001 || r-squared: 0.25280716348321425 || rmse: 0.27005927199923024\n",
            "N_trees: 200 || loss: LeastAbsoluteDeviation || sampling rate: 0.7 || max nodes: 4 || learning rate: 0.005 || r-squared: 0.21724377014808038 || rmse: 0.26013705096403783\n",
            "N_trees: 200 || loss: LeastAbsoluteDeviation || sampling rate: 0.7 || max nodes: 4 || learning rate: 0.01 || r-squared: 0.20777364842356624 || rmse: 0.2546451587772232\n",
            "N_trees: 200 || loss: LeastAbsoluteDeviation || sampling rate: 0.9 || max nodes: 2 || learning rate: 0.001 || r-squared: 0.26882751080715916 || rmse: 0.2705481719249797\n",
            "N_trees: 200 || loss: LeastAbsoluteDeviation || sampling rate: 0.9 || max nodes: 2 || learning rate: 0.005 || r-squared: 0.2545953106169588 || rmse: 0.26266766087734705\n",
            "N_trees: 200 || loss: LeastAbsoluteDeviation || sampling rate: 0.9 || max nodes: 2 || learning rate: 0.01 || r-squared: 0.21410155903798575 || rmse: 0.25754251334666506\n",
            "N_trees: 200 || loss: LeastAbsoluteDeviation || sampling rate: 0.9 || max nodes: 4 || learning rate: 0.001 || r-squared: 0.24335847186467874 || rmse: 0.26997790318798826\n",
            "N_trees: 200 || loss: LeastAbsoluteDeviation || sampling rate: 0.9 || max nodes: 4 || learning rate: 0.005 || r-squared: 0.236168551842377 || rmse: 0.26097407644727705\n",
            "N_trees: 200 || loss: LeastAbsoluteDeviation || sampling rate: 0.9 || max nodes: 4 || learning rate: 0.01 || r-squared: 0.19005250535931914 || rmse: 0.25693597793376943\n",
            "N_trees: 500 || loss: LeastAbsoluteDeviation || sampling rate: 0.5 || max nodes: 2 || learning rate: 0.001 || r-squared: 0.26428274985156874 || rmse: 0.2659123509085211\n",
            "N_trees: 500 || loss: LeastAbsoluteDeviation || sampling rate: 0.5 || max nodes: 2 || learning rate: 0.005 || r-squared: 0.2063626679057033 || rmse: 0.25227845861202136\n",
            "N_trees: 500 || loss: LeastAbsoluteDeviation || sampling rate: 0.5 || max nodes: 2 || learning rate: 0.01 || r-squared: 0.18807918475612734 || rmse: 0.249928727457181\n",
            "N_trees: 500 || loss: LeastAbsoluteDeviation || sampling rate: 0.5 || max nodes: 4 || learning rate: 0.001 || r-squared: 0.23570637865278982 || rmse: 0.2643624073061895\n",
            "N_trees: 500 || loss: LeastAbsoluteDeviation || sampling rate: 0.5 || max nodes: 4 || learning rate: 0.005 || r-squared: 0.18403257667227693 || rmse: 0.25142328151861437\n",
            "N_trees: 500 || loss: LeastAbsoluteDeviation || sampling rate: 0.5 || max nodes: 4 || learning rate: 0.01 || r-squared: 0.15363310848426895 || rmse: 0.24897741229175877\n",
            "N_trees: 500 || loss: LeastAbsoluteDeviation || sampling rate: 0.7 || max nodes: 2 || learning rate: 0.001 || r-squared: 0.2673000342306414 || rmse: 0.2663705230374419\n",
            "N_trees: 500 || loss: LeastAbsoluteDeviation || sampling rate: 0.7 || max nodes: 2 || learning rate: 0.005 || r-squared: 0.19904615137999834 || rmse: 0.25512298454970384\n",
            "N_trees: 500 || loss: LeastAbsoluteDeviation || sampling rate: 0.7 || max nodes: 2 || learning rate: 0.01 || r-squared: 0.16911295797091175 || rmse: 0.25347915068849036\n",
            "N_trees: 500 || loss: LeastAbsoluteDeviation || sampling rate: 0.7 || max nodes: 4 || learning rate: 0.001 || r-squared: 0.24584737671564716 || rmse: 0.2650400428221969\n",
            "N_trees: 500 || loss: LeastAbsoluteDeviation || sampling rate: 0.7 || max nodes: 4 || learning rate: 0.005 || r-squared: 0.17058752676627212 || rmse: 0.25524188728004216\n",
            "N_trees: 500 || loss: LeastAbsoluteDeviation || sampling rate: 0.7 || max nodes: 4 || learning rate: 0.01 || r-squared: 0.1430832914809229 || rmse: 0.2544695503956482\n",
            "N_trees: 500 || loss: LeastAbsoluteDeviation || sampling rate: 0.9 || max nodes: 2 || learning rate: 0.001 || r-squared: 0.2681388884354379 || rmse: 0.26677190744435547\n",
            "N_trees: 500 || loss: LeastAbsoluteDeviation || sampling rate: 0.9 || max nodes: 2 || learning rate: 0.005 || r-squared: 0.20671966190660312 || rmse: 0.2562205510034357\n",
            "N_trees: 500 || loss: LeastAbsoluteDeviation || sampling rate: 0.9 || max nodes: 2 || learning rate: 0.01 || r-squared: 0.17864695667763408 || rmse: 0.2563272920818345\n",
            "N_trees: 500 || loss: LeastAbsoluteDeviation || sampling rate: 0.9 || max nodes: 4 || learning rate: 0.001 || r-squared: 0.25172435598029147 || rmse: 0.26556664075350583\n",
            "N_trees: 500 || loss: LeastAbsoluteDeviation || sampling rate: 0.9 || max nodes: 4 || learning rate: 0.005 || r-squared: 0.18897869599317713 || rmse: 0.2556555932936462\n",
            "N_trees: 500 || loss: LeastAbsoluteDeviation || sampling rate: 0.9 || max nodes: 4 || learning rate: 0.01 || r-squared: 0.16652791692761587 || rmse: 0.2550096855438094\n"
          ],
          "name": "stdout"
        }
      ]
    },
    {
      "cell_type": "code",
      "metadata": {
        "colab": {
          "base_uri": "https://localhost:8080/",
          "height": 204
        },
        "id": "jNP9IkCsuHYv",
        "outputId": "11dbe224-6f34-4249-e3d5-9cf61b698665"
      },
      "source": [
        "df.sort_values(by=[\"r_squared\"], ascending=False).head()"
      ],
      "execution_count": null,
      "outputs": [
        {
          "output_type": "execute_result",
          "data": {
            "text/html": [
              "<div>\n",
              "<style scoped>\n",
              "    .dataframe tbody tr th:only-of-type {\n",
              "        vertical-align: middle;\n",
              "    }\n",
              "\n",
              "    .dataframe tbody tr th {\n",
              "        vertical-align: top;\n",
              "    }\n",
              "\n",
              "    .dataframe thead th {\n",
              "        text-align: right;\n",
              "    }\n",
              "</style>\n",
              "<table border=\"1\" class=\"dataframe\">\n",
              "  <thead>\n",
              "    <tr style=\"text-align: right;\">\n",
              "      <th></th>\n",
              "      <th>learning_rate</th>\n",
              "      <th>loss</th>\n",
              "      <th>max_nodes</th>\n",
              "      <th>n_trees</th>\n",
              "      <th>r_squared</th>\n",
              "      <th>rmse</th>\n",
              "      <th>sampling_rate</th>\n",
              "    </tr>\n",
              "  </thead>\n",
              "  <tbody>\n",
              "    <tr>\n",
              "      <th>0</th>\n",
              "      <td>0.001</td>\n",
              "      <td>LeastAbsoluteDeviation</td>\n",
              "      <td>2.0</td>\n",
              "      <td>100.0</td>\n",
              "      <td>0.276752</td>\n",
              "      <td>0.272390</td>\n",
              "      <td>0.5</td>\n",
              "    </tr>\n",
              "    <tr>\n",
              "      <th>18</th>\n",
              "      <td>0.001</td>\n",
              "      <td>LeastAbsoluteDeviation</td>\n",
              "      <td>2.0</td>\n",
              "      <td>200.0</td>\n",
              "      <td>0.276200</td>\n",
              "      <td>0.270362</td>\n",
              "      <td>0.5</td>\n",
              "    </tr>\n",
              "    <tr>\n",
              "      <th>6</th>\n",
              "      <td>0.001</td>\n",
              "      <td>LeastAbsoluteDeviation</td>\n",
              "      <td>2.0</td>\n",
              "      <td>100.0</td>\n",
              "      <td>0.272694</td>\n",
              "      <td>0.272534</td>\n",
              "      <td>0.7</td>\n",
              "    </tr>\n",
              "    <tr>\n",
              "      <th>24</th>\n",
              "      <td>0.001</td>\n",
              "      <td>LeastAbsoluteDeviation</td>\n",
              "      <td>2.0</td>\n",
              "      <td>200.0</td>\n",
              "      <td>0.271194</td>\n",
              "      <td>0.270699</td>\n",
              "      <td>0.7</td>\n",
              "    </tr>\n",
              "    <tr>\n",
              "      <th>7</th>\n",
              "      <td>0.005</td>\n",
              "      <td>LeastAbsoluteDeviation</td>\n",
              "      <td>2.0</td>\n",
              "      <td>100.0</td>\n",
              "      <td>0.270191</td>\n",
              "      <td>0.265782</td>\n",
              "      <td>0.7</td>\n",
              "    </tr>\n",
              "  </tbody>\n",
              "</table>\n",
              "</div>"
            ],
            "text/plain": [
              "    learning_rate                    loss  ...      rmse  sampling_rate\n",
              "0           0.001  LeastAbsoluteDeviation  ...  0.272390            0.5\n",
              "18          0.001  LeastAbsoluteDeviation  ...  0.270362            0.5\n",
              "6           0.001  LeastAbsoluteDeviation  ...  0.272534            0.7\n",
              "24          0.001  LeastAbsoluteDeviation  ...  0.270699            0.7\n",
              "7           0.005  LeastAbsoluteDeviation  ...  0.265782            0.7\n",
              "\n",
              "[5 rows x 7 columns]"
            ]
          },
          "metadata": {
            "tags": []
          },
          "execution_count": 140
        }
      ]
    },
    {
      "cell_type": "code",
      "metadata": {
        "colab": {
          "base_uri": "https://localhost:8080/"
        },
        "id": "_cQ6moZJw7UW",
        "outputId": "76ce467a-bdac-4b77-8ccb-78e9e06934f1"
      },
      "source": [
        "model = ee.Classifier.smileGradientTreeBoost(numberOfTrees=100, shrinkage=0.005, samplingRate=0.7, maxNodes=2, seed=42).setOutputMode(\"REGRESSION\").train(training, \"frac_change_AGB_live\", bands)\n",
        "\n",
        "holdout = validation.classify(model, \"predicted\")\n",
        "\n",
        "test = holdout.select([\"predicted\", \"frac_change_AGB_live\"]).getInfo()\n",
        "actual = [x[\"properties\"][\"frac_change_AGB_live\"] for x in test[\"features\"]]\n",
        "predicted = [x[\"properties\"][\"predicted\"] for x in test[\"features\"]]\n",
        "\n",
        "corr_matrix = np.corrcoef(actual, predicted)\n",
        "corr_xy = corr_matrix[0, 1]\n",
        "print(corr_xy**2)"
      ],
      "execution_count": null,
      "outputs": [
        {
          "output_type": "stream",
          "text": [
            "0.2701909107568643\n"
          ],
          "name": "stdout"
        }
      ]
    },
    {
      "cell_type": "code",
      "metadata": {
        "id": "iTdDVIi1ERrf"
      },
      "source": [
        "classified_w_gedi = input_features.updateMask(gedi_mask).classify(model)"
      ],
      "execution_count": null,
      "outputs": []
    },
    {
      "cell_type": "code",
      "metadata": {
        "id": "XGGfEFOdFMGt"
      },
      "source": [
        ""
      ],
      "execution_count": null,
      "outputs": []
    },
    {
      "cell_type": "code",
      "metadata": {
        "id": "v_NFKxOJw7JS"
      },
      "source": [
        "input_data_no_gedi = input_features_no_gedi.sample(factor=1, region=aoi, scale=300).randomColumn()\n",
        "training_no_gedi = input_data_no_gedi.filter(ee.Filter.lt(\"random\", 0.7))\n",
        "validation_no_gedi = input_data_no_gedi.filter(ee.Filter.gte(\"random\", 0.7))"
      ],
      "execution_count": null,
      "outputs": []
    },
    {
      "cell_type": "code",
      "metadata": {
        "colab": {
          "base_uri": "https://localhost:8080/"
        },
        "id": "Dtbt8JxlFVAS",
        "outputId": "e986bf72-87b2-4026-fd7c-f04f9292ffca"
      },
      "source": [
        "model_no_gedi = ee.Classifier.smileGradientTreeBoost(numberOfTrees=200, shrinkage=0.001, samplingRate=0.5, maxNodes=2, seed=42).setOutputMode(\"REGRESSION\").train(training_no_gedi, \"frac_change_AGB_live\", ee.List([\"NDVI_jul\", \"b1\"]))\n",
        "\n",
        "holdout_no_gedi = validation_no_gedi.classify(model_no_gedi, \"predicted\")\n",
        "\n",
        "test_no_gedi = holdout_no_gedi.select([\"predicted\", \"frac_change_AGB_live\"]).getInfo()\n",
        "actual_no_gedi = [x[\"properties\"][\"frac_change_AGB_live\"] for x in test_no_gedi[\"features\"]]\n",
        "predicted_no_gedi = [x[\"properties\"][\"predicted\"] for x in test_no_gedi[\"features\"]]\n",
        "\n",
        "corr_matrix = np.corrcoef(actual_no_gedi, predicted_no_gedi)\n",
        "corr_xy = corr_matrix[0, 1]\n",
        "print(corr_xy**2)"
      ],
      "execution_count": null,
      "outputs": [
        {
          "output_type": "stream",
          "text": [
            "0.18248123079238726\n"
          ],
          "name": "stdout"
        }
      ]
    },
    {
      "cell_type": "code",
      "metadata": {
        "id": "MUHgNU4yGbb3"
      },
      "source": [
        "classified_no_gedi = input_features.updateMask(gedi_mask.Not()).classify(model_no_gedi)"
      ],
      "execution_count": null,
      "outputs": []
    },
    {
      "cell_type": "code",
      "metadata": {
        "id": "QnY6kunKG6-W"
      },
      "source": [
        "classified_col = ee.ImageCollection.fromImages([classified_w_gedi, classified_no_gedi])\n",
        "combined = classified_col.mosaic().add(ee.Image(1)).multiply(hudak_agb_2016)"
      ],
      "execution_count": null,
      "outputs": []
    },
    {
      "cell_type": "code",
      "metadata": {
        "colab": {
          "base_uri": "https://localhost:8080/"
        },
        "id": "zf8LKwiQJG-w",
        "outputId": "de2c2612-cda4-42ca-c49d-7bf06873d95f"
      },
      "source": [
        "print(combined.reduceRegion(ee.Reducer.minMax(), aoi, scale=30).getInfo())"
      ],
      "execution_count": null,
      "outputs": [
        {
          "output_type": "stream",
          "text": [
            "{'classification_max': 936.4993450418115, 'classification_min': 11.686710719019175}\n"
          ],
          "name": "stdout"
        }
      ]
    },
    {
      "cell_type": "code",
      "metadata": {
        "id": "hFxmj1ngHfsU"
      },
      "source": [
        "task = ee.batch.Export.image.toAsset(combined, description=\"hudak_2031_agb\", assetId=\"users/connorr/2031_predicted_agb\", region=aoi, scale=30)"
      ],
      "execution_count": null,
      "outputs": []
    },
    {
      "cell_type": "code",
      "metadata": {
        "id": "PmqIoA0LIUrr"
      },
      "source": [
        "task.start()"
      ],
      "execution_count": null,
      "outputs": []
    },
    {
      "cell_type": "code",
      "metadata": {
        "colab": {
          "base_uri": "https://localhost:8080/",
          "height": 162
        },
        "id": "an5YBlMxIXlI",
        "outputId": "b6e20c5a-8a85-4643-d9b9-4d328269aedb"
      },
      "source": [
        "task.status()"
      ],
      "execution_count": null,
      "outputs": [
        {
          "output_type": "error",
          "ename": "NameError",
          "evalue": "ignored",
          "traceback": [
            "\u001b[0;31m---------------------------------------------------------------------------\u001b[0m",
            "\u001b[0;31mNameError\u001b[0m                                 Traceback (most recent call last)",
            "\u001b[0;32m<ipython-input-1-2fef6818829e>\u001b[0m in \u001b[0;36m<module>\u001b[0;34m()\u001b[0m\n\u001b[0;32m----> 1\u001b[0;31m \u001b[0mtask\u001b[0m\u001b[0;34m.\u001b[0m\u001b[0mstatus\u001b[0m\u001b[0;34m(\u001b[0m\u001b[0;34m)\u001b[0m\u001b[0;34m\u001b[0m\u001b[0;34m\u001b[0m\u001b[0m\n\u001b[0m",
            "\u001b[0;31mNameError\u001b[0m: name 'task' is not defined"
          ]
        }
      ]
    },
    {
      "cell_type": "code",
      "metadata": {
        "colab": {
          "base_uri": "https://localhost:8080/"
        },
        "id": "ew0hUM5THCiC",
        "outputId": "33537f80-c994-436c-d113-f231f35f3b1c"
      },
      "source": [
        "print(combined.reduceRegion(ee.Reducer.minMax(), aoi, scale=300).getInfo())"
      ],
      "execution_count": null,
      "outputs": [
        {
          "output_type": "stream",
          "text": [
            "{'classification_max': 0.12216296046972275, 'classification_min': 0.05194784328341484}\n"
          ],
          "name": "stdout"
        }
      ]
    },
    {
      "cell_type": "code",
      "metadata": {
        "colab": {
          "base_uri": "https://localhost:8080/"
        },
        "id": "YzykTLKYxRXo",
        "outputId": "7e12f410-3909-412d-9ccf-4c5c747499c2"
      },
      "source": [
        "df_no_gedi = run_boosted_grid_search(training_no_gedi, validation_no_gedi, ee.List([\"NDVI_jul\", \"b1\"]), \"frac_change_AGB_live\")"
      ],
      "execution_count": null,
      "outputs": [
        {
          "output_type": "stream",
          "text": [
            "N_trees: 100 || loss: LeastAbsoluteDeviation || sampling rate: 0.5 || max nodes: 2 || learning rate: 0.001 || r-squared: 0.17902688970626188 || rmse: 0.15677066134651507\n",
            "N_trees: 100 || loss: LeastAbsoluteDeviation || sampling rate: 0.5 || max nodes: 2 || learning rate: 0.005 || r-squared: 0.1725429640694186 || rmse: 0.15246832258043336\n",
            "N_trees: 100 || loss: LeastAbsoluteDeviation || sampling rate: 0.5 || max nodes: 2 || learning rate: 0.01 || r-squared: 0.1601829557410202 || rmse: 0.149960455489535\n",
            "N_trees: 100 || loss: LeastAbsoluteDeviation || sampling rate: 0.5 || max nodes: 4 || learning rate: 0.001 || r-squared: 0.07567765279601157 || rmse: 0.15703572288606754\n",
            "N_trees: 100 || loss: LeastAbsoluteDeviation || sampling rate: 0.5 || max nodes: 4 || learning rate: 0.005 || r-squared: 0.060014040222735834 || rmse: 0.15403675092806896\n",
            "N_trees: 100 || loss: LeastAbsoluteDeviation || sampling rate: 0.5 || max nodes: 4 || learning rate: 0.01 || r-squared: 0.09012338837079417 || rmse: 0.15111342109605025\n",
            "N_trees: 100 || loss: LeastAbsoluteDeviation || sampling rate: 0.7 || max nodes: 2 || learning rate: 0.001 || r-squared: 0.1505256999293088 || rmse: 0.1570102631193947\n",
            "N_trees: 100 || loss: LeastAbsoluteDeviation || sampling rate: 0.7 || max nodes: 2 || learning rate: 0.005 || r-squared: 0.1421593642384619 || rmse: 0.15360860180969987\n",
            "N_trees: 100 || loss: LeastAbsoluteDeviation || sampling rate: 0.7 || max nodes: 2 || learning rate: 0.01 || r-squared: 0.13003015121267303 || rmse: 0.15159095012922\n",
            "N_trees: 100 || loss: LeastAbsoluteDeviation || sampling rate: 0.7 || max nodes: 4 || learning rate: 0.001 || r-squared: 0.07055497656980106 || rmse: 0.15719600379275062\n",
            "N_trees: 100 || loss: LeastAbsoluteDeviation || sampling rate: 0.7 || max nodes: 4 || learning rate: 0.005 || r-squared: 0.0624207753827021 || rmse: 0.15431941089833928\n",
            "N_trees: 100 || loss: LeastAbsoluteDeviation || sampling rate: 0.7 || max nodes: 4 || learning rate: 0.01 || r-squared: 0.06309741921146168 || rmse: 0.15250118498763082\n",
            "N_trees: 100 || loss: LeastAbsoluteDeviation || sampling rate: 0.9 || max nodes: 2 || learning rate: 0.001 || r-squared: 0.10618241175858628 || rmse: 0.157208269038558\n",
            "N_trees: 100 || loss: LeastAbsoluteDeviation || sampling rate: 0.9 || max nodes: 2 || learning rate: 0.005 || r-squared: 0.11283236961996997 || rmse: 0.15439434324112072\n",
            "N_trees: 100 || loss: LeastAbsoluteDeviation || sampling rate: 0.9 || max nodes: 2 || learning rate: 0.01 || r-squared: 0.11525690563247482 || rmse: 0.15312171439096373\n",
            "N_trees: 100 || loss: LeastAbsoluteDeviation || sampling rate: 0.9 || max nodes: 4 || learning rate: 0.001 || r-squared: 0.05405784982343481 || rmse: 0.1572432854184888\n",
            "N_trees: 100 || loss: LeastAbsoluteDeviation || sampling rate: 0.9 || max nodes: 4 || learning rate: 0.005 || r-squared: 0.05488942355607435 || rmse: 0.15459016410931603\n",
            "N_trees: 100 || loss: LeastAbsoluteDeviation || sampling rate: 0.9 || max nodes: 4 || learning rate: 0.01 || r-squared: 0.0751217699332533 || rmse: 0.15240557596427584\n",
            "N_trees: 200 || loss: LeastAbsoluteDeviation || sampling rate: 0.5 || max nodes: 2 || learning rate: 0.001 || r-squared: 0.18248123079238726 || rmse: 0.15560966742236423\n",
            "N_trees: 200 || loss: LeastAbsoluteDeviation || sampling rate: 0.5 || max nodes: 2 || learning rate: 0.005 || r-squared: 0.154446901692557 || rmse: 0.15029776823948743\n",
            "N_trees: 200 || loss: LeastAbsoluteDeviation || sampling rate: 0.5 || max nodes: 2 || learning rate: 0.01 || r-squared: 0.12933572567669727 || rmse: 0.14880221341059063\n",
            "N_trees: 200 || loss: LeastAbsoluteDeviation || sampling rate: 0.5 || max nodes: 4 || learning rate: 0.001 || r-squared: 0.09921637620227135 || rmse: 0.15584839926184885\n",
            "N_trees: 200 || loss: LeastAbsoluteDeviation || sampling rate: 0.5 || max nodes: 4 || learning rate: 0.005 || r-squared: 0.0769985614977799 || rmse: 0.15139757859170191\n",
            "N_trees: 200 || loss: LeastAbsoluteDeviation || sampling rate: 0.5 || max nodes: 4 || learning rate: 0.01 || r-squared: 0.04825022772274211 || rmse: 0.15071337280381172\n",
            "N_trees: 200 || loss: LeastAbsoluteDeviation || sampling rate: 0.7 || max nodes: 2 || learning rate: 0.001 || r-squared: 0.15694114046987168 || rmse: 0.15598267158459825\n",
            "N_trees: 200 || loss: LeastAbsoluteDeviation || sampling rate: 0.7 || max nodes: 2 || learning rate: 0.005 || r-squared: 0.14085992104456865 || rmse: 0.1515138766595842\n",
            "N_trees: 200 || loss: LeastAbsoluteDeviation || sampling rate: 0.7 || max nodes: 2 || learning rate: 0.01 || r-squared: 0.10394067582286276 || rmse: 0.15091780176814681\n",
            "N_trees: 200 || loss: LeastAbsoluteDeviation || sampling rate: 0.7 || max nodes: 4 || learning rate: 0.001 || r-squared: 0.09271705448818529 || rmse: 0.156089852448442\n",
            "N_trees: 200 || loss: LeastAbsoluteDeviation || sampling rate: 0.7 || max nodes: 4 || learning rate: 0.005 || r-squared: 0.07196026948754446 || rmse: 0.15210501906961227\n",
            "N_trees: 200 || loss: LeastAbsoluteDeviation || sampling rate: 0.7 || max nodes: 4 || learning rate: 0.01 || r-squared: 0.05641356017522381 || rmse: 0.15118227386084776\n",
            "N_trees: 200 || loss: LeastAbsoluteDeviation || sampling rate: 0.9 || max nodes: 2 || learning rate: 0.001 || r-squared: 0.11128925129940495 || rmse: 0.1562857233878347\n",
            "N_trees: 200 || loss: LeastAbsoluteDeviation || sampling rate: 0.9 || max nodes: 2 || learning rate: 0.005 || r-squared: 0.10631870307539801 || rmse: 0.15318177617439227\n",
            "N_trees: 200 || loss: LeastAbsoluteDeviation || sampling rate: 0.9 || max nodes: 2 || learning rate: 0.01 || r-squared: 0.10056917355074964 || rmse: 0.15216877658377817\n",
            "N_trees: 200 || loss: LeastAbsoluteDeviation || sampling rate: 0.9 || max nodes: 4 || learning rate: 0.001 || r-squared: 0.06346839807890525 || rmse: 0.156380315774326\n",
            "N_trees: 200 || loss: LeastAbsoluteDeviation || sampling rate: 0.9 || max nodes: 4 || learning rate: 0.005 || r-squared: 0.07905244670552632 || rmse: 0.15251764600108098\n",
            "N_trees: 200 || loss: LeastAbsoluteDeviation || sampling rate: 0.9 || max nodes: 4 || learning rate: 0.01 || r-squared: 0.0877563358010673 || rmse: 0.15078334687451583\n",
            "N_trees: 500 || loss: LeastAbsoluteDeviation || sampling rate: 0.5 || max nodes: 2 || learning rate: 0.001 || r-squared: 0.17066200187889458 || rmse: 0.15283388458008496\n",
            "N_trees: 500 || loss: LeastAbsoluteDeviation || sampling rate: 0.5 || max nodes: 2 || learning rate: 0.005 || r-squared: 0.09847141258518252 || rmse: 0.14952307034688062\n",
            "N_trees: 500 || loss: LeastAbsoluteDeviation || sampling rate: 0.5 || max nodes: 2 || learning rate: 0.01 || r-squared: 0.04615285717021635 || rmse: 0.15048189173301627\n",
            "N_trees: 500 || loss: LeastAbsoluteDeviation || sampling rate: 0.5 || max nodes: 4 || learning rate: 0.001 || r-squared: 0.09584774695060275 || rmse: 0.15328421654272595\n",
            "N_trees: 500 || loss: LeastAbsoluteDeviation || sampling rate: 0.5 || max nodes: 4 || learning rate: 0.005 || r-squared: 0.023743850980798824 || rmse: 0.1513920262520288\n",
            "N_trees: 500 || loss: LeastAbsoluteDeviation || sampling rate: 0.5 || max nodes: 4 || learning rate: 0.01 || r-squared: 0.023076432546894364 || rmse: 0.15092012734853158\n",
            "N_trees: 500 || loss: LeastAbsoluteDeviation || sampling rate: 0.7 || max nodes: 2 || learning rate: 0.001 || r-squared: 0.15744513940707594 || rmse: 0.1535305516084261\n",
            "N_trees: 500 || loss: LeastAbsoluteDeviation || sampling rate: 0.7 || max nodes: 2 || learning rate: 0.005 || r-squared: 0.10608269293818583 || rmse: 0.1506445120217338\n",
            "N_trees: 500 || loss: LeastAbsoluteDeviation || sampling rate: 0.7 || max nodes: 2 || learning rate: 0.01 || r-squared: 0.04448585061853772 || rmse: 0.1515554265790501\n",
            "N_trees: 500 || loss: LeastAbsoluteDeviation || sampling rate: 0.7 || max nodes: 4 || learning rate: 0.001 || r-squared: 0.0958150871049336 || rmse: 0.15386416116342305\n",
            "N_trees: 500 || loss: LeastAbsoluteDeviation || sampling rate: 0.7 || max nodes: 4 || learning rate: 0.005 || r-squared: 0.03605118118926677 || rmse: 0.15150766957180214\n",
            "N_trees: 500 || loss: LeastAbsoluteDeviation || sampling rate: 0.7 || max nodes: 4 || learning rate: 0.01 || r-squared: 0.02489059828054435 || rmse: 0.15100626629578665\n",
            "N_trees: 500 || loss: LeastAbsoluteDeviation || sampling rate: 0.9 || max nodes: 2 || learning rate: 0.001 || r-squared: 0.1218687101412129 || rmse: 0.15435654437496069\n",
            "N_trees: 500 || loss: LeastAbsoluteDeviation || sampling rate: 0.9 || max nodes: 2 || learning rate: 0.005 || r-squared: 0.09383422873655466 || rmse: 0.15207950950457064\n",
            "N_trees: 500 || loss: LeastAbsoluteDeviation || sampling rate: 0.9 || max nodes: 2 || learning rate: 0.01 || r-squared: 0.07731384264611298 || rmse: 0.15194963588257096\n",
            "N_trees: 500 || loss: LeastAbsoluteDeviation || sampling rate: 0.9 || max nodes: 4 || learning rate: 0.001 || r-squared: 0.0721795877083686 || rmse: 0.15440982623089736\n",
            "N_trees: 500 || loss: LeastAbsoluteDeviation || sampling rate: 0.9 || max nodes: 4 || learning rate: 0.005 || r-squared: 0.08309341952984327 || rmse: 0.15073126010526597\n",
            "N_trees: 500 || loss: LeastAbsoluteDeviation || sampling rate: 0.9 || max nodes: 4 || learning rate: 0.01 || r-squared: 0.04607387345282689 || rmse: 0.1503424513631315\n"
          ],
          "name": "stdout"
        }
      ]
    },
    {
      "cell_type": "code",
      "metadata": {
        "colab": {
          "base_uri": "https://localhost:8080/",
          "height": 1000
        },
        "id": "lJQ_8XLdFoRm",
        "outputId": "cd779a6f-3eae-4c66-bb53-b984f0b91567"
      },
      "source": [
        "df_no_gedi.sort_values(by=[\"r_squared\"], ascending=False)"
      ],
      "execution_count": null,
      "outputs": [
        {
          "output_type": "execute_result",
          "data": {
            "text/html": [
              "<div>\n",
              "<style scoped>\n",
              "    .dataframe tbody tr th:only-of-type {\n",
              "        vertical-align: middle;\n",
              "    }\n",
              "\n",
              "    .dataframe tbody tr th {\n",
              "        vertical-align: top;\n",
              "    }\n",
              "\n",
              "    .dataframe thead th {\n",
              "        text-align: right;\n",
              "    }\n",
              "</style>\n",
              "<table border=\"1\" class=\"dataframe\">\n",
              "  <thead>\n",
              "    <tr style=\"text-align: right;\">\n",
              "      <th></th>\n",
              "      <th>learning_rate</th>\n",
              "      <th>loss</th>\n",
              "      <th>max_nodes</th>\n",
              "      <th>n_trees</th>\n",
              "      <th>r_squared</th>\n",
              "      <th>rmse</th>\n",
              "      <th>sampling_rate</th>\n",
              "    </tr>\n",
              "  </thead>\n",
              "  <tbody>\n",
              "    <tr>\n",
              "      <th>18</th>\n",
              "      <td>0.001</td>\n",
              "      <td>LeastAbsoluteDeviation</td>\n",
              "      <td>2.0</td>\n",
              "      <td>200.0</td>\n",
              "      <td>0.182481</td>\n",
              "      <td>0.155610</td>\n",
              "      <td>0.5</td>\n",
              "    </tr>\n",
              "    <tr>\n",
              "      <th>0</th>\n",
              "      <td>0.001</td>\n",
              "      <td>LeastAbsoluteDeviation</td>\n",
              "      <td>2.0</td>\n",
              "      <td>100.0</td>\n",
              "      <td>0.179027</td>\n",
              "      <td>0.156771</td>\n",
              "      <td>0.5</td>\n",
              "    </tr>\n",
              "    <tr>\n",
              "      <th>1</th>\n",
              "      <td>0.005</td>\n",
              "      <td>LeastAbsoluteDeviation</td>\n",
              "      <td>2.0</td>\n",
              "      <td>100.0</td>\n",
              "      <td>0.172543</td>\n",
              "      <td>0.152468</td>\n",
              "      <td>0.5</td>\n",
              "    </tr>\n",
              "    <tr>\n",
              "      <th>36</th>\n",
              "      <td>0.001</td>\n",
              "      <td>LeastAbsoluteDeviation</td>\n",
              "      <td>2.0</td>\n",
              "      <td>500.0</td>\n",
              "      <td>0.170662</td>\n",
              "      <td>0.152834</td>\n",
              "      <td>0.5</td>\n",
              "    </tr>\n",
              "    <tr>\n",
              "      <th>2</th>\n",
              "      <td>0.010</td>\n",
              "      <td>LeastAbsoluteDeviation</td>\n",
              "      <td>2.0</td>\n",
              "      <td>100.0</td>\n",
              "      <td>0.160183</td>\n",
              "      <td>0.149960</td>\n",
              "      <td>0.5</td>\n",
              "    </tr>\n",
              "    <tr>\n",
              "      <th>42</th>\n",
              "      <td>0.001</td>\n",
              "      <td>LeastAbsoluteDeviation</td>\n",
              "      <td>2.0</td>\n",
              "      <td>500.0</td>\n",
              "      <td>0.157445</td>\n",
              "      <td>0.153531</td>\n",
              "      <td>0.7</td>\n",
              "    </tr>\n",
              "    <tr>\n",
              "      <th>24</th>\n",
              "      <td>0.001</td>\n",
              "      <td>LeastAbsoluteDeviation</td>\n",
              "      <td>2.0</td>\n",
              "      <td>200.0</td>\n",
              "      <td>0.156941</td>\n",
              "      <td>0.155983</td>\n",
              "      <td>0.7</td>\n",
              "    </tr>\n",
              "    <tr>\n",
              "      <th>19</th>\n",
              "      <td>0.005</td>\n",
              "      <td>LeastAbsoluteDeviation</td>\n",
              "      <td>2.0</td>\n",
              "      <td>200.0</td>\n",
              "      <td>0.154447</td>\n",
              "      <td>0.150298</td>\n",
              "      <td>0.5</td>\n",
              "    </tr>\n",
              "    <tr>\n",
              "      <th>6</th>\n",
              "      <td>0.001</td>\n",
              "      <td>LeastAbsoluteDeviation</td>\n",
              "      <td>2.0</td>\n",
              "      <td>100.0</td>\n",
              "      <td>0.150526</td>\n",
              "      <td>0.157010</td>\n",
              "      <td>0.7</td>\n",
              "    </tr>\n",
              "    <tr>\n",
              "      <th>7</th>\n",
              "      <td>0.005</td>\n",
              "      <td>LeastAbsoluteDeviation</td>\n",
              "      <td>2.0</td>\n",
              "      <td>100.0</td>\n",
              "      <td>0.142159</td>\n",
              "      <td>0.153609</td>\n",
              "      <td>0.7</td>\n",
              "    </tr>\n",
              "    <tr>\n",
              "      <th>25</th>\n",
              "      <td>0.005</td>\n",
              "      <td>LeastAbsoluteDeviation</td>\n",
              "      <td>2.0</td>\n",
              "      <td>200.0</td>\n",
              "      <td>0.140860</td>\n",
              "      <td>0.151514</td>\n",
              "      <td>0.7</td>\n",
              "    </tr>\n",
              "    <tr>\n",
              "      <th>8</th>\n",
              "      <td>0.010</td>\n",
              "      <td>LeastAbsoluteDeviation</td>\n",
              "      <td>2.0</td>\n",
              "      <td>100.0</td>\n",
              "      <td>0.130030</td>\n",
              "      <td>0.151591</td>\n",
              "      <td>0.7</td>\n",
              "    </tr>\n",
              "    <tr>\n",
              "      <th>20</th>\n",
              "      <td>0.010</td>\n",
              "      <td>LeastAbsoluteDeviation</td>\n",
              "      <td>2.0</td>\n",
              "      <td>200.0</td>\n",
              "      <td>0.129336</td>\n",
              "      <td>0.148802</td>\n",
              "      <td>0.5</td>\n",
              "    </tr>\n",
              "    <tr>\n",
              "      <th>48</th>\n",
              "      <td>0.001</td>\n",
              "      <td>LeastAbsoluteDeviation</td>\n",
              "      <td>2.0</td>\n",
              "      <td>500.0</td>\n",
              "      <td>0.121869</td>\n",
              "      <td>0.154357</td>\n",
              "      <td>0.9</td>\n",
              "    </tr>\n",
              "    <tr>\n",
              "      <th>14</th>\n",
              "      <td>0.010</td>\n",
              "      <td>LeastAbsoluteDeviation</td>\n",
              "      <td>2.0</td>\n",
              "      <td>100.0</td>\n",
              "      <td>0.115257</td>\n",
              "      <td>0.153122</td>\n",
              "      <td>0.9</td>\n",
              "    </tr>\n",
              "    <tr>\n",
              "      <th>13</th>\n",
              "      <td>0.005</td>\n",
              "      <td>LeastAbsoluteDeviation</td>\n",
              "      <td>2.0</td>\n",
              "      <td>100.0</td>\n",
              "      <td>0.112832</td>\n",
              "      <td>0.154394</td>\n",
              "      <td>0.9</td>\n",
              "    </tr>\n",
              "    <tr>\n",
              "      <th>30</th>\n",
              "      <td>0.001</td>\n",
              "      <td>LeastAbsoluteDeviation</td>\n",
              "      <td>2.0</td>\n",
              "      <td>200.0</td>\n",
              "      <td>0.111289</td>\n",
              "      <td>0.156286</td>\n",
              "      <td>0.9</td>\n",
              "    </tr>\n",
              "    <tr>\n",
              "      <th>31</th>\n",
              "      <td>0.005</td>\n",
              "      <td>LeastAbsoluteDeviation</td>\n",
              "      <td>2.0</td>\n",
              "      <td>200.0</td>\n",
              "      <td>0.106319</td>\n",
              "      <td>0.153182</td>\n",
              "      <td>0.9</td>\n",
              "    </tr>\n",
              "    <tr>\n",
              "      <th>12</th>\n",
              "      <td>0.001</td>\n",
              "      <td>LeastAbsoluteDeviation</td>\n",
              "      <td>2.0</td>\n",
              "      <td>100.0</td>\n",
              "      <td>0.106182</td>\n",
              "      <td>0.157208</td>\n",
              "      <td>0.9</td>\n",
              "    </tr>\n",
              "    <tr>\n",
              "      <th>43</th>\n",
              "      <td>0.005</td>\n",
              "      <td>LeastAbsoluteDeviation</td>\n",
              "      <td>2.0</td>\n",
              "      <td>500.0</td>\n",
              "      <td>0.106083</td>\n",
              "      <td>0.150645</td>\n",
              "      <td>0.7</td>\n",
              "    </tr>\n",
              "    <tr>\n",
              "      <th>26</th>\n",
              "      <td>0.010</td>\n",
              "      <td>LeastAbsoluteDeviation</td>\n",
              "      <td>2.0</td>\n",
              "      <td>200.0</td>\n",
              "      <td>0.103941</td>\n",
              "      <td>0.150918</td>\n",
              "      <td>0.7</td>\n",
              "    </tr>\n",
              "    <tr>\n",
              "      <th>32</th>\n",
              "      <td>0.010</td>\n",
              "      <td>LeastAbsoluteDeviation</td>\n",
              "      <td>2.0</td>\n",
              "      <td>200.0</td>\n",
              "      <td>0.100569</td>\n",
              "      <td>0.152169</td>\n",
              "      <td>0.9</td>\n",
              "    </tr>\n",
              "    <tr>\n",
              "      <th>21</th>\n",
              "      <td>0.001</td>\n",
              "      <td>LeastAbsoluteDeviation</td>\n",
              "      <td>4.0</td>\n",
              "      <td>200.0</td>\n",
              "      <td>0.099216</td>\n",
              "      <td>0.155848</td>\n",
              "      <td>0.5</td>\n",
              "    </tr>\n",
              "    <tr>\n",
              "      <th>37</th>\n",
              "      <td>0.005</td>\n",
              "      <td>LeastAbsoluteDeviation</td>\n",
              "      <td>2.0</td>\n",
              "      <td>500.0</td>\n",
              "      <td>0.098471</td>\n",
              "      <td>0.149523</td>\n",
              "      <td>0.5</td>\n",
              "    </tr>\n",
              "    <tr>\n",
              "      <th>39</th>\n",
              "      <td>0.001</td>\n",
              "      <td>LeastAbsoluteDeviation</td>\n",
              "      <td>4.0</td>\n",
              "      <td>500.0</td>\n",
              "      <td>0.095848</td>\n",
              "      <td>0.153284</td>\n",
              "      <td>0.5</td>\n",
              "    </tr>\n",
              "    <tr>\n",
              "      <th>45</th>\n",
              "      <td>0.001</td>\n",
              "      <td>LeastAbsoluteDeviation</td>\n",
              "      <td>4.0</td>\n",
              "      <td>500.0</td>\n",
              "      <td>0.095815</td>\n",
              "      <td>0.153864</td>\n",
              "      <td>0.7</td>\n",
              "    </tr>\n",
              "    <tr>\n",
              "      <th>49</th>\n",
              "      <td>0.005</td>\n",
              "      <td>LeastAbsoluteDeviation</td>\n",
              "      <td>2.0</td>\n",
              "      <td>500.0</td>\n",
              "      <td>0.093834</td>\n",
              "      <td>0.152080</td>\n",
              "      <td>0.9</td>\n",
              "    </tr>\n",
              "    <tr>\n",
              "      <th>27</th>\n",
              "      <td>0.001</td>\n",
              "      <td>LeastAbsoluteDeviation</td>\n",
              "      <td>4.0</td>\n",
              "      <td>200.0</td>\n",
              "      <td>0.092717</td>\n",
              "      <td>0.156090</td>\n",
              "      <td>0.7</td>\n",
              "    </tr>\n",
              "    <tr>\n",
              "      <th>5</th>\n",
              "      <td>0.010</td>\n",
              "      <td>LeastAbsoluteDeviation</td>\n",
              "      <td>4.0</td>\n",
              "      <td>100.0</td>\n",
              "      <td>0.090123</td>\n",
              "      <td>0.151113</td>\n",
              "      <td>0.5</td>\n",
              "    </tr>\n",
              "    <tr>\n",
              "      <th>35</th>\n",
              "      <td>0.010</td>\n",
              "      <td>LeastAbsoluteDeviation</td>\n",
              "      <td>4.0</td>\n",
              "      <td>200.0</td>\n",
              "      <td>0.087756</td>\n",
              "      <td>0.150783</td>\n",
              "      <td>0.9</td>\n",
              "    </tr>\n",
              "    <tr>\n",
              "      <th>52</th>\n",
              "      <td>0.005</td>\n",
              "      <td>LeastAbsoluteDeviation</td>\n",
              "      <td>4.0</td>\n",
              "      <td>500.0</td>\n",
              "      <td>0.083093</td>\n",
              "      <td>0.150731</td>\n",
              "      <td>0.9</td>\n",
              "    </tr>\n",
              "    <tr>\n",
              "      <th>34</th>\n",
              "      <td>0.005</td>\n",
              "      <td>LeastAbsoluteDeviation</td>\n",
              "      <td>4.0</td>\n",
              "      <td>200.0</td>\n",
              "      <td>0.079052</td>\n",
              "      <td>0.152518</td>\n",
              "      <td>0.9</td>\n",
              "    </tr>\n",
              "    <tr>\n",
              "      <th>50</th>\n",
              "      <td>0.010</td>\n",
              "      <td>LeastAbsoluteDeviation</td>\n",
              "      <td>2.0</td>\n",
              "      <td>500.0</td>\n",
              "      <td>0.077314</td>\n",
              "      <td>0.151950</td>\n",
              "      <td>0.9</td>\n",
              "    </tr>\n",
              "    <tr>\n",
              "      <th>22</th>\n",
              "      <td>0.005</td>\n",
              "      <td>LeastAbsoluteDeviation</td>\n",
              "      <td>4.0</td>\n",
              "      <td>200.0</td>\n",
              "      <td>0.076999</td>\n",
              "      <td>0.151398</td>\n",
              "      <td>0.5</td>\n",
              "    </tr>\n",
              "    <tr>\n",
              "      <th>3</th>\n",
              "      <td>0.001</td>\n",
              "      <td>LeastAbsoluteDeviation</td>\n",
              "      <td>4.0</td>\n",
              "      <td>100.0</td>\n",
              "      <td>0.075678</td>\n",
              "      <td>0.157036</td>\n",
              "      <td>0.5</td>\n",
              "    </tr>\n",
              "    <tr>\n",
              "      <th>17</th>\n",
              "      <td>0.010</td>\n",
              "      <td>LeastAbsoluteDeviation</td>\n",
              "      <td>4.0</td>\n",
              "      <td>100.0</td>\n",
              "      <td>0.075122</td>\n",
              "      <td>0.152406</td>\n",
              "      <td>0.9</td>\n",
              "    </tr>\n",
              "    <tr>\n",
              "      <th>51</th>\n",
              "      <td>0.001</td>\n",
              "      <td>LeastAbsoluteDeviation</td>\n",
              "      <td>4.0</td>\n",
              "      <td>500.0</td>\n",
              "      <td>0.072180</td>\n",
              "      <td>0.154410</td>\n",
              "      <td>0.9</td>\n",
              "    </tr>\n",
              "    <tr>\n",
              "      <th>28</th>\n",
              "      <td>0.005</td>\n",
              "      <td>LeastAbsoluteDeviation</td>\n",
              "      <td>4.0</td>\n",
              "      <td>200.0</td>\n",
              "      <td>0.071960</td>\n",
              "      <td>0.152105</td>\n",
              "      <td>0.7</td>\n",
              "    </tr>\n",
              "    <tr>\n",
              "      <th>9</th>\n",
              "      <td>0.001</td>\n",
              "      <td>LeastAbsoluteDeviation</td>\n",
              "      <td>4.0</td>\n",
              "      <td>100.0</td>\n",
              "      <td>0.070555</td>\n",
              "      <td>0.157196</td>\n",
              "      <td>0.7</td>\n",
              "    </tr>\n",
              "    <tr>\n",
              "      <th>33</th>\n",
              "      <td>0.001</td>\n",
              "      <td>LeastAbsoluteDeviation</td>\n",
              "      <td>4.0</td>\n",
              "      <td>200.0</td>\n",
              "      <td>0.063468</td>\n",
              "      <td>0.156380</td>\n",
              "      <td>0.9</td>\n",
              "    </tr>\n",
              "    <tr>\n",
              "      <th>11</th>\n",
              "      <td>0.010</td>\n",
              "      <td>LeastAbsoluteDeviation</td>\n",
              "      <td>4.0</td>\n",
              "      <td>100.0</td>\n",
              "      <td>0.063097</td>\n",
              "      <td>0.152501</td>\n",
              "      <td>0.7</td>\n",
              "    </tr>\n",
              "    <tr>\n",
              "      <th>10</th>\n",
              "      <td>0.005</td>\n",
              "      <td>LeastAbsoluteDeviation</td>\n",
              "      <td>4.0</td>\n",
              "      <td>100.0</td>\n",
              "      <td>0.062421</td>\n",
              "      <td>0.154319</td>\n",
              "      <td>0.7</td>\n",
              "    </tr>\n",
              "    <tr>\n",
              "      <th>4</th>\n",
              "      <td>0.005</td>\n",
              "      <td>LeastAbsoluteDeviation</td>\n",
              "      <td>4.0</td>\n",
              "      <td>100.0</td>\n",
              "      <td>0.060014</td>\n",
              "      <td>0.154037</td>\n",
              "      <td>0.5</td>\n",
              "    </tr>\n",
              "    <tr>\n",
              "      <th>29</th>\n",
              "      <td>0.010</td>\n",
              "      <td>LeastAbsoluteDeviation</td>\n",
              "      <td>4.0</td>\n",
              "      <td>200.0</td>\n",
              "      <td>0.056414</td>\n",
              "      <td>0.151182</td>\n",
              "      <td>0.7</td>\n",
              "    </tr>\n",
              "    <tr>\n",
              "      <th>16</th>\n",
              "      <td>0.005</td>\n",
              "      <td>LeastAbsoluteDeviation</td>\n",
              "      <td>4.0</td>\n",
              "      <td>100.0</td>\n",
              "      <td>0.054889</td>\n",
              "      <td>0.154590</td>\n",
              "      <td>0.9</td>\n",
              "    </tr>\n",
              "    <tr>\n",
              "      <th>15</th>\n",
              "      <td>0.001</td>\n",
              "      <td>LeastAbsoluteDeviation</td>\n",
              "      <td>4.0</td>\n",
              "      <td>100.0</td>\n",
              "      <td>0.054058</td>\n",
              "      <td>0.157243</td>\n",
              "      <td>0.9</td>\n",
              "    </tr>\n",
              "    <tr>\n",
              "      <th>23</th>\n",
              "      <td>0.010</td>\n",
              "      <td>LeastAbsoluteDeviation</td>\n",
              "      <td>4.0</td>\n",
              "      <td>200.0</td>\n",
              "      <td>0.048250</td>\n",
              "      <td>0.150713</td>\n",
              "      <td>0.5</td>\n",
              "    </tr>\n",
              "    <tr>\n",
              "      <th>38</th>\n",
              "      <td>0.010</td>\n",
              "      <td>LeastAbsoluteDeviation</td>\n",
              "      <td>2.0</td>\n",
              "      <td>500.0</td>\n",
              "      <td>0.046153</td>\n",
              "      <td>0.150482</td>\n",
              "      <td>0.5</td>\n",
              "    </tr>\n",
              "    <tr>\n",
              "      <th>53</th>\n",
              "      <td>0.010</td>\n",
              "      <td>LeastAbsoluteDeviation</td>\n",
              "      <td>4.0</td>\n",
              "      <td>500.0</td>\n",
              "      <td>0.046074</td>\n",
              "      <td>0.150342</td>\n",
              "      <td>0.9</td>\n",
              "    </tr>\n",
              "    <tr>\n",
              "      <th>44</th>\n",
              "      <td>0.010</td>\n",
              "      <td>LeastAbsoluteDeviation</td>\n",
              "      <td>2.0</td>\n",
              "      <td>500.0</td>\n",
              "      <td>0.044486</td>\n",
              "      <td>0.151555</td>\n",
              "      <td>0.7</td>\n",
              "    </tr>\n",
              "    <tr>\n",
              "      <th>46</th>\n",
              "      <td>0.005</td>\n",
              "      <td>LeastAbsoluteDeviation</td>\n",
              "      <td>4.0</td>\n",
              "      <td>500.0</td>\n",
              "      <td>0.036051</td>\n",
              "      <td>0.151508</td>\n",
              "      <td>0.7</td>\n",
              "    </tr>\n",
              "    <tr>\n",
              "      <th>47</th>\n",
              "      <td>0.010</td>\n",
              "      <td>LeastAbsoluteDeviation</td>\n",
              "      <td>4.0</td>\n",
              "      <td>500.0</td>\n",
              "      <td>0.024891</td>\n",
              "      <td>0.151006</td>\n",
              "      <td>0.7</td>\n",
              "    </tr>\n",
              "    <tr>\n",
              "      <th>40</th>\n",
              "      <td>0.005</td>\n",
              "      <td>LeastAbsoluteDeviation</td>\n",
              "      <td>4.0</td>\n",
              "      <td>500.0</td>\n",
              "      <td>0.023744</td>\n",
              "      <td>0.151392</td>\n",
              "      <td>0.5</td>\n",
              "    </tr>\n",
              "    <tr>\n",
              "      <th>41</th>\n",
              "      <td>0.010</td>\n",
              "      <td>LeastAbsoluteDeviation</td>\n",
              "      <td>4.0</td>\n",
              "      <td>500.0</td>\n",
              "      <td>0.023076</td>\n",
              "      <td>0.150920</td>\n",
              "      <td>0.5</td>\n",
              "    </tr>\n",
              "  </tbody>\n",
              "</table>\n",
              "</div>"
            ],
            "text/plain": [
              "    learning_rate                    loss  ...      rmse  sampling_rate\n",
              "18          0.001  LeastAbsoluteDeviation  ...  0.155610            0.5\n",
              "0           0.001  LeastAbsoluteDeviation  ...  0.156771            0.5\n",
              "1           0.005  LeastAbsoluteDeviation  ...  0.152468            0.5\n",
              "36          0.001  LeastAbsoluteDeviation  ...  0.152834            0.5\n",
              "2           0.010  LeastAbsoluteDeviation  ...  0.149960            0.5\n",
              "42          0.001  LeastAbsoluteDeviation  ...  0.153531            0.7\n",
              "24          0.001  LeastAbsoluteDeviation  ...  0.155983            0.7\n",
              "19          0.005  LeastAbsoluteDeviation  ...  0.150298            0.5\n",
              "6           0.001  LeastAbsoluteDeviation  ...  0.157010            0.7\n",
              "7           0.005  LeastAbsoluteDeviation  ...  0.153609            0.7\n",
              "25          0.005  LeastAbsoluteDeviation  ...  0.151514            0.7\n",
              "8           0.010  LeastAbsoluteDeviation  ...  0.151591            0.7\n",
              "20          0.010  LeastAbsoluteDeviation  ...  0.148802            0.5\n",
              "48          0.001  LeastAbsoluteDeviation  ...  0.154357            0.9\n",
              "14          0.010  LeastAbsoluteDeviation  ...  0.153122            0.9\n",
              "13          0.005  LeastAbsoluteDeviation  ...  0.154394            0.9\n",
              "30          0.001  LeastAbsoluteDeviation  ...  0.156286            0.9\n",
              "31          0.005  LeastAbsoluteDeviation  ...  0.153182            0.9\n",
              "12          0.001  LeastAbsoluteDeviation  ...  0.157208            0.9\n",
              "43          0.005  LeastAbsoluteDeviation  ...  0.150645            0.7\n",
              "26          0.010  LeastAbsoluteDeviation  ...  0.150918            0.7\n",
              "32          0.010  LeastAbsoluteDeviation  ...  0.152169            0.9\n",
              "21          0.001  LeastAbsoluteDeviation  ...  0.155848            0.5\n",
              "37          0.005  LeastAbsoluteDeviation  ...  0.149523            0.5\n",
              "39          0.001  LeastAbsoluteDeviation  ...  0.153284            0.5\n",
              "45          0.001  LeastAbsoluteDeviation  ...  0.153864            0.7\n",
              "49          0.005  LeastAbsoluteDeviation  ...  0.152080            0.9\n",
              "27          0.001  LeastAbsoluteDeviation  ...  0.156090            0.7\n",
              "5           0.010  LeastAbsoluteDeviation  ...  0.151113            0.5\n",
              "35          0.010  LeastAbsoluteDeviation  ...  0.150783            0.9\n",
              "52          0.005  LeastAbsoluteDeviation  ...  0.150731            0.9\n",
              "34          0.005  LeastAbsoluteDeviation  ...  0.152518            0.9\n",
              "50          0.010  LeastAbsoluteDeviation  ...  0.151950            0.9\n",
              "22          0.005  LeastAbsoluteDeviation  ...  0.151398            0.5\n",
              "3           0.001  LeastAbsoluteDeviation  ...  0.157036            0.5\n",
              "17          0.010  LeastAbsoluteDeviation  ...  0.152406            0.9\n",
              "51          0.001  LeastAbsoluteDeviation  ...  0.154410            0.9\n",
              "28          0.005  LeastAbsoluteDeviation  ...  0.152105            0.7\n",
              "9           0.001  LeastAbsoluteDeviation  ...  0.157196            0.7\n",
              "33          0.001  LeastAbsoluteDeviation  ...  0.156380            0.9\n",
              "11          0.010  LeastAbsoluteDeviation  ...  0.152501            0.7\n",
              "10          0.005  LeastAbsoluteDeviation  ...  0.154319            0.7\n",
              "4           0.005  LeastAbsoluteDeviation  ...  0.154037            0.5\n",
              "29          0.010  LeastAbsoluteDeviation  ...  0.151182            0.7\n",
              "16          0.005  LeastAbsoluteDeviation  ...  0.154590            0.9\n",
              "15          0.001  LeastAbsoluteDeviation  ...  0.157243            0.9\n",
              "23          0.010  LeastAbsoluteDeviation  ...  0.150713            0.5\n",
              "38          0.010  LeastAbsoluteDeviation  ...  0.150482            0.5\n",
              "53          0.010  LeastAbsoluteDeviation  ...  0.150342            0.9\n",
              "44          0.010  LeastAbsoluteDeviation  ...  0.151555            0.7\n",
              "46          0.005  LeastAbsoluteDeviation  ...  0.151508            0.7\n",
              "47          0.010  LeastAbsoluteDeviation  ...  0.151006            0.7\n",
              "40          0.005  LeastAbsoluteDeviation  ...  0.151392            0.5\n",
              "41          0.010  LeastAbsoluteDeviation  ...  0.150920            0.5\n",
              "\n",
              "[54 rows x 7 columns]"
            ]
          },
          "metadata": {
            "tags": []
          },
          "execution_count": 145
        }
      ]
    },
    {
      "cell_type": "code",
      "metadata": {
        "colab": {
          "base_uri": "https://localhost:8080/"
        },
        "id": "FzYb0srCryye",
        "outputId": "a407e63f-f385-4d58-c2aa-730fd53eabf9"
      },
      "source": [
        "# Without Hudak AGB 2016 as input\n",
        "run_boosted_grid_search(training, validation, bands, \"frac_change_AGB_live\")"
      ],
      "execution_count": null,
      "outputs": [
        {
          "output_type": "stream",
          "text": [
            "N_trees: 100 || loss: LeastSquares || r-squared: 0.06180051425429168 || rmse: 0.2329074704005871\n",
            "N_trees: 100 || loss: LeastAbsoluteDeviation || r-squared: 0.11512977489983252 || rmse: 0.24714269008985013\n",
            "N_trees: 100 || loss: Huber || r-squared: 0.06302718951531323 || rmse: 0.2469534032856114\n",
            "N_trees: 200 || loss: LeastSquares || r-squared: 0.07188151483454239 || rmse: 0.23098979676002532\n",
            "N_trees: 200 || loss: LeastAbsoluteDeviation || r-squared: 0.12257918711895713 || rmse: 0.238296114054766\n",
            "N_trees: 200 || loss: Huber || r-squared: 0.07223047712865668 || rmse: 0.23946122452239016\n",
            "N_trees: 500 || loss: LeastSquares || r-squared: 0.06992807888405357 || rmse: 0.23326084326771404\n",
            "N_trees: 500 || loss: LeastAbsoluteDeviation || r-squared: 0.10740421649155739 || rmse: 0.2312250466049165\n",
            "N_trees: 500 || loss: Huber || r-squared: 0.0808789950083201 || rmse: 0.23537509266655232\n"
          ],
          "name": "stdout"
        }
      ]
    },
    {
      "cell_type": "code",
      "metadata": {
        "id": "hmicF7rGLdu-"
      },
      "source": [
        "model = ee.Classifier.smileGradientTreeBoost(200, seed=42).setOutputMode(\"REGRESSION\").train(training, \"frac_change_AGB_live\", bands)"
      ],
      "execution_count": null,
      "outputs": []
    },
    {
      "cell_type": "code",
      "metadata": {
        "id": "-69r0r4jMGzf"
      },
      "source": [
        "holdout = validation.classify(model, \"predicted\")"
      ],
      "execution_count": null,
      "outputs": []
    },
    {
      "cell_type": "code",
      "metadata": {
        "id": "ItGyiAGGNGDS"
      },
      "source": [
        "test = holdout.select([\"predicted\", \"frac_change_AGB_live\"]).getInfo()"
      ],
      "execution_count": null,
      "outputs": []
    },
    {
      "cell_type": "code",
      "metadata": {
        "id": "CU-wCCuIhoej"
      },
      "source": [
        "actual = [x[\"properties\"][\"frac_change_AGB_live\"] for x in test[\"features\"]]\n",
        "predicted = [x[\"properties\"][\"predicted\"] for x in test[\"features\"]]"
      ],
      "execution_count": null,
      "outputs": []
    },
    {
      "cell_type": "code",
      "metadata": {
        "id": "DPj1b_1bjTRY"
      },
      "source": [
        "corr_matrix = np.corrcoef(actual, predicted)\n",
        "corr_xy = corr_matrix[0, 1]\n",
        "r_squared = corr_xy**2"
      ],
      "execution_count": null,
      "outputs": []
    },
    {
      "cell_type": "code",
      "metadata": {
        "colab": {
          "base_uri": "https://localhost:8080/"
        },
        "id": "2ba_9U94jpf5",
        "outputId": "2b113674-1886-4a13-a766-3ba6b7456f15"
      },
      "source": [
        "print(r_squared)"
      ],
      "execution_count": null,
      "outputs": [
        {
          "output_type": "stream",
          "text": [
            "0.15356861319861204\n"
          ],
          "name": "stdout"
        }
      ]
    },
    {
      "cell_type": "code",
      "metadata": {
        "colab": {
          "base_uri": "https://localhost:8080/"
        },
        "id": "paHdTVu7kPj1",
        "outputId": "b8163e0c-4490-4c63-88a2-ef71442eb4cc"
      },
      "source": [
        "print(np.sqrt(np.mean((np.array(predicted) - np.array(actual)) ** 2)))"
      ],
      "execution_count": null,
      "outputs": [
        {
          "output_type": "stream",
          "text": [
            "0.25319489496533926\n"
          ],
          "name": "stdout"
        }
      ]
    },
    {
      "cell_type": "code",
      "metadata": {
        "colab": {
          "base_uri": "https://localhost:8080/"
        },
        "id": "x531DWx6MNUQ",
        "outputId": "e7cb0c09-130c-4e78-89d6-78c368f9e8b8"
      },
      "source": [
        "print(model.mode().getInfo())"
      ],
      "execution_count": null,
      "outputs": [
        {
          "output_type": "stream",
          "text": [
            "REGRESSION\n"
          ],
          "name": "stdout"
        }
      ]
    },
    {
      "cell_type": "code",
      "metadata": {
        "colab": {
          "base_uri": "https://localhost:8080/"
        },
        "id": "JzeEW1iGpcOS",
        "outputId": "6f51bfad-38f3-4ae4-c9f4-5356aba917c3"
      },
      "source": [
        "print(ndvi_jan2020.reduceRegion(ee.Reducer.minMax(), aoi, 300).getInfo())\n",
        "print(ndvi_jul2020.reduceRegion(ee.Reducer.minMax(), aoi, 300).getInfo())"
      ],
      "execution_count": null,
      "outputs": [
        {
          "output_type": "stream",
          "text": [
            "{'NDVI_max': 0.9916839916839917, 'NDVI_min': 0.026124004933288484}\n",
            "{'NDVI_max': 0.9236396890717878, 'NDVI_min': 0.2605105105105105}\n"
          ],
          "name": "stdout"
        }
      ]
    },
    {
      "cell_type": "code",
      "metadata": {
        "colab": {
          "base_uri": "https://localhost:8080/"
        },
        "id": "sHTEvOAqhUeC",
        "outputId": "d8636da4-a500-4a0e-b5b0-6064ff285896"
      },
      "source": [
        "print(gedi_features.mask().reduceRegion(ee.Reducer.sum(), aoi, 300).getInfo())"
      ],
      "execution_count": null,
      "outputs": [
        {
          "output_type": "stream",
          "text": [
            "{'canopy_avg': 303, 'canopy_max': 303, 'canopy_min': 303, 'canopy_p10': 303, 'canopy_p25': 303, 'canopy_p50': 303, 'canopy_p75': 303, 'canopy_p90': 303, 'canopy_std': 303, 'd01': 303, 'd02': 303, 'd03': 303, 'd04': 303, 'dns': 303}\n"
          ],
          "name": "stdout"
        }
      ]
    },
    {
      "cell_type": "code",
      "metadata": {
        "colab": {
          "base_uri": "https://localhost:8080/"
        },
        "id": "8fi2DcBEf23H",
        "outputId": "b4a4deca-d498-40c1-8141-46604c3b86d9"
      },
      "source": [
        "print(hudak_site_images_2031.select('frac_change_AGB_live').mask().reduceRegion(ee.Reducer.sum(), aoi, 300).getInfo())"
      ],
      "execution_count": null,
      "outputs": [
        {
          "output_type": "stream",
          "text": [
            "{'frac_change_AGB_live': 444}\n"
          ],
          "name": "stdout"
        }
      ]
    },
    {
      "cell_type": "code",
      "metadata": {
        "colab": {
          "base_uri": "https://localhost:8080/"
        },
        "id": "wC3Ot3w1Phkx",
        "outputId": "862e480f-fcd8-4a3d-f639-1cf38c10123c"
      },
      "source": [
        "print(hudak_sites_fc.filterBounds(aoi).aggregate_count_distinct(\"StandID\").getInfo())"
      ],
      "execution_count": null,
      "outputs": [
        {
          "output_type": "stream",
          "text": [
            "458\n"
          ],
          "name": "stdout"
        }
      ]
    },
    {
      "cell_type": "code",
      "metadata": {
        "id": "4bWKd2MCiB4k"
      },
      "source": [
        "hudak_stand_data = pd.read_csv(\"combined_hudak_stand_data.csv\")\n",
        "plot_data = pd.read_csv(\"PlotData.csv\")"
      ],
      "execution_count": null,
      "outputs": []
    },
    {
      "cell_type": "code",
      "metadata": {
        "colab": {
          "base_uri": "https://localhost:8080/",
          "height": 224
        },
        "id": "OYDrtdx9lBzH",
        "outputId": "7911b9ec-fadf-45e0-9b2d-ab19de5d8180"
      },
      "source": [
        "plot_data.head()"
      ],
      "execution_count": null,
      "outputs": [
        {
          "output_type": "execute_result",
          "data": {
            "text/html": [
              "<div>\n",
              "<style scoped>\n",
              "    .dataframe tbody tr th:only-of-type {\n",
              "        vertical-align: middle;\n",
              "    }\n",
              "\n",
              "    .dataframe tbody tr th {\n",
              "        vertical-align: top;\n",
              "    }\n",
              "\n",
              "    .dataframe thead th {\n",
              "        text-align: right;\n",
              "    }\n",
              "</style>\n",
              "<table border=\"1\" class=\"dataframe\">\n",
              "  <thead>\n",
              "    <tr style=\"text-align: right;\">\n",
              "      <th></th>\n",
              "      <th>PROJECT</th>\n",
              "      <th>STAND_ID</th>\n",
              "      <th>PLOT_ID</th>\n",
              "      <th>LIDAR_UNIT</th>\n",
              "      <th>LIDAR_YEAR</th>\n",
              "      <th>PLOT_TYPE</th>\n",
              "      <th>VARIANT</th>\n",
              "      <th>INV_YEAR</th>\n",
              "      <th>LATITUDE</th>\n",
              "      <th>LONGITUDE</th>\n",
              "      <th>STATE</th>\n",
              "      <th>COUNTY</th>\n",
              "      <th>REGION</th>\n",
              "      <th>FOREST</th>\n",
              "      <th>DISTRICT</th>\n",
              "      <th>LOCATION</th>\n",
              "      <th>PV_CODE</th>\n",
              "      <th>PV_REF_CODE</th>\n",
              "      <th>AGE</th>\n",
              "      <th>ASPECT</th>\n",
              "      <th>SLOPE</th>\n",
              "      <th>ELEVFT</th>\n",
              "      <th>BASAL_AREA_FACTOR</th>\n",
              "      <th>INV_PLOT_SIZE</th>\n",
              "      <th>BRK_DBH</th>\n",
              "      <th>NUM_PLOTS</th>\n",
              "      <th>NONSTK_PLOTS</th>\n",
              "      <th>SAM_WT</th>\n",
              "      <th>STK_PCNT</th>\n",
              "      <th>DG_TRANS</th>\n",
              "      <th>DG_MEASURE</th>\n",
              "      <th>HTG_TRANS</th>\n",
              "      <th>HTG_MEASURE</th>\n",
              "      <th>MORT_MEASURE</th>\n",
              "      <th>COMMENTS_1</th>\n",
              "      <th>COMMENTS_2</th>\n",
              "      <th>COMMENTS_3</th>\n",
              "      <th>COMMENTS_4</th>\n",
              "    </tr>\n",
              "  </thead>\n",
              "  <tbody>\n",
              "    <tr>\n",
              "      <th>0</th>\n",
              "      <td>USFSR6_FSVeg</td>\n",
              "      <td>060502000020001_0001</td>\n",
              "      <td>NaN</td>\n",
              "      <td>Tulalip</td>\n",
              "      <td>2013</td>\n",
              "      <td>Fixed_Area</td>\n",
              "      <td>WC</td>\n",
              "      <td>2016</td>\n",
              "      <td>48.025538</td>\n",
              "      <td>-121.668052</td>\n",
              "      <td>53.0</td>\n",
              "      <td>61.0</td>\n",
              "      <td>6.0</td>\n",
              "      <td>5.0</td>\n",
              "      <td>2.0</td>\n",
              "      <td>NaN</td>\n",
              "      <td>CHF135</td>\n",
              "      <td>621.0</td>\n",
              "      <td>NaN</td>\n",
              "      <td>71</td>\n",
              "      <td>31</td>\n",
              "      <td>1873</td>\n",
              "      <td>0.0</td>\n",
              "      <td>1.0</td>\n",
              "      <td>999.0</td>\n",
              "      <td>1.0</td>\n",
              "      <td>0.0</td>\n",
              "      <td>NaN</td>\n",
              "      <td>0.54</td>\n",
              "      <td>0.0</td>\n",
              "      <td>5.0</td>\n",
              "      <td>0.0</td>\n",
              "      <td>5.0</td>\n",
              "      <td>5.0</td>\n",
              "      <td>NaN</td>\n",
              "      <td>NaN</td>\n",
              "      <td>NaN</td>\n",
              "      <td>NaN</td>\n",
              "    </tr>\n",
              "    <tr>\n",
              "      <th>1</th>\n",
              "      <td>USFSR6_FSVeg</td>\n",
              "      <td>060502000040001_0001</td>\n",
              "      <td>NaN</td>\n",
              "      <td>Tulalip</td>\n",
              "      <td>2013</td>\n",
              "      <td>Fixed_Area</td>\n",
              "      <td>WC</td>\n",
              "      <td>2016</td>\n",
              "      <td>48.027919</td>\n",
              "      <td>-121.475637</td>\n",
              "      <td>53.0</td>\n",
              "      <td>61.0</td>\n",
              "      <td>6.0</td>\n",
              "      <td>5.0</td>\n",
              "      <td>2.0</td>\n",
              "      <td>NaN</td>\n",
              "      <td>CHF135</td>\n",
              "      <td>621.0</td>\n",
              "      <td>NaN</td>\n",
              "      <td>275</td>\n",
              "      <td>65</td>\n",
              "      <td>2694</td>\n",
              "      <td>0.0</td>\n",
              "      <td>1.0</td>\n",
              "      <td>999.0</td>\n",
              "      <td>1.0</td>\n",
              "      <td>0.0</td>\n",
              "      <td>NaN</td>\n",
              "      <td>1.00</td>\n",
              "      <td>0.0</td>\n",
              "      <td>5.0</td>\n",
              "      <td>0.0</td>\n",
              "      <td>5.0</td>\n",
              "      <td>5.0</td>\n",
              "      <td>NaN</td>\n",
              "      <td>NaN</td>\n",
              "      <td>NaN</td>\n",
              "      <td>NaN</td>\n",
              "    </tr>\n",
              "    <tr>\n",
              "      <th>2</th>\n",
              "      <td>USFSR6_FSVeg</td>\n",
              "      <td>060502000050001_0001</td>\n",
              "      <td>NaN</td>\n",
              "      <td>Tulalip</td>\n",
              "      <td>2013</td>\n",
              "      <td>Fixed_Area</td>\n",
              "      <td>WC</td>\n",
              "      <td>2016</td>\n",
              "      <td>48.037383</td>\n",
              "      <td>-121.696034</td>\n",
              "      <td>53.0</td>\n",
              "      <td>61.0</td>\n",
              "      <td>6.0</td>\n",
              "      <td>5.0</td>\n",
              "      <td>2.0</td>\n",
              "      <td>NaN</td>\n",
              "      <td>CHF135</td>\n",
              "      <td>621.0</td>\n",
              "      <td>NaN</td>\n",
              "      <td>38</td>\n",
              "      <td>23</td>\n",
              "      <td>2753</td>\n",
              "      <td>0.0</td>\n",
              "      <td>1.0</td>\n",
              "      <td>999.0</td>\n",
              "      <td>1.0</td>\n",
              "      <td>0.0</td>\n",
              "      <td>NaN</td>\n",
              "      <td>0.90</td>\n",
              "      <td>0.0</td>\n",
              "      <td>5.0</td>\n",
              "      <td>0.0</td>\n",
              "      <td>5.0</td>\n",
              "      <td>5.0</td>\n",
              "      <td>NaN</td>\n",
              "      <td>NaN</td>\n",
              "      <td>NaN</td>\n",
              "      <td>NaN</td>\n",
              "    </tr>\n",
              "    <tr>\n",
              "      <th>3</th>\n",
              "      <td>USFSR6_FSVeg</td>\n",
              "      <td>060502000060001_0001</td>\n",
              "      <td>NaN</td>\n",
              "      <td>Tulalip</td>\n",
              "      <td>2013</td>\n",
              "      <td>Fixed_Area</td>\n",
              "      <td>WC</td>\n",
              "      <td>2016</td>\n",
              "      <td>48.037724</td>\n",
              "      <td>-121.668653</td>\n",
              "      <td>53.0</td>\n",
              "      <td>61.0</td>\n",
              "      <td>6.0</td>\n",
              "      <td>5.0</td>\n",
              "      <td>2.0</td>\n",
              "      <td>NaN</td>\n",
              "      <td>CHF135</td>\n",
              "      <td>621.0</td>\n",
              "      <td>NaN</td>\n",
              "      <td>238</td>\n",
              "      <td>65</td>\n",
              "      <td>1923</td>\n",
              "      <td>0.0</td>\n",
              "      <td>1.0</td>\n",
              "      <td>999.0</td>\n",
              "      <td>1.0</td>\n",
              "      <td>0.0</td>\n",
              "      <td>NaN</td>\n",
              "      <td>1.00</td>\n",
              "      <td>0.0</td>\n",
              "      <td>5.0</td>\n",
              "      <td>0.0</td>\n",
              "      <td>5.0</td>\n",
              "      <td>5.0</td>\n",
              "      <td>NaN</td>\n",
              "      <td>NaN</td>\n",
              "      <td>NaN</td>\n",
              "      <td>NaN</td>\n",
              "    </tr>\n",
              "    <tr>\n",
              "      <th>4</th>\n",
              "      <td>USFSR6_FSVeg</td>\n",
              "      <td>060502000070001_0001</td>\n",
              "      <td>NaN</td>\n",
              "      <td>Tulalip</td>\n",
              "      <td>2013</td>\n",
              "      <td>Fixed_Area</td>\n",
              "      <td>WC</td>\n",
              "      <td>2016</td>\n",
              "      <td>48.038081</td>\n",
              "      <td>-121.641048</td>\n",
              "      <td>53.0</td>\n",
              "      <td>61.0</td>\n",
              "      <td>6.0</td>\n",
              "      <td>5.0</td>\n",
              "      <td>2.0</td>\n",
              "      <td>NaN</td>\n",
              "      <td>CHF135</td>\n",
              "      <td>621.0</td>\n",
              "      <td>NaN</td>\n",
              "      <td>333</td>\n",
              "      <td>46</td>\n",
              "      <td>3114</td>\n",
              "      <td>0.0</td>\n",
              "      <td>1.0</td>\n",
              "      <td>999.0</td>\n",
              "      <td>1.0</td>\n",
              "      <td>0.0</td>\n",
              "      <td>NaN</td>\n",
              "      <td>1.00</td>\n",
              "      <td>0.0</td>\n",
              "      <td>10.0</td>\n",
              "      <td>0.0</td>\n",
              "      <td>5.0</td>\n",
              "      <td>5.0</td>\n",
              "      <td>NaN</td>\n",
              "      <td>NaN</td>\n",
              "      <td>NaN</td>\n",
              "      <td>NaN</td>\n",
              "    </tr>\n",
              "  </tbody>\n",
              "</table>\n",
              "</div>"
            ],
            "text/plain": [
              "        PROJECT              STAND_ID  PLOT_ID  ... COMMENTS_2  COMMENTS_3 COMMENTS_4\n",
              "0  USFSR6_FSVeg  060502000020001_0001      NaN  ...        NaN         NaN        NaN\n",
              "1  USFSR6_FSVeg  060502000040001_0001      NaN  ...        NaN         NaN        NaN\n",
              "2  USFSR6_FSVeg  060502000050001_0001      NaN  ...        NaN         NaN        NaN\n",
              "3  USFSR6_FSVeg  060502000060001_0001      NaN  ...        NaN         NaN        NaN\n",
              "4  USFSR6_FSVeg  060502000070001_0001      NaN  ...        NaN         NaN        NaN\n",
              "\n",
              "[5 rows x 38 columns]"
            ]
          },
          "metadata": {
            "tags": []
          },
          "execution_count": 16
        }
      ]
    },
    {
      "cell_type": "code",
      "metadata": {
        "id": "fIC5JHQmeahv"
      },
      "source": [
        "agb_2021 = hudak_stand_data[hudak_stand_data.Year == 2021].drop(\"Year\", axis=\"columns\")"
      ],
      "execution_count": null,
      "outputs": []
    },
    {
      "cell_type": "code",
      "metadata": {
        "id": "XU-9CbVZf09-"
      },
      "source": [
        "merged = pd.merge(hudak_stand_data, agb_2021, on=[\"StandID\", \"LATITUDE\", \"LONGITUDE\"])"
      ],
      "execution_count": null,
      "outputs": []
    },
    {
      "cell_type": "code",
      "metadata": {
        "id": "fKKDSKE9gbcq"
      },
      "source": [
        "merged[\"delta_AGB_live\"] = merged.Aboveground_Total_Live_x - merged.Aboveground_Total_Live_y\n",
        "merged[\"delta_AGB_total\"] = merged.Total_Stand_Carbon_x - merged.Total_Stand_Carbon_y\n",
        "merged[\"frac_change_AGB_live\"] = merged.delta_AGB_live / merged.Aboveground_Total_Live_y \n",
        "merged[\"frac_change_AGB_total\"] = merged.delta_AGB_total / merged.Total_Stand_Carbon_y"
      ],
      "execution_count": null,
      "outputs": []
    },
    {
      "cell_type": "code",
      "metadata": {
        "colab": {
          "base_uri": "https://localhost:8080/",
          "height": 142
        },
        "id": "-D_GjSBeEd_C",
        "outputId": "a60218a1-a906-443e-c5d1-6a8318f231c9"
      },
      "source": [
        "merged.groupby(\"Year\").agg({\"delta_AGB_live\": \"mean\", \"delta_AGB_total\": \"mean\", \"frac_change_AGB_live\": \"mean\", \"frac_change_AGB_total\": \"mean\"})"
      ],
      "execution_count": null,
      "outputs": [
        {
          "output_type": "execute_result",
          "data": {
            "text/html": [
              "<div>\n",
              "<style scoped>\n",
              "    .dataframe tbody tr th:only-of-type {\n",
              "        vertical-align: middle;\n",
              "    }\n",
              "\n",
              "    .dataframe tbody tr th {\n",
              "        vertical-align: top;\n",
              "    }\n",
              "\n",
              "    .dataframe thead th {\n",
              "        text-align: right;\n",
              "    }\n",
              "</style>\n",
              "<table border=\"1\" class=\"dataframe\">\n",
              "  <thead>\n",
              "    <tr style=\"text-align: right;\">\n",
              "      <th></th>\n",
              "      <th>delta_AGB_live</th>\n",
              "      <th>delta_AGB_total</th>\n",
              "      <th>frac_change_AGB_live</th>\n",
              "      <th>frac_change_AGB_total</th>\n",
              "    </tr>\n",
              "    <tr>\n",
              "      <th>Year</th>\n",
              "      <th></th>\n",
              "      <th></th>\n",
              "      <th></th>\n",
              "      <th></th>\n",
              "    </tr>\n",
              "  </thead>\n",
              "  <tbody>\n",
              "    <tr>\n",
              "      <th>2031</th>\n",
              "      <td>11.572351</td>\n",
              "      <td>5.626219</td>\n",
              "      <td>0.162188</td>\n",
              "      <td>0.076955</td>\n",
              "    </tr>\n",
              "    <tr>\n",
              "      <th>2051</th>\n",
              "      <td>28.389304</td>\n",
              "      <td>22.879619</td>\n",
              "      <td>0.429093</td>\n",
              "      <td>0.249151</td>\n",
              "    </tr>\n",
              "  </tbody>\n",
              "</table>\n",
              "</div>"
            ],
            "text/plain": [
              "      delta_AGB_live  ...  frac_change_AGB_total\n",
              "Year                  ...                       \n",
              "2031       11.572351  ...               0.076955\n",
              "2051       28.389304  ...               0.249151\n",
              "\n",
              "[2 rows x 4 columns]"
            ]
          },
          "metadata": {
            "tags": []
          },
          "execution_count": 15
        }
      ]
    },
    {
      "cell_type": "code",
      "metadata": {
        "id": "GCsz6MgHg1Ob"
      },
      "source": [
        "merged = merged[merged.Year.isin([2031, 2051])]"
      ],
      "execution_count": null,
      "outputs": []
    },
    {
      "cell_type": "code",
      "metadata": {
        "id": "a054G8dZEueX"
      },
      "source": [
        "df = pd.merge(merged, plot_data, left_on=[\"StandID\", \"LATITUDE\", \"LONGITUDE\"], right_on=[\"STAND_ID\", \"LATITUDE\", \"LONGITUDE\"])"
      ],
      "execution_count": null,
      "outputs": []
    },
    {
      "cell_type": "code",
      "metadata": {
        "colab": {
          "base_uri": "https://localhost:8080/",
          "height": 224
        },
        "id": "olcssGIoJItn",
        "outputId": "0fd97767-14aa-4d76-c71d-20cfefe1c4b4"
      },
      "source": [
        "merged.head()"
      ],
      "execution_count": null,
      "outputs": [
        {
          "output_type": "execute_result",
          "data": {
            "text/html": [
              "<div>\n",
              "<style scoped>\n",
              "    .dataframe tbody tr th:only-of-type {\n",
              "        vertical-align: middle;\n",
              "    }\n",
              "\n",
              "    .dataframe tbody tr th {\n",
              "        vertical-align: top;\n",
              "    }\n",
              "\n",
              "    .dataframe thead th {\n",
              "        text-align: right;\n",
              "    }\n",
              "</style>\n",
              "<table border=\"1\" class=\"dataframe\">\n",
              "  <thead>\n",
              "    <tr style=\"text-align: right;\">\n",
              "      <th></th>\n",
              "      <th>MgmtID_x</th>\n",
              "      <th>StandID</th>\n",
              "      <th>Year</th>\n",
              "      <th>Aboveground_Total_Live_x</th>\n",
              "      <th>Aboveground_Merch_Live_x</th>\n",
              "      <th>Belowground_Live_x</th>\n",
              "      <th>Belowground_Dead_x</th>\n",
              "      <th>Standing_Dead_x</th>\n",
              "      <th>Forest_Down_Dead_Wood_x</th>\n",
              "      <th>Forest_Floor_x</th>\n",
              "      <th>Forest_Shrub_Herb_x</th>\n",
              "      <th>Total_Stand_Carbon_x</th>\n",
              "      <th>Total_Removed_Carbon_x</th>\n",
              "      <th>RunTitle_x</th>\n",
              "      <th>LATITUDE</th>\n",
              "      <th>LONGITUDE</th>\n",
              "      <th>MgmtID_y</th>\n",
              "      <th>Aboveground_Total_Live_y</th>\n",
              "      <th>Aboveground_Merch_Live_y</th>\n",
              "      <th>Belowground_Live_y</th>\n",
              "      <th>Belowground_Dead_y</th>\n",
              "      <th>Standing_Dead_y</th>\n",
              "      <th>Forest_Down_Dead_Wood_y</th>\n",
              "      <th>Forest_Floor_y</th>\n",
              "      <th>Forest_Shrub_Herb_y</th>\n",
              "      <th>Total_Stand_Carbon_y</th>\n",
              "      <th>Total_Removed_Carbon_y</th>\n",
              "      <th>RunTitle_y</th>\n",
              "      <th>delta_AGB_live</th>\n",
              "      <th>delta_AGB_total</th>\n",
              "      <th>frac_change_AGB_live</th>\n",
              "      <th>frac_change_AGB_total</th>\n",
              "    </tr>\n",
              "  </thead>\n",
              "  <tbody>\n",
              "    <tr>\n",
              "      <th>3</th>\n",
              "      <td>A009</td>\n",
              "      <td>CoosBay_101_01</td>\n",
              "      <td>2031</td>\n",
              "      <td>193.166183</td>\n",
              "      <td>182.171799</td>\n",
              "      <td>83.177101</td>\n",
              "      <td>92.069321</td>\n",
              "      <td>395.990723</td>\n",
              "      <td>61.748306</td>\n",
              "      <td>13.619035</td>\n",
              "      <td>0.438048</td>\n",
              "      <td>840.208679</td>\n",
              "      <td>0</td>\n",
              "      <td>Run 9</td>\n",
              "      <td>42.990002</td>\n",
              "      <td>-123.800528</td>\n",
              "      <td>A009</td>\n",
              "      <td>226.832886</td>\n",
              "      <td>214.583954</td>\n",
              "      <td>96.988709</td>\n",
              "      <td>118.004913</td>\n",
              "      <td>399.597931</td>\n",
              "      <td>34.028915</td>\n",
              "      <td>16.281956</td>\n",
              "      <td>0.300685</td>\n",
              "      <td>892.036011</td>\n",
              "      <td>0</td>\n",
              "      <td>Run 9</td>\n",
              "      <td>-33.666702</td>\n",
              "      <td>-51.827332</td>\n",
              "      <td>-0.148421</td>\n",
              "      <td>-0.058100</td>\n",
              "    </tr>\n",
              "    <tr>\n",
              "      <th>5</th>\n",
              "      <td>A009</td>\n",
              "      <td>CoosBay_101_01</td>\n",
              "      <td>2051</td>\n",
              "      <td>194.398010</td>\n",
              "      <td>184.221390</td>\n",
              "      <td>83.878418</td>\n",
              "      <td>40.691887</td>\n",
              "      <td>348.082428</td>\n",
              "      <td>81.401436</td>\n",
              "      <td>13.658746</td>\n",
              "      <td>0.496693</td>\n",
              "      <td>762.607666</td>\n",
              "      <td>0</td>\n",
              "      <td>Run 9</td>\n",
              "      <td>42.990002</td>\n",
              "      <td>-123.800528</td>\n",
              "      <td>A009</td>\n",
              "      <td>226.832886</td>\n",
              "      <td>214.583954</td>\n",
              "      <td>96.988709</td>\n",
              "      <td>118.004913</td>\n",
              "      <td>399.597931</td>\n",
              "      <td>34.028915</td>\n",
              "      <td>16.281956</td>\n",
              "      <td>0.300685</td>\n",
              "      <td>892.036011</td>\n",
              "      <td>0</td>\n",
              "      <td>Run 9</td>\n",
              "      <td>-32.434875</td>\n",
              "      <td>-129.428345</td>\n",
              "      <td>-0.142990</td>\n",
              "      <td>-0.145093</td>\n",
              "    </tr>\n",
              "    <tr>\n",
              "      <th>15</th>\n",
              "      <td>A009</td>\n",
              "      <td>CoosBay_101_03</td>\n",
              "      <td>2031</td>\n",
              "      <td>323.896545</td>\n",
              "      <td>297.460785</td>\n",
              "      <td>86.654762</td>\n",
              "      <td>59.787716</td>\n",
              "      <td>261.603302</td>\n",
              "      <td>58.613071</td>\n",
              "      <td>14.447535</td>\n",
              "      <td>0.200000</td>\n",
              "      <td>805.202942</td>\n",
              "      <td>0</td>\n",
              "      <td>Run 9</td>\n",
              "      <td>43.251176</td>\n",
              "      <td>-123.904846</td>\n",
              "      <td>A009</td>\n",
              "      <td>340.401550</td>\n",
              "      <td>313.068024</td>\n",
              "      <td>92.602470</td>\n",
              "      <td>76.375282</td>\n",
              "      <td>278.145325</td>\n",
              "      <td>32.954269</td>\n",
              "      <td>17.116972</td>\n",
              "      <td>0.200000</td>\n",
              "      <td>837.795898</td>\n",
              "      <td>0</td>\n",
              "      <td>Run 9</td>\n",
              "      <td>-16.505005</td>\n",
              "      <td>-32.592957</td>\n",
              "      <td>-0.048487</td>\n",
              "      <td>-0.038903</td>\n",
              "    </tr>\n",
              "    <tr>\n",
              "      <th>17</th>\n",
              "      <td>A009</td>\n",
              "      <td>CoosBay_101_03</td>\n",
              "      <td>2051</td>\n",
              "      <td>317.491425</td>\n",
              "      <td>294.868927</td>\n",
              "      <td>84.676468</td>\n",
              "      <td>32.735943</td>\n",
              "      <td>239.334549</td>\n",
              "      <td>71.476341</td>\n",
              "      <td>14.567350</td>\n",
              "      <td>0.200000</td>\n",
              "      <td>760.482056</td>\n",
              "      <td>0</td>\n",
              "      <td>Run 9</td>\n",
              "      <td>43.251176</td>\n",
              "      <td>-123.904846</td>\n",
              "      <td>A009</td>\n",
              "      <td>340.401550</td>\n",
              "      <td>313.068024</td>\n",
              "      <td>92.602470</td>\n",
              "      <td>76.375282</td>\n",
              "      <td>278.145325</td>\n",
              "      <td>32.954269</td>\n",
              "      <td>17.116972</td>\n",
              "      <td>0.200000</td>\n",
              "      <td>837.795898</td>\n",
              "      <td>0</td>\n",
              "      <td>Run 9</td>\n",
              "      <td>-22.910126</td>\n",
              "      <td>-77.313843</td>\n",
              "      <td>-0.067303</td>\n",
              "      <td>-0.092282</td>\n",
              "    </tr>\n",
              "    <tr>\n",
              "      <th>27</th>\n",
              "      <td>A009</td>\n",
              "      <td>CoosBay_101_04</td>\n",
              "      <td>2031</td>\n",
              "      <td>244.136566</td>\n",
              "      <td>223.369171</td>\n",
              "      <td>68.119621</td>\n",
              "      <td>10.887504</td>\n",
              "      <td>49.169796</td>\n",
              "      <td>30.640354</td>\n",
              "      <td>13.932786</td>\n",
              "      <td>0.200000</td>\n",
              "      <td>417.086670</td>\n",
              "      <td>0</td>\n",
              "      <td>Run 9</td>\n",
              "      <td>43.546825</td>\n",
              "      <td>-123.699342</td>\n",
              "      <td>A009</td>\n",
              "      <td>243.326248</td>\n",
              "      <td>221.705109</td>\n",
              "      <td>67.179680</td>\n",
              "      <td>14.188003</td>\n",
              "      <td>58.779743</td>\n",
              "      <td>25.167381</td>\n",
              "      <td>14.525542</td>\n",
              "      <td>0.200000</td>\n",
              "      <td>423.366608</td>\n",
              "      <td>0</td>\n",
              "      <td>Run 9</td>\n",
              "      <td>0.810318</td>\n",
              "      <td>-6.279938</td>\n",
              "      <td>0.003330</td>\n",
              "      <td>-0.014833</td>\n",
              "    </tr>\n",
              "  </tbody>\n",
              "</table>\n",
              "</div>"
            ],
            "text/plain": [
              "   MgmtID_x         StandID  ...  frac_change_AGB_live  frac_change_AGB_total\n",
              "3      A009  CoosBay_101_01  ...             -0.148421              -0.058100\n",
              "5      A009  CoosBay_101_01  ...             -0.142990              -0.145093\n",
              "15     A009  CoosBay_101_03  ...             -0.048487              -0.038903\n",
              "17     A009  CoosBay_101_03  ...             -0.067303              -0.092282\n",
              "27     A009  CoosBay_101_04  ...              0.003330              -0.014833\n",
              "\n",
              "[5 rows x 32 columns]"
            ]
          },
          "metadata": {
            "tags": []
          },
          "execution_count": 14
        }
      ]
    },
    {
      "cell_type": "code",
      "metadata": {
        "colab": {
          "base_uri": "https://localhost:8080/",
          "height": 142
        },
        "id": "DS2-vl3yFLE8",
        "outputId": "a9582a38-ea2f-44c7-a896-9a9653050d50"
      },
      "source": [
        "merged.groupby(\"Year\").agg({\"delta_AGB_live\": \"mean\", \"delta_AGB_total\": \"mean\"})"
      ],
      "execution_count": null,
      "outputs": [
        {
          "output_type": "execute_result",
          "data": {
            "text/html": [
              "<div>\n",
              "<style scoped>\n",
              "    .dataframe tbody tr th:only-of-type {\n",
              "        vertical-align: middle;\n",
              "    }\n",
              "\n",
              "    .dataframe tbody tr th {\n",
              "        vertical-align: top;\n",
              "    }\n",
              "\n",
              "    .dataframe thead th {\n",
              "        text-align: right;\n",
              "    }\n",
              "</style>\n",
              "<table border=\"1\" class=\"dataframe\">\n",
              "  <thead>\n",
              "    <tr style=\"text-align: right;\">\n",
              "      <th></th>\n",
              "      <th>delta_AGB_live</th>\n",
              "      <th>delta_AGB_total</th>\n",
              "    </tr>\n",
              "    <tr>\n",
              "      <th>Year</th>\n",
              "      <th></th>\n",
              "      <th></th>\n",
              "    </tr>\n",
              "  </thead>\n",
              "  <tbody>\n",
              "    <tr>\n",
              "      <th>2031</th>\n",
              "      <td>11.572351</td>\n",
              "      <td>5.626219</td>\n",
              "    </tr>\n",
              "    <tr>\n",
              "      <th>2051</th>\n",
              "      <td>28.389304</td>\n",
              "      <td>22.879619</td>\n",
              "    </tr>\n",
              "  </tbody>\n",
              "</table>\n",
              "</div>"
            ],
            "text/plain": [
              "      delta_AGB_live  delta_AGB_total\n",
              "Year                                 \n",
              "2031       11.572351         5.626219\n",
              "2051       28.389304        22.879619"
            ]
          },
          "metadata": {
            "tags": []
          },
          "execution_count": 26
        }
      ]
    },
    {
      "cell_type": "code",
      "metadata": {
        "colab": {
          "base_uri": "https://localhost:8080/"
        },
        "id": "lMpdl7XNFPdQ",
        "outputId": "562aefce-7a58-461a-eb67-c1375f0f5be5"
      },
      "source": [
        "merged.delta_AGB_total.max()"
      ],
      "execution_count": null,
      "outputs": [
        {
          "output_type": "execute_result",
          "data": {
            "text/plain": [
              "169.6044388"
            ]
          },
          "metadata": {
            "tags": []
          },
          "execution_count": 27
        }
      ]
    },
    {
      "cell_type": "code",
      "metadata": {
        "id": "Qw3bVlfog72D"
      },
      "source": [
        "merged = merged[[\"StandID\", \"Year\", \"LATITUDE\", \"LONGITUDE\", \"Aboveground_Total_Live_x\", \"Total_Stand_Carbon_x\", \"delta_AGB_live\", \"delta_AGB_total\", \"frac_change_AGB_live\", \"frac_change_AGB_total\"]]"
      ],
      "execution_count": null,
      "outputs": []
    },
    {
      "cell_type": "code",
      "metadata": {
        "colab": {
          "base_uri": "https://localhost:8080/"
        },
        "id": "OIpat2z_hZSn",
        "outputId": "c77d8085-da91-40b6-9122-041f4f7fb2b7"
      },
      "source": [
        "merged.delta_AGB_total.max()"
      ],
      "execution_count": null,
      "outputs": [
        {
          "output_type": "execute_result",
          "data": {
            "text/plain": [
              "169.6044388"
            ]
          },
          "metadata": {
            "tags": []
          },
          "execution_count": 29
        }
      ]
    },
    {
      "cell_type": "code",
      "metadata": {
        "colab": {
          "base_uri": "https://localhost:8080/",
          "height": 204
        },
        "id": "ypwqp54mG5OY",
        "outputId": "d65ed092-e3ff-4e4b-823f-b272ac10426a"
      },
      "source": [
        "merged.head()"
      ],
      "execution_count": null,
      "outputs": [
        {
          "output_type": "execute_result",
          "data": {
            "text/html": [
              "<div>\n",
              "<style scoped>\n",
              "    .dataframe tbody tr th:only-of-type {\n",
              "        vertical-align: middle;\n",
              "    }\n",
              "\n",
              "    .dataframe tbody tr th {\n",
              "        vertical-align: top;\n",
              "    }\n",
              "\n",
              "    .dataframe thead th {\n",
              "        text-align: right;\n",
              "    }\n",
              "</style>\n",
              "<table border=\"1\" class=\"dataframe\">\n",
              "  <thead>\n",
              "    <tr style=\"text-align: right;\">\n",
              "      <th></th>\n",
              "      <th>StandID</th>\n",
              "      <th>Year</th>\n",
              "      <th>LATITUDE</th>\n",
              "      <th>LONGITUDE</th>\n",
              "      <th>Aboveground_Total_Live_x</th>\n",
              "      <th>Total_Stand_Carbon_x</th>\n",
              "      <th>delta_AGB_live</th>\n",
              "      <th>delta_AGB_total</th>\n",
              "      <th>frac_change_AGB_live</th>\n",
              "      <th>frac_change_AGB_total</th>\n",
              "    </tr>\n",
              "  </thead>\n",
              "  <tbody>\n",
              "    <tr>\n",
              "      <th>3</th>\n",
              "      <td>CoosBay_101_01</td>\n",
              "      <td>2031</td>\n",
              "      <td>42.990002</td>\n",
              "      <td>-123.800528</td>\n",
              "      <td>193.166183</td>\n",
              "      <td>840.208679</td>\n",
              "      <td>-33.666702</td>\n",
              "      <td>-51.827332</td>\n",
              "      <td>-0.148421</td>\n",
              "      <td>-0.058100</td>\n",
              "    </tr>\n",
              "    <tr>\n",
              "      <th>5</th>\n",
              "      <td>CoosBay_101_01</td>\n",
              "      <td>2051</td>\n",
              "      <td>42.990002</td>\n",
              "      <td>-123.800528</td>\n",
              "      <td>194.398010</td>\n",
              "      <td>762.607666</td>\n",
              "      <td>-32.434875</td>\n",
              "      <td>-129.428345</td>\n",
              "      <td>-0.142990</td>\n",
              "      <td>-0.145093</td>\n",
              "    </tr>\n",
              "    <tr>\n",
              "      <th>15</th>\n",
              "      <td>CoosBay_101_03</td>\n",
              "      <td>2031</td>\n",
              "      <td>43.251176</td>\n",
              "      <td>-123.904846</td>\n",
              "      <td>323.896545</td>\n",
              "      <td>805.202942</td>\n",
              "      <td>-16.505005</td>\n",
              "      <td>-32.592957</td>\n",
              "      <td>-0.048487</td>\n",
              "      <td>-0.038903</td>\n",
              "    </tr>\n",
              "    <tr>\n",
              "      <th>17</th>\n",
              "      <td>CoosBay_101_03</td>\n",
              "      <td>2051</td>\n",
              "      <td>43.251176</td>\n",
              "      <td>-123.904846</td>\n",
              "      <td>317.491425</td>\n",
              "      <td>760.482056</td>\n",
              "      <td>-22.910126</td>\n",
              "      <td>-77.313843</td>\n",
              "      <td>-0.067303</td>\n",
              "      <td>-0.092282</td>\n",
              "    </tr>\n",
              "    <tr>\n",
              "      <th>27</th>\n",
              "      <td>CoosBay_101_04</td>\n",
              "      <td>2031</td>\n",
              "      <td>43.546825</td>\n",
              "      <td>-123.699342</td>\n",
              "      <td>244.136566</td>\n",
              "      <td>417.086670</td>\n",
              "      <td>0.810318</td>\n",
              "      <td>-6.279938</td>\n",
              "      <td>0.003330</td>\n",
              "      <td>-0.014833</td>\n",
              "    </tr>\n",
              "  </tbody>\n",
              "</table>\n",
              "</div>"
            ],
            "text/plain": [
              "           StandID  Year  ...  frac_change_AGB_live  frac_change_AGB_total\n",
              "3   CoosBay_101_01  2031  ...             -0.148421              -0.058100\n",
              "5   CoosBay_101_01  2051  ...             -0.142990              -0.145093\n",
              "15  CoosBay_101_03  2031  ...             -0.048487              -0.038903\n",
              "17  CoosBay_101_03  2051  ...             -0.067303              -0.092282\n",
              "27  CoosBay_101_04  2031  ...              0.003330              -0.014833\n",
              "\n",
              "[5 rows x 10 columns]"
            ]
          },
          "metadata": {
            "tags": []
          },
          "execution_count": 40
        }
      ]
    },
    {
      "cell_type": "code",
      "metadata": {
        "id": "ByBkR2v8Ljqp"
      },
      "source": [
        "merged.rename({\"Aboveground_Total_Live_x\": \"AGB_live\", \"Total_Stand_Carbon_x\": \"AGB_total\"}, axis=\"columns\", inplace=True)"
      ],
      "execution_count": null,
      "outputs": []
    },
    {
      "cell_type": "code",
      "metadata": {
        "colab": {
          "base_uri": "https://localhost:8080/",
          "height": 204
        },
        "id": "rHSA7eh6L7Sw",
        "outputId": "e062fdb7-8c8a-41bd-fb65-0e99b7c7c162"
      },
      "source": [
        "merged.head()"
      ],
      "execution_count": null,
      "outputs": [
        {
          "output_type": "execute_result",
          "data": {
            "text/html": [
              "<div>\n",
              "<style scoped>\n",
              "    .dataframe tbody tr th:only-of-type {\n",
              "        vertical-align: middle;\n",
              "    }\n",
              "\n",
              "    .dataframe tbody tr th {\n",
              "        vertical-align: top;\n",
              "    }\n",
              "\n",
              "    .dataframe thead th {\n",
              "        text-align: right;\n",
              "    }\n",
              "</style>\n",
              "<table border=\"1\" class=\"dataframe\">\n",
              "  <thead>\n",
              "    <tr style=\"text-align: right;\">\n",
              "      <th></th>\n",
              "      <th>StandID</th>\n",
              "      <th>Year</th>\n",
              "      <th>LATITUDE</th>\n",
              "      <th>LONGITUDE</th>\n",
              "      <th>AGB_live</th>\n",
              "      <th>AGB_total</th>\n",
              "      <th>delta_AGB_live</th>\n",
              "      <th>delta_AGB_total</th>\n",
              "      <th>frac_change_AGB_live</th>\n",
              "      <th>frac_change_AGB_total</th>\n",
              "    </tr>\n",
              "  </thead>\n",
              "  <tbody>\n",
              "    <tr>\n",
              "      <th>3</th>\n",
              "      <td>CoosBay_101_01</td>\n",
              "      <td>2031</td>\n",
              "      <td>42.990002</td>\n",
              "      <td>-123.800528</td>\n",
              "      <td>193.166183</td>\n",
              "      <td>840.208679</td>\n",
              "      <td>-33.666702</td>\n",
              "      <td>-51.827332</td>\n",
              "      <td>-0.148421</td>\n",
              "      <td>-0.058100</td>\n",
              "    </tr>\n",
              "    <tr>\n",
              "      <th>5</th>\n",
              "      <td>CoosBay_101_01</td>\n",
              "      <td>2051</td>\n",
              "      <td>42.990002</td>\n",
              "      <td>-123.800528</td>\n",
              "      <td>194.398010</td>\n",
              "      <td>762.607666</td>\n",
              "      <td>-32.434875</td>\n",
              "      <td>-129.428345</td>\n",
              "      <td>-0.142990</td>\n",
              "      <td>-0.145093</td>\n",
              "    </tr>\n",
              "    <tr>\n",
              "      <th>15</th>\n",
              "      <td>CoosBay_101_03</td>\n",
              "      <td>2031</td>\n",
              "      <td>43.251176</td>\n",
              "      <td>-123.904846</td>\n",
              "      <td>323.896545</td>\n",
              "      <td>805.202942</td>\n",
              "      <td>-16.505005</td>\n",
              "      <td>-32.592957</td>\n",
              "      <td>-0.048487</td>\n",
              "      <td>-0.038903</td>\n",
              "    </tr>\n",
              "    <tr>\n",
              "      <th>17</th>\n",
              "      <td>CoosBay_101_03</td>\n",
              "      <td>2051</td>\n",
              "      <td>43.251176</td>\n",
              "      <td>-123.904846</td>\n",
              "      <td>317.491425</td>\n",
              "      <td>760.482056</td>\n",
              "      <td>-22.910126</td>\n",
              "      <td>-77.313843</td>\n",
              "      <td>-0.067303</td>\n",
              "      <td>-0.092282</td>\n",
              "    </tr>\n",
              "    <tr>\n",
              "      <th>27</th>\n",
              "      <td>CoosBay_101_04</td>\n",
              "      <td>2031</td>\n",
              "      <td>43.546825</td>\n",
              "      <td>-123.699342</td>\n",
              "      <td>244.136566</td>\n",
              "      <td>417.086670</td>\n",
              "      <td>0.810318</td>\n",
              "      <td>-6.279938</td>\n",
              "      <td>0.003330</td>\n",
              "      <td>-0.014833</td>\n",
              "    </tr>\n",
              "  </tbody>\n",
              "</table>\n",
              "</div>"
            ],
            "text/plain": [
              "           StandID  Year  ...  frac_change_AGB_live  frac_change_AGB_total\n",
              "3   CoosBay_101_01  2031  ...             -0.148421              -0.058100\n",
              "5   CoosBay_101_01  2051  ...             -0.142990              -0.145093\n",
              "15  CoosBay_101_03  2031  ...             -0.048487              -0.038903\n",
              "17  CoosBay_101_03  2051  ...             -0.067303              -0.092282\n",
              "27  CoosBay_101_04  2031  ...              0.003330              -0.014833\n",
              "\n",
              "[5 rows x 10 columns]"
            ]
          },
          "metadata": {
            "tags": []
          },
          "execution_count": 44
        }
      ]
    },
    {
      "cell_type": "code",
      "metadata": {
        "id": "ypPr1JxmMEIr"
      },
      "source": [
        "stands_2031 = merged[merged.Year == 2031].drop(\"Year\", axis=\"columns\")\n",
        "stands_2051 = merged[merged.Year == 2051].drop(\"Year\", axis=\"columns\")"
      ],
      "execution_count": null,
      "outputs": []
    },
    {
      "cell_type": "code",
      "metadata": {
        "id": "zGoxOMPsND-z"
      },
      "source": [
        "stands_2031.to_csv(\"hudak_stands_2031.csv\", index=False)\n",
        "stands_2051.to_csv(\"hudak_stands_2051.csv\", index=False)"
      ],
      "execution_count": null,
      "outputs": []
    },
    {
      "cell_type": "code",
      "metadata": {
        "colab": {
          "base_uri": "https://localhost:8080/",
          "height": 452
        },
        "id": "6dB7M_qIjluh",
        "outputId": "34e9b5e8-3b15-4e4d-a052-7cd1288d5aaa"
      },
      "source": [
        "merged.groupby(\"Year\").agg({\"Standing_Dead_x\": \"sum\"})"
      ],
      "execution_count": null,
      "outputs": [
        {
          "output_type": "execute_result",
          "data": {
            "text/html": [
              "<div>\n",
              "<style scoped>\n",
              "    .dataframe tbody tr th:only-of-type {\n",
              "        vertical-align: middle;\n",
              "    }\n",
              "\n",
              "    .dataframe tbody tr th {\n",
              "        vertical-align: top;\n",
              "    }\n",
              "\n",
              "    .dataframe thead th {\n",
              "        text-align: right;\n",
              "    }\n",
              "</style>\n",
              "<table border=\"1\" class=\"dataframe\">\n",
              "  <thead>\n",
              "    <tr style=\"text-align: right;\">\n",
              "      <th></th>\n",
              "      <th>Standing_Dead_x</th>\n",
              "    </tr>\n",
              "    <tr>\n",
              "      <th>Year</th>\n",
              "      <th></th>\n",
              "    </tr>\n",
              "  </thead>\n",
              "  <tbody>\n",
              "    <tr>\n",
              "      <th>2010</th>\n",
              "      <td>8401.299335</td>\n",
              "    </tr>\n",
              "    <tr>\n",
              "      <th>2020</th>\n",
              "      <td>42174.904675</td>\n",
              "    </tr>\n",
              "    <tr>\n",
              "      <th>2021</th>\n",
              "      <td>42372.055635</td>\n",
              "    </tr>\n",
              "    <tr>\n",
              "      <th>2031</th>\n",
              "      <td>35978.092332</td>\n",
              "    </tr>\n",
              "    <tr>\n",
              "      <th>2041</th>\n",
              "      <td>34107.956585</td>\n",
              "    </tr>\n",
              "    <tr>\n",
              "      <th>2051</th>\n",
              "      <td>32555.513942</td>\n",
              "    </tr>\n",
              "    <tr>\n",
              "      <th>2061</th>\n",
              "      <td>31742.880716</td>\n",
              "    </tr>\n",
              "    <tr>\n",
              "      <th>2071</th>\n",
              "      <td>30728.278262</td>\n",
              "    </tr>\n",
              "    <tr>\n",
              "      <th>2081</th>\n",
              "      <td>30425.821307</td>\n",
              "    </tr>\n",
              "    <tr>\n",
              "      <th>2091</th>\n",
              "      <td>29256.588919</td>\n",
              "    </tr>\n",
              "    <tr>\n",
              "      <th>2101</th>\n",
              "      <td>28172.728095</td>\n",
              "    </tr>\n",
              "    <tr>\n",
              "      <th>2111</th>\n",
              "      <td>27488.341042</td>\n",
              "    </tr>\n",
              "  </tbody>\n",
              "</table>\n",
              "</div>"
            ],
            "text/plain": [
              "      Standing_Dead_x\n",
              "Year                 \n",
              "2010      8401.299335\n",
              "2020     42174.904675\n",
              "2021     42372.055635\n",
              "2031     35978.092332\n",
              "2041     34107.956585\n",
              "2051     32555.513942\n",
              "2061     31742.880716\n",
              "2071     30728.278262\n",
              "2081     30425.821307\n",
              "2091     29256.588919\n",
              "2101     28172.728095\n",
              "2111     27488.341042"
            ]
          },
          "metadata": {
            "tags": []
          },
          "execution_count": 48
        }
      ]
    },
    {
      "cell_type": "code",
      "metadata": {
        "colab": {
          "base_uri": "https://localhost:8080/",
          "height": 224
        },
        "id": "GpNMXh0EgNl3",
        "outputId": "c79256c8-9b96-43bb-a04a-9de228c6c6cd"
      },
      "source": [
        "merged.head()"
      ],
      "execution_count": null,
      "outputs": [
        {
          "output_type": "execute_result",
          "data": {
            "text/html": [
              "<div>\n",
              "<style scoped>\n",
              "    .dataframe tbody tr th:only-of-type {\n",
              "        vertical-align: middle;\n",
              "    }\n",
              "\n",
              "    .dataframe tbody tr th {\n",
              "        vertical-align: top;\n",
              "    }\n",
              "\n",
              "    .dataframe thead th {\n",
              "        text-align: right;\n",
              "    }\n",
              "</style>\n",
              "<table border=\"1\" class=\"dataframe\">\n",
              "  <thead>\n",
              "    <tr style=\"text-align: right;\">\n",
              "      <th></th>\n",
              "      <th>MgmtID_x</th>\n",
              "      <th>StandID</th>\n",
              "      <th>Year</th>\n",
              "      <th>Aboveground_Total_Live_x</th>\n",
              "      <th>Aboveground_Merch_Live_x</th>\n",
              "      <th>Belowground_Live_x</th>\n",
              "      <th>Belowground_Dead_x</th>\n",
              "      <th>Standing_Dead_x</th>\n",
              "      <th>Forest_Down_Dead_Wood_x</th>\n",
              "      <th>Forest_Floor_x</th>\n",
              "      <th>Forest_Shrub_Herb_x</th>\n",
              "      <th>Total_Stand_Carbon_x</th>\n",
              "      <th>Total_Removed_Carbon_x</th>\n",
              "      <th>RunTitle_x</th>\n",
              "      <th>LATITUDE</th>\n",
              "      <th>LONGITUDE</th>\n",
              "      <th>MgmtID_y</th>\n",
              "      <th>Aboveground_Total_Live_y</th>\n",
              "      <th>Aboveground_Merch_Live_y</th>\n",
              "      <th>Belowground_Live_y</th>\n",
              "      <th>Belowground_Dead_y</th>\n",
              "      <th>Standing_Dead_y</th>\n",
              "      <th>Forest_Down_Dead_Wood_y</th>\n",
              "      <th>Forest_Floor_y</th>\n",
              "      <th>Forest_Shrub_Herb_y</th>\n",
              "      <th>Total_Stand_Carbon_y</th>\n",
              "      <th>Total_Removed_Carbon_y</th>\n",
              "      <th>RunTitle_y</th>\n",
              "      <th>delta_AGB_live</th>\n",
              "      <th>delta_AGB_total</th>\n",
              "    </tr>\n",
              "  </thead>\n",
              "  <tbody>\n",
              "    <tr>\n",
              "      <th>0</th>\n",
              "      <td>A009</td>\n",
              "      <td>CoosBay_101_01</td>\n",
              "      <td>2010</td>\n",
              "      <td>592.320007</td>\n",
              "      <td>545.131348</td>\n",
              "      <td>209.947678</td>\n",
              "      <td>11.811847</td>\n",
              "      <td>52.856281</td>\n",
              "      <td>29.800003</td>\n",
              "      <td>13.320000</td>\n",
              "      <td>0.200000</td>\n",
              "      <td>910.255798</td>\n",
              "      <td>0</td>\n",
              "      <td>Run 9</td>\n",
              "      <td>42.990002</td>\n",
              "      <td>-123.800528</td>\n",
              "      <td>A009</td>\n",
              "      <td>226.832886</td>\n",
              "      <td>214.583954</td>\n",
              "      <td>96.988709</td>\n",
              "      <td>118.004913</td>\n",
              "      <td>399.597931</td>\n",
              "      <td>34.028915</td>\n",
              "      <td>16.281956</td>\n",
              "      <td>0.300685</td>\n",
              "      <td>892.036011</td>\n",
              "      <td>0</td>\n",
              "      <td>Run 9</td>\n",
              "      <td>365.487122</td>\n",
              "      <td>18.219788</td>\n",
              "    </tr>\n",
              "    <tr>\n",
              "      <th>1</th>\n",
              "      <td>A009</td>\n",
              "      <td>CoosBay_101_01</td>\n",
              "      <td>2020</td>\n",
              "      <td>231.969269</td>\n",
              "      <td>217.148773</td>\n",
              "      <td>98.269714</td>\n",
              "      <td>121.681816</td>\n",
              "      <td>403.367432</td>\n",
              "      <td>28.394260</td>\n",
              "      <td>15.164009</td>\n",
              "      <td>0.286885</td>\n",
              "      <td>899.133423</td>\n",
              "      <td>0</td>\n",
              "      <td>Run 9</td>\n",
              "      <td>42.990002</td>\n",
              "      <td>-123.800528</td>\n",
              "      <td>A009</td>\n",
              "      <td>226.832886</td>\n",
              "      <td>214.583954</td>\n",
              "      <td>96.988709</td>\n",
              "      <td>118.004913</td>\n",
              "      <td>399.597931</td>\n",
              "      <td>34.028915</td>\n",
              "      <td>16.281956</td>\n",
              "      <td>0.300685</td>\n",
              "      <td>892.036011</td>\n",
              "      <td>0</td>\n",
              "      <td>Run 9</td>\n",
              "      <td>5.136383</td>\n",
              "      <td>7.097412</td>\n",
              "    </tr>\n",
              "    <tr>\n",
              "      <th>2</th>\n",
              "      <td>A009</td>\n",
              "      <td>CoosBay_101_01</td>\n",
              "      <td>2021</td>\n",
              "      <td>226.832886</td>\n",
              "      <td>214.583954</td>\n",
              "      <td>96.988709</td>\n",
              "      <td>118.004913</td>\n",
              "      <td>399.597931</td>\n",
              "      <td>34.028915</td>\n",
              "      <td>16.281956</td>\n",
              "      <td>0.300685</td>\n",
              "      <td>892.036011</td>\n",
              "      <td>0</td>\n",
              "      <td>Run 9</td>\n",
              "      <td>42.990002</td>\n",
              "      <td>-123.800528</td>\n",
              "      <td>A009</td>\n",
              "      <td>226.832886</td>\n",
              "      <td>214.583954</td>\n",
              "      <td>96.988709</td>\n",
              "      <td>118.004913</td>\n",
              "      <td>399.597931</td>\n",
              "      <td>34.028915</td>\n",
              "      <td>16.281956</td>\n",
              "      <td>0.300685</td>\n",
              "      <td>892.036011</td>\n",
              "      <td>0</td>\n",
              "      <td>Run 9</td>\n",
              "      <td>0.000000</td>\n",
              "      <td>0.000000</td>\n",
              "    </tr>\n",
              "    <tr>\n",
              "      <th>3</th>\n",
              "      <td>A009</td>\n",
              "      <td>CoosBay_101_01</td>\n",
              "      <td>2031</td>\n",
              "      <td>193.166183</td>\n",
              "      <td>182.171799</td>\n",
              "      <td>83.177101</td>\n",
              "      <td>92.069321</td>\n",
              "      <td>395.990723</td>\n",
              "      <td>61.748306</td>\n",
              "      <td>13.619035</td>\n",
              "      <td>0.438048</td>\n",
              "      <td>840.208679</td>\n",
              "      <td>0</td>\n",
              "      <td>Run 9</td>\n",
              "      <td>42.990002</td>\n",
              "      <td>-123.800528</td>\n",
              "      <td>A009</td>\n",
              "      <td>226.832886</td>\n",
              "      <td>214.583954</td>\n",
              "      <td>96.988709</td>\n",
              "      <td>118.004913</td>\n",
              "      <td>399.597931</td>\n",
              "      <td>34.028915</td>\n",
              "      <td>16.281956</td>\n",
              "      <td>0.300685</td>\n",
              "      <td>892.036011</td>\n",
              "      <td>0</td>\n",
              "      <td>Run 9</td>\n",
              "      <td>-33.666702</td>\n",
              "      <td>-51.827332</td>\n",
              "    </tr>\n",
              "    <tr>\n",
              "      <th>4</th>\n",
              "      <td>A009</td>\n",
              "      <td>CoosBay_101_01</td>\n",
              "      <td>2041</td>\n",
              "      <td>194.179474</td>\n",
              "      <td>183.430344</td>\n",
              "      <td>83.576584</td>\n",
              "      <td>61.010204</td>\n",
              "      <td>368.634369</td>\n",
              "      <td>73.866402</td>\n",
              "      <td>13.639281</td>\n",
              "      <td>0.472956</td>\n",
              "      <td>795.379211</td>\n",
              "      <td>0</td>\n",
              "      <td>Run 9</td>\n",
              "      <td>42.990002</td>\n",
              "      <td>-123.800528</td>\n",
              "      <td>A009</td>\n",
              "      <td>226.832886</td>\n",
              "      <td>214.583954</td>\n",
              "      <td>96.988709</td>\n",
              "      <td>118.004913</td>\n",
              "      <td>399.597931</td>\n",
              "      <td>34.028915</td>\n",
              "      <td>16.281956</td>\n",
              "      <td>0.300685</td>\n",
              "      <td>892.036011</td>\n",
              "      <td>0</td>\n",
              "      <td>Run 9</td>\n",
              "      <td>-32.653412</td>\n",
              "      <td>-96.656799</td>\n",
              "    </tr>\n",
              "  </tbody>\n",
              "</table>\n",
              "</div>"
            ],
            "text/plain": [
              "  MgmtID_x         StandID  Year  ...  RunTitle_y  delta_AGB_live  delta_AGB_total\n",
              "0     A009  CoosBay_101_01  2010  ...       Run 9      365.487122        18.219788\n",
              "1     A009  CoosBay_101_01  2020  ...       Run 9        5.136383         7.097412\n",
              "2     A009  CoosBay_101_01  2021  ...       Run 9        0.000000         0.000000\n",
              "3     A009  CoosBay_101_01  2031  ...       Run 9      -33.666702       -51.827332\n",
              "4     A009  CoosBay_101_01  2041  ...       Run 9      -32.653412       -96.656799\n",
              "\n",
              "[5 rows x 30 columns]"
            ]
          },
          "metadata": {
            "tags": []
          },
          "execution_count": 28
        }
      ]
    },
    {
      "cell_type": "code",
      "metadata": {
        "colab": {
          "base_uri": "https://localhost:8080/",
          "height": 224
        },
        "id": "232l_ovyiB7E",
        "outputId": "f19372a8-13c8-462e-c05f-3e4e26e2aec8"
      },
      "source": [
        "hudak_stand_data.head()"
      ],
      "execution_count": null,
      "outputs": [
        {
          "output_type": "execute_result",
          "data": {
            "text/html": [
              "<div>\n",
              "<style scoped>\n",
              "    .dataframe tbody tr th:only-of-type {\n",
              "        vertical-align: middle;\n",
              "    }\n",
              "\n",
              "    .dataframe tbody tr th {\n",
              "        vertical-align: top;\n",
              "    }\n",
              "\n",
              "    .dataframe thead th {\n",
              "        text-align: right;\n",
              "    }\n",
              "</style>\n",
              "<table border=\"1\" class=\"dataframe\">\n",
              "  <thead>\n",
              "    <tr style=\"text-align: right;\">\n",
              "      <th></th>\n",
              "      <th>MgmtID</th>\n",
              "      <th>StandID</th>\n",
              "      <th>Year</th>\n",
              "      <th>Aboveground_Total_Live</th>\n",
              "      <th>Aboveground_Merch_Live</th>\n",
              "      <th>Belowground_Live</th>\n",
              "      <th>Belowground_Dead</th>\n",
              "      <th>Standing_Dead</th>\n",
              "      <th>Forest_Down_Dead_Wood</th>\n",
              "      <th>Forest_Floor</th>\n",
              "      <th>Forest_Shrub_Herb</th>\n",
              "      <th>Total_Stand_Carbon</th>\n",
              "      <th>Total_Removed_Carbon</th>\n",
              "      <th>RunTitle</th>\n",
              "      <th>LATITUDE</th>\n",
              "      <th>LONGITUDE</th>\n",
              "    </tr>\n",
              "  </thead>\n",
              "  <tbody>\n",
              "    <tr>\n",
              "      <th>0</th>\n",
              "      <td>A009</td>\n",
              "      <td>CoosBay_101_01</td>\n",
              "      <td>2010</td>\n",
              "      <td>592.320007</td>\n",
              "      <td>545.131348</td>\n",
              "      <td>209.947678</td>\n",
              "      <td>11.811847</td>\n",
              "      <td>52.856281</td>\n",
              "      <td>29.800003</td>\n",
              "      <td>13.320000</td>\n",
              "      <td>0.200000</td>\n",
              "      <td>910.255798</td>\n",
              "      <td>0</td>\n",
              "      <td>Run 9</td>\n",
              "      <td>42.990002</td>\n",
              "      <td>-123.800528</td>\n",
              "    </tr>\n",
              "    <tr>\n",
              "      <th>1</th>\n",
              "      <td>A009</td>\n",
              "      <td>CoosBay_101_01</td>\n",
              "      <td>2020</td>\n",
              "      <td>231.969269</td>\n",
              "      <td>217.148773</td>\n",
              "      <td>98.269714</td>\n",
              "      <td>121.681816</td>\n",
              "      <td>403.367432</td>\n",
              "      <td>28.394260</td>\n",
              "      <td>15.164009</td>\n",
              "      <td>0.286885</td>\n",
              "      <td>899.133423</td>\n",
              "      <td>0</td>\n",
              "      <td>Run 9</td>\n",
              "      <td>42.990002</td>\n",
              "      <td>-123.800528</td>\n",
              "    </tr>\n",
              "    <tr>\n",
              "      <th>2</th>\n",
              "      <td>A009</td>\n",
              "      <td>CoosBay_101_01</td>\n",
              "      <td>2021</td>\n",
              "      <td>226.832886</td>\n",
              "      <td>214.583954</td>\n",
              "      <td>96.988709</td>\n",
              "      <td>118.004913</td>\n",
              "      <td>399.597931</td>\n",
              "      <td>34.028915</td>\n",
              "      <td>16.281956</td>\n",
              "      <td>0.300685</td>\n",
              "      <td>892.036011</td>\n",
              "      <td>0</td>\n",
              "      <td>Run 9</td>\n",
              "      <td>42.990002</td>\n",
              "      <td>-123.800528</td>\n",
              "    </tr>\n",
              "    <tr>\n",
              "      <th>3</th>\n",
              "      <td>A009</td>\n",
              "      <td>CoosBay_101_01</td>\n",
              "      <td>2031</td>\n",
              "      <td>193.166183</td>\n",
              "      <td>182.171799</td>\n",
              "      <td>83.177101</td>\n",
              "      <td>92.069321</td>\n",
              "      <td>395.990723</td>\n",
              "      <td>61.748306</td>\n",
              "      <td>13.619035</td>\n",
              "      <td>0.438048</td>\n",
              "      <td>840.208679</td>\n",
              "      <td>0</td>\n",
              "      <td>Run 9</td>\n",
              "      <td>42.990002</td>\n",
              "      <td>-123.800528</td>\n",
              "    </tr>\n",
              "    <tr>\n",
              "      <th>4</th>\n",
              "      <td>A009</td>\n",
              "      <td>CoosBay_101_01</td>\n",
              "      <td>2041</td>\n",
              "      <td>194.179474</td>\n",
              "      <td>183.430344</td>\n",
              "      <td>83.576584</td>\n",
              "      <td>61.010204</td>\n",
              "      <td>368.634369</td>\n",
              "      <td>73.866402</td>\n",
              "      <td>13.639281</td>\n",
              "      <td>0.472956</td>\n",
              "      <td>795.379211</td>\n",
              "      <td>0</td>\n",
              "      <td>Run 9</td>\n",
              "      <td>42.990002</td>\n",
              "      <td>-123.800528</td>\n",
              "    </tr>\n",
              "  </tbody>\n",
              "</table>\n",
              "</div>"
            ],
            "text/plain": [
              "  MgmtID         StandID  Year  ...  RunTitle   LATITUDE   LONGITUDE\n",
              "0   A009  CoosBay_101_01  2010  ...     Run 9  42.990002 -123.800528\n",
              "1   A009  CoosBay_101_01  2020  ...     Run 9  42.990002 -123.800528\n",
              "2   A009  CoosBay_101_01  2021  ...     Run 9  42.990002 -123.800528\n",
              "3   A009  CoosBay_101_01  2031  ...     Run 9  42.990002 -123.800528\n",
              "4   A009  CoosBay_101_01  2041  ...     Run 9  42.990002 -123.800528\n",
              "\n",
              "[5 rows x 16 columns]"
            ]
          },
          "metadata": {
            "tags": []
          },
          "execution_count": 19
        }
      ]
    },
    {
      "cell_type": "code",
      "metadata": {
        "id": "Psr7ER8iiHjo"
      },
      "source": [
        "plot_df = pd.read_csv(\"PlotData.csv\")"
      ],
      "execution_count": null,
      "outputs": []
    },
    {
      "cell_type": "code",
      "metadata": {
        "id": "MWtDN9W4iHl3"
      },
      "source": [
        "df = pd.merge(hudak_stand_data, plot_df, left_on=\"StandID\", right_on=\"STAND_ID\")"
      ],
      "execution_count": null,
      "outputs": []
    },
    {
      "cell_type": "code",
      "metadata": {
        "colab": {
          "base_uri": "https://localhost:8080/",
          "height": 224
        },
        "id": "hVH-UW810yZ2",
        "outputId": "df76f0e0-9b06-432c-e2dd-17d81d7ea142"
      },
      "source": [
        "df.head()"
      ],
      "execution_count": null,
      "outputs": [
        {
          "output_type": "execute_result",
          "data": {
            "text/html": [
              "<div>\n",
              "<style scoped>\n",
              "    .dataframe tbody tr th:only-of-type {\n",
              "        vertical-align: middle;\n",
              "    }\n",
              "\n",
              "    .dataframe tbody tr th {\n",
              "        vertical-align: top;\n",
              "    }\n",
              "\n",
              "    .dataframe thead th {\n",
              "        text-align: right;\n",
              "    }\n",
              "</style>\n",
              "<table border=\"1\" class=\"dataframe\">\n",
              "  <thead>\n",
              "    <tr style=\"text-align: right;\">\n",
              "      <th></th>\n",
              "      <th>MgmtID</th>\n",
              "      <th>StandID</th>\n",
              "      <th>Year</th>\n",
              "      <th>Aboveground_Total_Live</th>\n",
              "      <th>Aboveground_Merch_Live</th>\n",
              "      <th>Belowground_Live</th>\n",
              "      <th>Belowground_Dead</th>\n",
              "      <th>Standing_Dead</th>\n",
              "      <th>Forest_Down_Dead_Wood</th>\n",
              "      <th>Forest_Floor</th>\n",
              "      <th>Forest_Shrub_Herb</th>\n",
              "      <th>Total_Stand_Carbon</th>\n",
              "      <th>Total_Removed_Carbon</th>\n",
              "      <th>RunTitle</th>\n",
              "      <th>LATITUDE_x</th>\n",
              "      <th>LONGITUDE_x</th>\n",
              "      <th>PROJECT</th>\n",
              "      <th>STAND_ID</th>\n",
              "      <th>PLOT_ID</th>\n",
              "      <th>LIDAR_UNIT</th>\n",
              "      <th>LIDAR_YEAR</th>\n",
              "      <th>PLOT_TYPE</th>\n",
              "      <th>VARIANT</th>\n",
              "      <th>INV_YEAR</th>\n",
              "      <th>LATITUDE_y</th>\n",
              "      <th>LONGITUDE_y</th>\n",
              "      <th>STATE</th>\n",
              "      <th>COUNTY</th>\n",
              "      <th>REGION</th>\n",
              "      <th>FOREST</th>\n",
              "      <th>DISTRICT</th>\n",
              "      <th>LOCATION</th>\n",
              "      <th>PV_CODE</th>\n",
              "      <th>PV_REF_CODE</th>\n",
              "      <th>AGE</th>\n",
              "      <th>ASPECT</th>\n",
              "      <th>SLOPE</th>\n",
              "      <th>ELEVFT</th>\n",
              "      <th>BASAL_AREA_FACTOR</th>\n",
              "      <th>INV_PLOT_SIZE</th>\n",
              "      <th>BRK_DBH</th>\n",
              "      <th>NUM_PLOTS</th>\n",
              "      <th>NONSTK_PLOTS</th>\n",
              "      <th>SAM_WT</th>\n",
              "      <th>STK_PCNT</th>\n",
              "      <th>DG_TRANS</th>\n",
              "      <th>DG_MEASURE</th>\n",
              "      <th>HTG_TRANS</th>\n",
              "      <th>HTG_MEASURE</th>\n",
              "      <th>MORT_MEASURE</th>\n",
              "      <th>COMMENTS_1</th>\n",
              "      <th>COMMENTS_2</th>\n",
              "      <th>COMMENTS_3</th>\n",
              "      <th>COMMENTS_4</th>\n",
              "      <th>area</th>\n",
              "    </tr>\n",
              "  </thead>\n",
              "  <tbody>\n",
              "    <tr>\n",
              "      <th>0</th>\n",
              "      <td>A009</td>\n",
              "      <td>CoosBay_101_01</td>\n",
              "      <td>2010</td>\n",
              "      <td>592.320007</td>\n",
              "      <td>545.131348</td>\n",
              "      <td>209.947678</td>\n",
              "      <td>11.811847</td>\n",
              "      <td>52.856281</td>\n",
              "      <td>29.800003</td>\n",
              "      <td>13.320000</td>\n",
              "      <td>0.200000</td>\n",
              "      <td>910.255798</td>\n",
              "      <td>0</td>\n",
              "      <td>Run 9</td>\n",
              "      <td>42.990002</td>\n",
              "      <td>-123.800528</td>\n",
              "      <td>CoosBay</td>\n",
              "      <td>CoosBay_101_01</td>\n",
              "      <td>NaN</td>\n",
              "      <td>BLMSouthCoast2009</td>\n",
              "      <td>2009</td>\n",
              "      <td>Fixed_Area</td>\n",
              "      <td>PN</td>\n",
              "      <td>2010</td>\n",
              "      <td>42.990002</td>\n",
              "      <td>-123.800528</td>\n",
              "      <td>41.0</td>\n",
              "      <td>NaN</td>\n",
              "      <td>NaN</td>\n",
              "      <td>NaN</td>\n",
              "      <td>NaN</td>\n",
              "      <td>712.0</td>\n",
              "      <td>NaN</td>\n",
              "      <td>NaN</td>\n",
              "      <td>NaN</td>\n",
              "      <td>220</td>\n",
              "      <td>83</td>\n",
              "      <td>2155</td>\n",
              "      <td>-8.0</td>\n",
              "      <td>50.0</td>\n",
              "      <td>5.5</td>\n",
              "      <td>1.0</td>\n",
              "      <td>NaN</td>\n",
              "      <td>NaN</td>\n",
              "      <td>NaN</td>\n",
              "      <td>NaN</td>\n",
              "      <td>NaN</td>\n",
              "      <td>NaN</td>\n",
              "      <td>NaN</td>\n",
              "      <td>NaN</td>\n",
              "      <td></td>\n",
              "      <td>NaN</td>\n",
              "      <td>NaN</td>\n",
              "      <td>NaN</td>\n",
              "      <td>0.02</td>\n",
              "    </tr>\n",
              "    <tr>\n",
              "      <th>1</th>\n",
              "      <td>A009</td>\n",
              "      <td>CoosBay_101_01</td>\n",
              "      <td>2020</td>\n",
              "      <td>231.969269</td>\n",
              "      <td>217.148773</td>\n",
              "      <td>98.269714</td>\n",
              "      <td>121.681816</td>\n",
              "      <td>403.367432</td>\n",
              "      <td>28.394260</td>\n",
              "      <td>15.164009</td>\n",
              "      <td>0.286885</td>\n",
              "      <td>899.133423</td>\n",
              "      <td>0</td>\n",
              "      <td>Run 9</td>\n",
              "      <td>42.990002</td>\n",
              "      <td>-123.800528</td>\n",
              "      <td>CoosBay</td>\n",
              "      <td>CoosBay_101_01</td>\n",
              "      <td>NaN</td>\n",
              "      <td>BLMSouthCoast2009</td>\n",
              "      <td>2009</td>\n",
              "      <td>Fixed_Area</td>\n",
              "      <td>PN</td>\n",
              "      <td>2010</td>\n",
              "      <td>42.990002</td>\n",
              "      <td>-123.800528</td>\n",
              "      <td>41.0</td>\n",
              "      <td>NaN</td>\n",
              "      <td>NaN</td>\n",
              "      <td>NaN</td>\n",
              "      <td>NaN</td>\n",
              "      <td>712.0</td>\n",
              "      <td>NaN</td>\n",
              "      <td>NaN</td>\n",
              "      <td>NaN</td>\n",
              "      <td>220</td>\n",
              "      <td>83</td>\n",
              "      <td>2155</td>\n",
              "      <td>-8.0</td>\n",
              "      <td>50.0</td>\n",
              "      <td>5.5</td>\n",
              "      <td>1.0</td>\n",
              "      <td>NaN</td>\n",
              "      <td>NaN</td>\n",
              "      <td>NaN</td>\n",
              "      <td>NaN</td>\n",
              "      <td>NaN</td>\n",
              "      <td>NaN</td>\n",
              "      <td>NaN</td>\n",
              "      <td>NaN</td>\n",
              "      <td></td>\n",
              "      <td>NaN</td>\n",
              "      <td>NaN</td>\n",
              "      <td>NaN</td>\n",
              "      <td>0.02</td>\n",
              "    </tr>\n",
              "    <tr>\n",
              "      <th>2</th>\n",
              "      <td>A009</td>\n",
              "      <td>CoosBay_101_01</td>\n",
              "      <td>2021</td>\n",
              "      <td>226.832886</td>\n",
              "      <td>214.583954</td>\n",
              "      <td>96.988709</td>\n",
              "      <td>118.004913</td>\n",
              "      <td>399.597931</td>\n",
              "      <td>34.028915</td>\n",
              "      <td>16.281956</td>\n",
              "      <td>0.300685</td>\n",
              "      <td>892.036011</td>\n",
              "      <td>0</td>\n",
              "      <td>Run 9</td>\n",
              "      <td>42.990002</td>\n",
              "      <td>-123.800528</td>\n",
              "      <td>CoosBay</td>\n",
              "      <td>CoosBay_101_01</td>\n",
              "      <td>NaN</td>\n",
              "      <td>BLMSouthCoast2009</td>\n",
              "      <td>2009</td>\n",
              "      <td>Fixed_Area</td>\n",
              "      <td>PN</td>\n",
              "      <td>2010</td>\n",
              "      <td>42.990002</td>\n",
              "      <td>-123.800528</td>\n",
              "      <td>41.0</td>\n",
              "      <td>NaN</td>\n",
              "      <td>NaN</td>\n",
              "      <td>NaN</td>\n",
              "      <td>NaN</td>\n",
              "      <td>712.0</td>\n",
              "      <td>NaN</td>\n",
              "      <td>NaN</td>\n",
              "      <td>NaN</td>\n",
              "      <td>220</td>\n",
              "      <td>83</td>\n",
              "      <td>2155</td>\n",
              "      <td>-8.0</td>\n",
              "      <td>50.0</td>\n",
              "      <td>5.5</td>\n",
              "      <td>1.0</td>\n",
              "      <td>NaN</td>\n",
              "      <td>NaN</td>\n",
              "      <td>NaN</td>\n",
              "      <td>NaN</td>\n",
              "      <td>NaN</td>\n",
              "      <td>NaN</td>\n",
              "      <td>NaN</td>\n",
              "      <td>NaN</td>\n",
              "      <td></td>\n",
              "      <td>NaN</td>\n",
              "      <td>NaN</td>\n",
              "      <td>NaN</td>\n",
              "      <td>0.02</td>\n",
              "    </tr>\n",
              "    <tr>\n",
              "      <th>3</th>\n",
              "      <td>A009</td>\n",
              "      <td>CoosBay_101_01</td>\n",
              "      <td>2031</td>\n",
              "      <td>193.166183</td>\n",
              "      <td>182.171799</td>\n",
              "      <td>83.177101</td>\n",
              "      <td>92.069321</td>\n",
              "      <td>395.990723</td>\n",
              "      <td>61.748306</td>\n",
              "      <td>13.619035</td>\n",
              "      <td>0.438048</td>\n",
              "      <td>840.208679</td>\n",
              "      <td>0</td>\n",
              "      <td>Run 9</td>\n",
              "      <td>42.990002</td>\n",
              "      <td>-123.800528</td>\n",
              "      <td>CoosBay</td>\n",
              "      <td>CoosBay_101_01</td>\n",
              "      <td>NaN</td>\n",
              "      <td>BLMSouthCoast2009</td>\n",
              "      <td>2009</td>\n",
              "      <td>Fixed_Area</td>\n",
              "      <td>PN</td>\n",
              "      <td>2010</td>\n",
              "      <td>42.990002</td>\n",
              "      <td>-123.800528</td>\n",
              "      <td>41.0</td>\n",
              "      <td>NaN</td>\n",
              "      <td>NaN</td>\n",
              "      <td>NaN</td>\n",
              "      <td>NaN</td>\n",
              "      <td>712.0</td>\n",
              "      <td>NaN</td>\n",
              "      <td>NaN</td>\n",
              "      <td>NaN</td>\n",
              "      <td>220</td>\n",
              "      <td>83</td>\n",
              "      <td>2155</td>\n",
              "      <td>-8.0</td>\n",
              "      <td>50.0</td>\n",
              "      <td>5.5</td>\n",
              "      <td>1.0</td>\n",
              "      <td>NaN</td>\n",
              "      <td>NaN</td>\n",
              "      <td>NaN</td>\n",
              "      <td>NaN</td>\n",
              "      <td>NaN</td>\n",
              "      <td>NaN</td>\n",
              "      <td>NaN</td>\n",
              "      <td>NaN</td>\n",
              "      <td></td>\n",
              "      <td>NaN</td>\n",
              "      <td>NaN</td>\n",
              "      <td>NaN</td>\n",
              "      <td>0.02</td>\n",
              "    </tr>\n",
              "    <tr>\n",
              "      <th>4</th>\n",
              "      <td>A009</td>\n",
              "      <td>CoosBay_101_01</td>\n",
              "      <td>2041</td>\n",
              "      <td>194.179474</td>\n",
              "      <td>183.430344</td>\n",
              "      <td>83.576584</td>\n",
              "      <td>61.010204</td>\n",
              "      <td>368.634369</td>\n",
              "      <td>73.866402</td>\n",
              "      <td>13.639281</td>\n",
              "      <td>0.472956</td>\n",
              "      <td>795.379211</td>\n",
              "      <td>0</td>\n",
              "      <td>Run 9</td>\n",
              "      <td>42.990002</td>\n",
              "      <td>-123.800528</td>\n",
              "      <td>CoosBay</td>\n",
              "      <td>CoosBay_101_01</td>\n",
              "      <td>NaN</td>\n",
              "      <td>BLMSouthCoast2009</td>\n",
              "      <td>2009</td>\n",
              "      <td>Fixed_Area</td>\n",
              "      <td>PN</td>\n",
              "      <td>2010</td>\n",
              "      <td>42.990002</td>\n",
              "      <td>-123.800528</td>\n",
              "      <td>41.0</td>\n",
              "      <td>NaN</td>\n",
              "      <td>NaN</td>\n",
              "      <td>NaN</td>\n",
              "      <td>NaN</td>\n",
              "      <td>712.0</td>\n",
              "      <td>NaN</td>\n",
              "      <td>NaN</td>\n",
              "      <td>NaN</td>\n",
              "      <td>220</td>\n",
              "      <td>83</td>\n",
              "      <td>2155</td>\n",
              "      <td>-8.0</td>\n",
              "      <td>50.0</td>\n",
              "      <td>5.5</td>\n",
              "      <td>1.0</td>\n",
              "      <td>NaN</td>\n",
              "      <td>NaN</td>\n",
              "      <td>NaN</td>\n",
              "      <td>NaN</td>\n",
              "      <td>NaN</td>\n",
              "      <td>NaN</td>\n",
              "      <td>NaN</td>\n",
              "      <td>NaN</td>\n",
              "      <td></td>\n",
              "      <td>NaN</td>\n",
              "      <td>NaN</td>\n",
              "      <td>NaN</td>\n",
              "      <td>0.02</td>\n",
              "    </tr>\n",
              "  </tbody>\n",
              "</table>\n",
              "</div>"
            ],
            "text/plain": [
              "  MgmtID         StandID  Year  ...  COMMENTS_3  COMMENTS_4  area\n",
              "0   A009  CoosBay_101_01  2010  ...         NaN         NaN  0.02\n",
              "1   A009  CoosBay_101_01  2020  ...         NaN         NaN  0.02\n",
              "2   A009  CoosBay_101_01  2021  ...         NaN         NaN  0.02\n",
              "3   A009  CoosBay_101_01  2031  ...         NaN         NaN  0.02\n",
              "4   A009  CoosBay_101_01  2041  ...         NaN         NaN  0.02\n",
              "\n",
              "[5 rows x 55 columns]"
            ]
          },
          "metadata": {
            "tags": []
          },
          "execution_count": 66
        }
      ]
    },
    {
      "cell_type": "code",
      "metadata": {
        "id": "0hsP-azr1GwH",
        "colab": {
          "base_uri": "https://localhost:8080/"
        },
        "outputId": "2924182a-de9e-43ec-cd1d-fe1e9c110059"
      },
      "source": [
        "df.BASAL_AREA_FACTOR.unique()"
      ],
      "execution_count": null,
      "outputs": [
        {
          "output_type": "execute_result",
          "data": {
            "text/plain": [
              "array([-8.])"
            ]
          },
          "metadata": {
            "tags": []
          },
          "execution_count": 67
        }
      ]
    },
    {
      "cell_type": "code",
      "metadata": {
        "colab": {
          "base_uri": "https://localhost:8080/"
        },
        "id": "xiRQL-n3yydd",
        "outputId": "6fafbfe0-dcad-48d3-c36c-a2f3a19242ca"
      },
      "source": [
        "df[\"area\"] = 1 / df[\"INV_PLOT_SIZE\"]\n",
        "df.area.unique()"
      ],
      "execution_count": null,
      "outputs": [
        {
          "output_type": "execute_result",
          "data": {
            "text/plain": [
              "array([0.02])"
            ]
          },
          "metadata": {
            "tags": []
          },
          "execution_count": 61
        }
      ]
    },
    {
      "cell_type": "code",
      "metadata": {
        "id": "keSwj4Lx0QhU"
      },
      "source": [
        "import math"
      ],
      "execution_count": null,
      "outputs": []
    },
    {
      "cell_type": "code",
      "metadata": {
        "colab": {
          "base_uri": "https://localhost:8080/"
        },
        "id": "zgvYFnV60I0A",
        "outputId": "d413aada-84ce-4238-ba0b-bfd58fb20f6e"
      },
      "source": [
        "math.sqrt(4046.86 * 0.02 / 3.14)"
      ],
      "execution_count": null,
      "outputs": [
        {
          "output_type": "execute_result",
          "data": {
            "text/plain": [
              "5.077024556169592"
            ]
          },
          "metadata": {
            "tags": []
          },
          "execution_count": 65
        }
      ]
    },
    {
      "cell_type": "code",
      "metadata": {
        "id": "hZVoVkoet1Zd"
      },
      "source": [
        ""
      ],
      "execution_count": null,
      "outputs": []
    },
    {
      "cell_type": "code",
      "metadata": {
        "id": "gA8wwIKHt1Nq"
      },
      "source": [
        ""
      ],
      "execution_count": null,
      "outputs": []
    },
    {
      "cell_type": "code",
      "metadata": {
        "id": "Bgj9-3L-t2t1"
      },
      "source": [
        "X = assemble_input_features(aoi, gedi_canopy_data_fc, gedi_canopy_bands, 2020)\n",
        "Y = assemble_targets(aoi, hudak_sites_2051, \"frac_change_AGB_live\")"
      ],
      "execution_count": null,
      "outputs": []
    },
    {
      "cell_type": "code",
      "metadata": {
        "id": "82uW6KLJt2t1"
      },
      "source": [
        "bands = X.bandNames()"
      ],
      "execution_count": null,
      "outputs": []
    },
    {
      "cell_type": "code",
      "metadata": {
        "id": "FNhzysn5t2t2"
      },
      "source": [
        "gedi_mask = X.select(\"canopy_max\").mask()\n",
        "hudak_site_mask = Y.mask()"
      ],
      "execution_count": null,
      "outputs": []
    },
    {
      "cell_type": "code",
      "metadata": {
        "id": "AKDcsai0t2t2"
      },
      "source": [
        "input_features = X.addBands(Y)"
      ],
      "execution_count": null,
      "outputs": []
    },
    {
      "cell_type": "code",
      "metadata": {
        "id": "Bz7dz0hxt2t2"
      },
      "source": [
        "# Train separate models using gedi_mask.and(hudak_site_mask) and gedi_mask.not().and(hudak_site_mask)\n",
        "\n",
        "input_features_w_gedi = input_features.updateMask(gedi_mask.And(hudak_site_mask))\n",
        "input_features_no_gedi = input_features.select([\"NDVI_jul\", \"b1\", \"frac_change_AGB_live\"]).updateMask(gedi_mask.Not().And(hudak_site_mask))"
      ],
      "execution_count": null,
      "outputs": []
    },
    {
      "cell_type": "code",
      "metadata": {
        "id": "aCu13wS2t2t2"
      },
      "source": [
        "input_data_w_gedi = input_features_w_gedi.sample(factor=1, region=aoi, scale=300).randomColumn()"
      ],
      "execution_count": null,
      "outputs": []
    },
    {
      "cell_type": "code",
      "metadata": {
        "id": "9RW0ECg8t2t2"
      },
      "source": [
        "training = input_data_w_gedi.filter(ee.Filter.lt(\"random\", 0.7))\n",
        "validation = input_data_w_gedi.filter(ee.Filter.gte(\"random\", 0.7))"
      ],
      "execution_count": null,
      "outputs": []
    },
    {
      "cell_type": "code",
      "metadata": {
        "id": "piJMeQggt2t3"
      },
      "source": [
        "def run_boosted_grid_search(training, validation, input_bands, target_band):\n",
        "  results_df = pd.DataFrame()\n",
        "  for _n in [100, 200, 500]:\n",
        "    for _l in [\"LeastAbsoluteDeviation\"]:# [\"LeastSquares\", \"LeastAbsoluteDeviation\", \"Huber\"]:\n",
        "      for _s in [0.5, 0.7, 0.9]:  \n",
        "        for _leaves in [2, 4]:\n",
        "          for _lr in [0.001, 0.005, 0.01]:  \n",
        "            model = ee.Classifier.smileGradientTreeBoost(numberOfTrees=_n, loss=_l, samplingRate=_s, maxNodes=_leaves, shrinkage=_lr, seed=42).setOutputMode(\"REGRESSION\").train(training, target_band, input_bands)\n",
        "            holdout = validation.classify(model, \"predicted\")\n",
        "\n",
        "            test = holdout.select([\"predicted\", \"frac_change_AGB_live\"]).getInfo()\n",
        "            actual = [x[\"properties\"][\"frac_change_AGB_live\"] for x in test[\"features\"]]\n",
        "            predicted = [x[\"properties\"][\"predicted\"] for x in test[\"features\"]]\n",
        "\n",
        "            corr_matrix = np.corrcoef(actual, predicted)\n",
        "            corr_xy = corr_matrix[0, 1]\n",
        "            r_squared = corr_xy**2\n",
        "            RMSE = np.sqrt(np.mean((np.array(predicted) - np.array(actual)) ** 2))\n",
        "\n",
        "            results_df = results_df.append({\"n_trees\": _n, \"loss\": _l, \"sampling_rate\": _s, \"max_nodes\": _leaves, \"learning_rate\": _lr, \"r_squared\": r_squared, \"rmse\": RMSE}, ignore_index=True,)\n",
        "            print(f\"N_trees: {_n} || loss: {_l} || sampling rate: {_s} || max nodes: {_leaves} || learning rate: {_lr} || r-squared: {r_squared} || rmse: {RMSE}\")\n",
        "  \n",
        "  return results_df"
      ],
      "execution_count": null,
      "outputs": []
    },
    {
      "cell_type": "code",
      "metadata": {
        "colab": {
          "base_uri": "https://localhost:8080/"
        },
        "id": "5DX4pN8ht2t3",
        "outputId": "92a46f1d-0a43-4769-9ed4-d64c5cb4816a"
      },
      "source": [
        "# With Hudak AGB 2016 as input\n",
        "df = run_boosted_grid_search(training, validation, bands, \"frac_change_AGB_live\")"
      ],
      "execution_count": null,
      "outputs": [
        {
          "output_type": "stream",
          "text": [
            "N_trees: 100 || loss: LeastAbsoluteDeviation || sampling rate: 0.5 || max nodes: 2 || learning rate: 0.001 || r-squared: 0.14290049209274547 || rmse: 0.8145639804118315\n",
            "N_trees: 100 || loss: LeastAbsoluteDeviation || sampling rate: 0.5 || max nodes: 2 || learning rate: 0.005 || r-squared: 0.13972115549194747 || rmse: 0.7984900124817153\n",
            "N_trees: 100 || loss: LeastAbsoluteDeviation || sampling rate: 0.5 || max nodes: 2 || learning rate: 0.01 || r-squared: 0.1361103223648596 || rmse: 0.7833986163565684\n",
            "N_trees: 100 || loss: LeastAbsoluteDeviation || sampling rate: 0.5 || max nodes: 4 || learning rate: 0.001 || r-squared: 0.13032643052527032 || rmse: 0.8126770398557339\n",
            "N_trees: 100 || loss: LeastAbsoluteDeviation || sampling rate: 0.5 || max nodes: 4 || learning rate: 0.005 || r-squared: 0.13915207478130487 || rmse: 0.7916228974027816\n",
            "N_trees: 100 || loss: LeastAbsoluteDeviation || sampling rate: 0.5 || max nodes: 4 || learning rate: 0.01 || r-squared: 0.11955295077650434 || rmse: 0.7752660410082675\n",
            "N_trees: 100 || loss: LeastAbsoluteDeviation || sampling rate: 0.7 || max nodes: 2 || learning rate: 0.001 || r-squared: 0.16447557740830282 || rmse: 0.8137541488043987\n",
            "N_trees: 100 || loss: LeastAbsoluteDeviation || sampling rate: 0.7 || max nodes: 2 || learning rate: 0.005 || r-squared: 0.16216068466281708 || rmse: 0.7967716374443794\n",
            "N_trees: 100 || loss: LeastAbsoluteDeviation || sampling rate: 0.7 || max nodes: 2 || learning rate: 0.01 || r-squared: 0.15496978243076504 || rmse: 0.784937159902994\n",
            "N_trees: 100 || loss: LeastAbsoluteDeviation || sampling rate: 0.7 || max nodes: 4 || learning rate: 0.001 || r-squared: 0.15681165487998686 || rmse: 0.8118117862759046\n",
            "N_trees: 100 || loss: LeastAbsoluteDeviation || sampling rate: 0.7 || max nodes: 4 || learning rate: 0.005 || r-squared: 0.1532156323739455 || rmse: 0.7936442480224072\n",
            "N_trees: 100 || loss: LeastAbsoluteDeviation || sampling rate: 0.7 || max nodes: 4 || learning rate: 0.01 || r-squared: 0.15060352701595506 || rmse: 0.7813855096006083\n",
            "N_trees: 100 || loss: LeastAbsoluteDeviation || sampling rate: 0.9 || max nodes: 2 || learning rate: 0.001 || r-squared: 0.16677138915728945 || rmse: 0.8132006251977444\n",
            "N_trees: 100 || loss: LeastAbsoluteDeviation || sampling rate: 0.9 || max nodes: 2 || learning rate: 0.005 || r-squared: 0.16568323294433732 || rmse: 0.7967104602930519\n",
            "N_trees: 100 || loss: LeastAbsoluteDeviation || sampling rate: 0.9 || max nodes: 2 || learning rate: 0.01 || r-squared: 0.16521451886922484 || rmse: 0.7875633848598447\n",
            "N_trees: 100 || loss: LeastAbsoluteDeviation || sampling rate: 0.9 || max nodes: 4 || learning rate: 0.001 || r-squared: 0.14690286109481818 || rmse: 0.8116847055947367\n",
            "N_trees: 100 || loss: LeastAbsoluteDeviation || sampling rate: 0.9 || max nodes: 4 || learning rate: 0.005 || r-squared: 0.16452825876553026 || rmse: 0.7945971037321273\n",
            "N_trees: 100 || loss: LeastAbsoluteDeviation || sampling rate: 0.9 || max nodes: 4 || learning rate: 0.01 || r-squared: 0.1595006671708493 || rmse: 0.7835254138623997\n",
            "N_trees: 200 || loss: LeastAbsoluteDeviation || sampling rate: 0.5 || max nodes: 2 || learning rate: 0.001 || r-squared: 0.1495611148474907 || rmse: 0.8092743891122034\n",
            "N_trees: 200 || loss: LeastAbsoluteDeviation || sampling rate: 0.5 || max nodes: 2 || learning rate: 0.005 || r-squared: 0.13775723057419584 || rmse: 0.7848035569859707\n",
            "N_trees: 200 || loss: LeastAbsoluteDeviation || sampling rate: 0.5 || max nodes: 2 || learning rate: 0.01 || r-squared: 0.1218863194368774 || rmse: 0.7662734072881046\n",
            "N_trees: 200 || loss: LeastAbsoluteDeviation || sampling rate: 0.5 || max nodes: 4 || learning rate: 0.001 || r-squared: 0.135295139799717 || rmse: 0.8068144091654386\n",
            "N_trees: 200 || loss: LeastAbsoluteDeviation || sampling rate: 0.5 || max nodes: 4 || learning rate: 0.005 || r-squared: 0.1345610776896584 || rmse: 0.7755023696697391\n",
            "N_trees: 200 || loss: LeastAbsoluteDeviation || sampling rate: 0.5 || max nodes: 4 || learning rate: 0.01 || r-squared: 0.10773367681743286 || rmse: 0.7578862580255582\n",
            "N_trees: 200 || loss: LeastAbsoluteDeviation || sampling rate: 0.7 || max nodes: 2 || learning rate: 0.001 || r-squared: 0.16025512319286195 || rmse: 0.8090489859821087\n",
            "N_trees: 200 || loss: LeastAbsoluteDeviation || sampling rate: 0.7 || max nodes: 2 || learning rate: 0.005 || r-squared: 0.15568118864757532 || rmse: 0.7832284574878595\n",
            "N_trees: 200 || loss: LeastAbsoluteDeviation || sampling rate: 0.7 || max nodes: 2 || learning rate: 0.01 || r-squared: 0.13874864649750018 || rmse: 0.7694230584013715\n",
            "N_trees: 200 || loss: LeastAbsoluteDeviation || sampling rate: 0.7 || max nodes: 4 || learning rate: 0.001 || r-squared: 0.14908163078058667 || rmse: 0.8063673614429553\n",
            "N_trees: 200 || loss: LeastAbsoluteDeviation || sampling rate: 0.7 || max nodes: 4 || learning rate: 0.005 || r-squared: 0.1541423666841895 || rmse: 0.7785874620041043\n",
            "N_trees: 200 || loss: LeastAbsoluteDeviation || sampling rate: 0.7 || max nodes: 4 || learning rate: 0.01 || r-squared: 0.1259018793603066 || rmse: 0.7622657893640995\n",
            "N_trees: 200 || loss: LeastAbsoluteDeviation || sampling rate: 0.9 || max nodes: 2 || learning rate: 0.001 || r-squared: 0.1648281795928787 || rmse: 0.8077790603671736\n",
            "N_trees: 200 || loss: LeastAbsoluteDeviation || sampling rate: 0.9 || max nodes: 2 || learning rate: 0.005 || r-squared: 0.1604711299910435 || rmse: 0.7865817274706595\n",
            "N_trees: 200 || loss: LeastAbsoluteDeviation || sampling rate: 0.9 || max nodes: 2 || learning rate: 0.01 || r-squared: 0.15386301200809405 || rmse: 0.7763122471557039\n",
            "N_trees: 200 || loss: LeastAbsoluteDeviation || sampling rate: 0.9 || max nodes: 4 || learning rate: 0.001 || r-squared: 0.14673638879243084 || rmse: 0.8056810277407265\n",
            "N_trees: 200 || loss: LeastAbsoluteDeviation || sampling rate: 0.9 || max nodes: 4 || learning rate: 0.005 || r-squared: 0.1645802960141175 || rmse: 0.7822239724060408\n",
            "N_trees: 200 || loss: LeastAbsoluteDeviation || sampling rate: 0.9 || max nodes: 4 || learning rate: 0.01 || r-squared: 0.1287549727189762 || rmse: 0.767342361495032\n",
            "N_trees: 500 || loss: LeastAbsoluteDeviation || sampling rate: 0.5 || max nodes: 2 || learning rate: 0.001 || r-squared: 0.14585057151132214 || rmse: 0.797699556613631\n",
            "N_trees: 500 || loss: LeastAbsoluteDeviation || sampling rate: 0.5 || max nodes: 2 || learning rate: 0.005 || r-squared: 0.10990875277027876 || rmse: 0.7649204766897495\n",
            "N_trees: 500 || loss: LeastAbsoluteDeviation || sampling rate: 0.5 || max nodes: 2 || learning rate: 0.01 || r-squared: 0.0969076668834607 || rmse: 0.7560349822221476\n",
            "N_trees: 500 || loss: LeastAbsoluteDeviation || sampling rate: 0.5 || max nodes: 4 || learning rate: 0.001 || r-squared: 0.1414144278428002 || rmse: 0.7927399215083766\n",
            "N_trees: 500 || loss: LeastAbsoluteDeviation || sampling rate: 0.5 || max nodes: 4 || learning rate: 0.005 || r-squared: 0.10412614438196026 || rmse: 0.756205240730774\n",
            "N_trees: 500 || loss: LeastAbsoluteDeviation || sampling rate: 0.5 || max nodes: 4 || learning rate: 0.01 || r-squared: 0.09042614950135357 || rmse: 0.7491433880944451\n",
            "N_trees: 500 || loss: LeastAbsoluteDeviation || sampling rate: 0.7 || max nodes: 2 || learning rate: 0.001 || r-squared: 0.1591104559456709 || rmse: 0.7979948316900508\n",
            "N_trees: 500 || loss: LeastAbsoluteDeviation || sampling rate: 0.7 || max nodes: 2 || learning rate: 0.005 || r-squared: 0.12762932195593926 || rmse: 0.7680248381393345\n",
            "N_trees: 500 || loss: LeastAbsoluteDeviation || sampling rate: 0.7 || max nodes: 2 || learning rate: 0.01 || r-squared: 0.10575801036585379 || rmse: 0.7627855268961055\n",
            "N_trees: 500 || loss: LeastAbsoluteDeviation || sampling rate: 0.7 || max nodes: 4 || learning rate: 0.001 || r-squared: 0.1497102008956333 || rmse: 0.7949028090616644\n",
            "N_trees: 500 || loss: LeastAbsoluteDeviation || sampling rate: 0.7 || max nodes: 4 || learning rate: 0.005 || r-squared: 0.11626470029570023 || rmse: 0.7621877266695264\n",
            "N_trees: 500 || loss: LeastAbsoluteDeviation || sampling rate: 0.7 || max nodes: 4 || learning rate: 0.01 || r-squared: 0.09905848324199841 || rmse: 0.7543521813681764\n",
            "N_trees: 500 || loss: LeastAbsoluteDeviation || sampling rate: 0.9 || max nodes: 2 || learning rate: 0.001 || r-squared: 0.16424219229533873 || rmse: 0.7966134109140365\n",
            "N_trees: 500 || loss: LeastAbsoluteDeviation || sampling rate: 0.9 || max nodes: 2 || learning rate: 0.005 || r-squared: 0.1452327182810366 || rmse: 0.7728733258946425\n",
            "N_trees: 500 || loss: LeastAbsoluteDeviation || sampling rate: 0.9 || max nodes: 2 || learning rate: 0.01 || r-squared: 0.11507479398149663 || rmse: 0.7651613865575296\n",
            "N_trees: 500 || loss: LeastAbsoluteDeviation || sampling rate: 0.9 || max nodes: 4 || learning rate: 0.001 || r-squared: 0.15948569819577152 || rmse: 0.7945253088406187\n",
            "N_trees: 500 || loss: LeastAbsoluteDeviation || sampling rate: 0.9 || max nodes: 4 || learning rate: 0.005 || r-squared: 0.11853846594711244 || rmse: 0.7644063537381098\n",
            "N_trees: 500 || loss: LeastAbsoluteDeviation || sampling rate: 0.9 || max nodes: 4 || learning rate: 0.01 || r-squared: 0.09782617389997703 || rmse: 0.7591425781220776\n"
          ],
          "name": "stdout"
        }
      ]
    },
    {
      "cell_type": "code",
      "metadata": {
        "colab": {
          "base_uri": "https://localhost:8080/",
          "height": 204
        },
        "id": "aMPVktqGt2t3",
        "outputId": "143365f5-60c9-485a-8aa9-862c4b2854f3"
      },
      "source": [
        "df.sort_values(by=[\"r_squared\"], ascending=False).head()"
      ],
      "execution_count": null,
      "outputs": [
        {
          "output_type": "execute_result",
          "data": {
            "text/html": [
              "<div>\n",
              "<style scoped>\n",
              "    .dataframe tbody tr th:only-of-type {\n",
              "        vertical-align: middle;\n",
              "    }\n",
              "\n",
              "    .dataframe tbody tr th {\n",
              "        vertical-align: top;\n",
              "    }\n",
              "\n",
              "    .dataframe thead th {\n",
              "        text-align: right;\n",
              "    }\n",
              "</style>\n",
              "<table border=\"1\" class=\"dataframe\">\n",
              "  <thead>\n",
              "    <tr style=\"text-align: right;\">\n",
              "      <th></th>\n",
              "      <th>learning_rate</th>\n",
              "      <th>loss</th>\n",
              "      <th>max_nodes</th>\n",
              "      <th>n_trees</th>\n",
              "      <th>r_squared</th>\n",
              "      <th>rmse</th>\n",
              "      <th>sampling_rate</th>\n",
              "    </tr>\n",
              "  </thead>\n",
              "  <tbody>\n",
              "    <tr>\n",
              "      <th>12</th>\n",
              "      <td>0.001</td>\n",
              "      <td>LeastAbsoluteDeviation</td>\n",
              "      <td>2.0</td>\n",
              "      <td>100.0</td>\n",
              "      <td>0.166771</td>\n",
              "      <td>0.813201</td>\n",
              "      <td>0.9</td>\n",
              "    </tr>\n",
              "    <tr>\n",
              "      <th>13</th>\n",
              "      <td>0.005</td>\n",
              "      <td>LeastAbsoluteDeviation</td>\n",
              "      <td>2.0</td>\n",
              "      <td>100.0</td>\n",
              "      <td>0.165683</td>\n",
              "      <td>0.796710</td>\n",
              "      <td>0.9</td>\n",
              "    </tr>\n",
              "    <tr>\n",
              "      <th>14</th>\n",
              "      <td>0.010</td>\n",
              "      <td>LeastAbsoluteDeviation</td>\n",
              "      <td>2.0</td>\n",
              "      <td>100.0</td>\n",
              "      <td>0.165215</td>\n",
              "      <td>0.787563</td>\n",
              "      <td>0.9</td>\n",
              "    </tr>\n",
              "    <tr>\n",
              "      <th>30</th>\n",
              "      <td>0.001</td>\n",
              "      <td>LeastAbsoluteDeviation</td>\n",
              "      <td>2.0</td>\n",
              "      <td>200.0</td>\n",
              "      <td>0.164828</td>\n",
              "      <td>0.807779</td>\n",
              "      <td>0.9</td>\n",
              "    </tr>\n",
              "    <tr>\n",
              "      <th>34</th>\n",
              "      <td>0.005</td>\n",
              "      <td>LeastAbsoluteDeviation</td>\n",
              "      <td>4.0</td>\n",
              "      <td>200.0</td>\n",
              "      <td>0.164580</td>\n",
              "      <td>0.782224</td>\n",
              "      <td>0.9</td>\n",
              "    </tr>\n",
              "  </tbody>\n",
              "</table>\n",
              "</div>"
            ],
            "text/plain": [
              "    learning_rate                    loss  ...      rmse  sampling_rate\n",
              "12          0.001  LeastAbsoluteDeviation  ...  0.813201            0.9\n",
              "13          0.005  LeastAbsoluteDeviation  ...  0.796710            0.9\n",
              "14          0.010  LeastAbsoluteDeviation  ...  0.787563            0.9\n",
              "30          0.001  LeastAbsoluteDeviation  ...  0.807779            0.9\n",
              "34          0.005  LeastAbsoluteDeviation  ...  0.782224            0.9\n",
              "\n",
              "[5 rows x 7 columns]"
            ]
          },
          "metadata": {
            "tags": []
          },
          "execution_count": 22
        }
      ]
    },
    {
      "cell_type": "code",
      "metadata": {
        "colab": {
          "base_uri": "https://localhost:8080/"
        },
        "id": "GUjTtjZ7t2t4",
        "outputId": "58c32114-e2d1-4270-8577-bb2a35d1ee6d"
      },
      "source": [
        "model = ee.Classifier.smileGradientTreeBoost(numberOfTrees=100, shrinkage=0.005, samplingRate=0.9, maxNodes=2, seed=42).setOutputMode(\"REGRESSION\").train(training, \"frac_change_AGB_live\", bands)\n",
        "\n",
        "holdout = validation.classify(model, \"predicted\")\n",
        "\n",
        "test = holdout.select([\"predicted\", \"frac_change_AGB_live\"]).getInfo()\n",
        "actual = [x[\"properties\"][\"frac_change_AGB_live\"] for x in test[\"features\"]]\n",
        "predicted = [x[\"properties\"][\"predicted\"] for x in test[\"features\"]]\n",
        "\n",
        "corr_matrix = np.corrcoef(actual, predicted)\n",
        "corr_xy = corr_matrix[0, 1]\n",
        "print(corr_xy**2)"
      ],
      "execution_count": null,
      "outputs": [
        {
          "output_type": "stream",
          "text": [
            "0.16568323294433732\n"
          ],
          "name": "stdout"
        }
      ]
    },
    {
      "cell_type": "code",
      "metadata": {
        "id": "OOazaAWpt2t4"
      },
      "source": [
        "classified_w_gedi = input_features.updateMask(gedi_mask).classify(model)"
      ],
      "execution_count": null,
      "outputs": []
    },
    {
      "cell_type": "code",
      "metadata": {
        "id": "2XOdU-lZv4TU"
      },
      "source": [
        ""
      ],
      "execution_count": null,
      "outputs": []
    },
    {
      "cell_type": "code",
      "metadata": {
        "id": "kT80hrrKwHIV"
      },
      "source": [
        "input_data_no_gedi = input_features_no_gedi.sample(factor=1, region=aoi, scale=300).randomColumn()\n",
        "training_no_gedi = input_data_no_gedi.filter(ee.Filter.lt(\"random\", 0.7))\n",
        "validation_no_gedi = input_data_no_gedi.filter(ee.Filter.gte(\"random\", 0.7))"
      ],
      "execution_count": null,
      "outputs": []
    },
    {
      "cell_type": "code",
      "metadata": {
        "colab": {
          "base_uri": "https://localhost:8080/"
        },
        "id": "SuCghs4kwQpu",
        "outputId": "5d5864d5-9e2b-4c80-db30-804ffc50a681"
      },
      "source": [
        "df_no_gedi = run_boosted_grid_search(training_no_gedi, validation_no_gedi, ee.List([\"NDVI_jul\", \"b1\"]), \"frac_change_AGB_live\")"
      ],
      "execution_count": null,
      "outputs": [
        {
          "output_type": "stream",
          "text": [
            "N_trees: 100 || loss: LeastAbsoluteDeviation || sampling rate: 0.5 || max nodes: 2 || learning rate: 0.001 || r-squared: 0.04611197667018767 || rmse: 0.54488816294135\n",
            "N_trees: 100 || loss: LeastAbsoluteDeviation || sampling rate: 0.5 || max nodes: 2 || learning rate: 0.005 || r-squared: 0.044973710144601824 || rmse: 0.5385239027947738\n",
            "N_trees: 100 || loss: LeastAbsoluteDeviation || sampling rate: 0.5 || max nodes: 2 || learning rate: 0.01 || r-squared: 0.03300632597611977 || rmse: 0.5348653086091321\n",
            "N_trees: 100 || loss: LeastAbsoluteDeviation || sampling rate: 0.5 || max nodes: 4 || learning rate: 0.001 || r-squared: 0.04080364711186553 || rmse: 0.5442989736638645\n",
            "N_trees: 100 || loss: LeastAbsoluteDeviation || sampling rate: 0.5 || max nodes: 4 || learning rate: 0.005 || r-squared: 0.027269674159874975 || rmse: 0.5370607225504445\n",
            "N_trees: 100 || loss: LeastAbsoluteDeviation || sampling rate: 0.5 || max nodes: 4 || learning rate: 0.01 || r-squared: 0.02277213436815181 || rmse: 0.5332623774868088\n",
            "N_trees: 100 || loss: LeastAbsoluteDeviation || sampling rate: 0.7 || max nodes: 2 || learning rate: 0.001 || r-squared: 0.047375543064168676 || rmse: 0.5450741980461397\n",
            "N_trees: 100 || loss: LeastAbsoluteDeviation || sampling rate: 0.7 || max nodes: 2 || learning rate: 0.005 || r-squared: 0.04695273049718526 || rmse: 0.5389853226206324\n",
            "N_trees: 100 || loss: LeastAbsoluteDeviation || sampling rate: 0.7 || max nodes: 2 || learning rate: 0.01 || r-squared: 0.046544837142595136 || rmse: 0.535011049354304\n",
            "N_trees: 100 || loss: LeastAbsoluteDeviation || sampling rate: 0.7 || max nodes: 4 || learning rate: 0.001 || r-squared: 0.055586201522973715 || rmse: 0.5443801839960115\n",
            "N_trees: 100 || loss: LeastAbsoluteDeviation || sampling rate: 0.7 || max nodes: 4 || learning rate: 0.005 || r-squared: 0.04140525399827365 || rmse: 0.5366990094291387\n",
            "N_trees: 100 || loss: LeastAbsoluteDeviation || sampling rate: 0.7 || max nodes: 4 || learning rate: 0.01 || r-squared: 0.028860076625689554 || rmse: 0.5337579729790886\n",
            "N_trees: 100 || loss: LeastAbsoluteDeviation || sampling rate: 0.9 || max nodes: 2 || learning rate: 0.001 || r-squared: 0.046274468832506715 || rmse: 0.5450933205485182\n",
            "N_trees: 100 || loss: LeastAbsoluteDeviation || sampling rate: 0.9 || max nodes: 2 || learning rate: 0.005 || r-squared: 0.044753607480609 || rmse: 0.5391641335405073\n",
            "N_trees: 100 || loss: LeastAbsoluteDeviation || sampling rate: 0.9 || max nodes: 2 || learning rate: 0.01 || r-squared: 0.04338572891374066 || rmse: 0.5360813838761449\n",
            "N_trees: 100 || loss: LeastAbsoluteDeviation || sampling rate: 0.9 || max nodes: 4 || learning rate: 0.001 || r-squared: 0.05061455954345682 || rmse: 0.5446670349896617\n",
            "N_trees: 100 || loss: LeastAbsoluteDeviation || sampling rate: 0.9 || max nodes: 4 || learning rate: 0.005 || r-squared: 0.04734543156816055 || rmse: 0.5373543212557124\n",
            "N_trees: 100 || loss: LeastAbsoluteDeviation || sampling rate: 0.9 || max nodes: 4 || learning rate: 0.01 || r-squared: 0.04042215974876752 || rmse: 0.5333471195186528\n",
            "N_trees: 200 || loss: LeastAbsoluteDeviation || sampling rate: 0.5 || max nodes: 2 || learning rate: 0.001 || r-squared: 0.04959752276802147 || rmse: 0.54290435037646\n",
            "N_trees: 200 || loss: LeastAbsoluteDeviation || sampling rate: 0.5 || max nodes: 2 || learning rate: 0.005 || r-squared: 0.04132753995930951 || rmse: 0.5343701349724271\n",
            "N_trees: 200 || loss: LeastAbsoluteDeviation || sampling rate: 0.5 || max nodes: 2 || learning rate: 0.01 || r-squared: 0.03067246133966431 || rmse: 0.5319392945157597\n",
            "N_trees: 200 || loss: LeastAbsoluteDeviation || sampling rate: 0.5 || max nodes: 4 || learning rate: 0.001 || r-squared: 0.046795088020923074 || rmse: 0.5418315246408596\n",
            "N_trees: 200 || loss: LeastAbsoluteDeviation || sampling rate: 0.5 || max nodes: 4 || learning rate: 0.005 || r-squared: 0.025609092695859568 || rmse: 0.5323753173587236\n",
            "N_trees: 200 || loss: LeastAbsoluteDeviation || sampling rate: 0.5 || max nodes: 4 || learning rate: 0.01 || r-squared: 0.026451389309995087 || rmse: 0.5269173736253071\n",
            "N_trees: 200 || loss: LeastAbsoluteDeviation || sampling rate: 0.7 || max nodes: 2 || learning rate: 0.001 || r-squared: 0.047437854312520546 || rmse: 0.5432695614866547\n",
            "N_trees: 200 || loss: LeastAbsoluteDeviation || sampling rate: 0.7 || max nodes: 2 || learning rate: 0.005 || r-squared: 0.042004721566411225 || rmse: 0.5360618379574893\n",
            "N_trees: 200 || loss: LeastAbsoluteDeviation || sampling rate: 0.7 || max nodes: 2 || learning rate: 0.01 || r-squared: 0.043040454417634245 || rmse: 0.5317895069455847\n",
            "N_trees: 200 || loss: LeastAbsoluteDeviation || sampling rate: 0.7 || max nodes: 4 || learning rate: 0.001 || r-squared: 0.05384651170538188 || rmse: 0.5421453436887562\n",
            "N_trees: 200 || loss: LeastAbsoluteDeviation || sampling rate: 0.7 || max nodes: 4 || learning rate: 0.005 || r-squared: 0.03351165138313993 || rmse: 0.5336337656012229\n",
            "N_trees: 200 || loss: LeastAbsoluteDeviation || sampling rate: 0.7 || max nodes: 4 || learning rate: 0.01 || r-squared: 0.042658013737593384 || rmse: 0.5273942247264902\n",
            "N_trees: 200 || loss: LeastAbsoluteDeviation || sampling rate: 0.9 || max nodes: 2 || learning rate: 0.001 || r-squared: 0.045647042750425006 || rmse: 0.5432622057296465\n",
            "N_trees: 200 || loss: LeastAbsoluteDeviation || sampling rate: 0.9 || max nodes: 2 || learning rate: 0.005 || r-squared: 0.043833608772414004 || rmse: 0.5362509211221977\n",
            "N_trees: 200 || loss: LeastAbsoluteDeviation || sampling rate: 0.9 || max nodes: 2 || learning rate: 0.01 || r-squared: 0.04023866914080195 || rmse: 0.5341928725899416\n",
            "N_trees: 200 || loss: LeastAbsoluteDeviation || sampling rate: 0.9 || max nodes: 4 || learning rate: 0.001 || r-squared: 0.04966662080445416 || rmse: 0.542386391356336\n",
            "N_trees: 200 || loss: LeastAbsoluteDeviation || sampling rate: 0.9 || max nodes: 4 || learning rate: 0.005 || r-squared: 0.04198329819496222 || rmse: 0.5335870006385094\n",
            "N_trees: 200 || loss: LeastAbsoluteDeviation || sampling rate: 0.9 || max nodes: 4 || learning rate: 0.01 || r-squared: 0.054657423597948285 || rmse: 0.5262447678585129\n",
            "N_trees: 500 || loss: LeastAbsoluteDeviation || sampling rate: 0.5 || max nodes: 2 || learning rate: 0.001 || r-squared: 0.04799968026348315 || rmse: 0.5383910910748056\n",
            "N_trees: 500 || loss: LeastAbsoluteDeviation || sampling rate: 0.5 || max nodes: 2 || learning rate: 0.005 || r-squared: 0.033475277100330936 || rmse: 0.530153430192488\n",
            "N_trees: 500 || loss: LeastAbsoluteDeviation || sampling rate: 0.5 || max nodes: 2 || learning rate: 0.01 || r-squared: 0.026114095712108966 || rmse: 0.5290266623813187\n",
            "N_trees: 500 || loss: LeastAbsoluteDeviation || sampling rate: 0.5 || max nodes: 4 || learning rate: 0.001 || r-squared: 0.031175398488114858 || rmse: 0.5368986735588728\n",
            "N_trees: 500 || loss: LeastAbsoluteDeviation || sampling rate: 0.5 || max nodes: 4 || learning rate: 0.005 || r-squared: 0.022263336241054813 || rmse: 0.5278282807135846\n",
            "N_trees: 500 || loss: LeastAbsoluteDeviation || sampling rate: 0.5 || max nodes: 4 || learning rate: 0.01 || r-squared: 0.014657845139087395 || rmse: 0.528999397833649\n",
            "N_trees: 500 || loss: LeastAbsoluteDeviation || sampling rate: 0.7 || max nodes: 2 || learning rate: 0.001 || r-squared: 0.04781162488812102 || rmse: 0.5388294787928847\n",
            "N_trees: 500 || loss: LeastAbsoluteDeviation || sampling rate: 0.7 || max nodes: 2 || learning rate: 0.005 || r-squared: 0.04540048846292554 || rmse: 0.5306110471891587\n",
            "N_trees: 500 || loss: LeastAbsoluteDeviation || sampling rate: 0.7 || max nodes: 2 || learning rate: 0.01 || r-squared: 0.049086310818599835 || rmse: 0.5263410518695801\n",
            "N_trees: 500 || loss: LeastAbsoluteDeviation || sampling rate: 0.7 || max nodes: 4 || learning rate: 0.001 || r-squared: 0.04260764209382984 || rmse: 0.5370943485378424\n",
            "N_trees: 500 || loss: LeastAbsoluteDeviation || sampling rate: 0.7 || max nodes: 4 || learning rate: 0.005 || r-squared: 0.036473100523838425 || rmse: 0.5272220630201843\n",
            "N_trees: 500 || loss: LeastAbsoluteDeviation || sampling rate: 0.7 || max nodes: 4 || learning rate: 0.01 || r-squared: 0.01912329842422333 || rmse: 0.5285249961041151\n",
            "N_trees: 500 || loss: LeastAbsoluteDeviation || sampling rate: 0.9 || max nodes: 2 || learning rate: 0.001 || r-squared: 0.046192886211512 || rmse: 0.5390245553593864\n",
            "N_trees: 500 || loss: LeastAbsoluteDeviation || sampling rate: 0.9 || max nodes: 2 || learning rate: 0.005 || r-squared: 0.044224013165179654 || rmse: 0.5325236203563941\n",
            "N_trees: 500 || loss: LeastAbsoluteDeviation || sampling rate: 0.9 || max nodes: 2 || learning rate: 0.01 || r-squared: 0.051801861426406005 || rmse: 0.5284492865179478\n",
            "N_trees: 500 || loss: LeastAbsoluteDeviation || sampling rate: 0.9 || max nodes: 4 || learning rate: 0.001 || r-squared: 0.047180263139098934 || rmse: 0.5373221469279218\n",
            "N_trees: 500 || loss: LeastAbsoluteDeviation || sampling rate: 0.9 || max nodes: 4 || learning rate: 0.005 || r-squared: 0.05928961532963118 || rmse: 0.5249521657825243\n",
            "N_trees: 500 || loss: LeastAbsoluteDeviation || sampling rate: 0.9 || max nodes: 4 || learning rate: 0.01 || r-squared: 0.04522422605943124 || rmse: 0.5232501638526825\n"
          ],
          "name": "stdout"
        }
      ]
    },
    {
      "cell_type": "code",
      "metadata": {
        "colab": {
          "base_uri": "https://localhost:8080/",
          "height": 204
        },
        "id": "lYcbTRohwgGi",
        "outputId": "09cd74f3-f5ee-4375-a09a-828d5df56b97"
      },
      "source": [
        "df_no_gedi.sort_values(by=[\"r_squared\"], ascending=False).head()"
      ],
      "execution_count": null,
      "outputs": [
        {
          "output_type": "execute_result",
          "data": {
            "text/html": [
              "<div>\n",
              "<style scoped>\n",
              "    .dataframe tbody tr th:only-of-type {\n",
              "        vertical-align: middle;\n",
              "    }\n",
              "\n",
              "    .dataframe tbody tr th {\n",
              "        vertical-align: top;\n",
              "    }\n",
              "\n",
              "    .dataframe thead th {\n",
              "        text-align: right;\n",
              "    }\n",
              "</style>\n",
              "<table border=\"1\" class=\"dataframe\">\n",
              "  <thead>\n",
              "    <tr style=\"text-align: right;\">\n",
              "      <th></th>\n",
              "      <th>learning_rate</th>\n",
              "      <th>loss</th>\n",
              "      <th>max_nodes</th>\n",
              "      <th>n_trees</th>\n",
              "      <th>r_squared</th>\n",
              "      <th>rmse</th>\n",
              "      <th>sampling_rate</th>\n",
              "    </tr>\n",
              "  </thead>\n",
              "  <tbody>\n",
              "    <tr>\n",
              "      <th>52</th>\n",
              "      <td>0.005</td>\n",
              "      <td>LeastAbsoluteDeviation</td>\n",
              "      <td>4.0</td>\n",
              "      <td>500.0</td>\n",
              "      <td>0.059290</td>\n",
              "      <td>0.524952</td>\n",
              "      <td>0.9</td>\n",
              "    </tr>\n",
              "    <tr>\n",
              "      <th>9</th>\n",
              "      <td>0.001</td>\n",
              "      <td>LeastAbsoluteDeviation</td>\n",
              "      <td>4.0</td>\n",
              "      <td>100.0</td>\n",
              "      <td>0.055586</td>\n",
              "      <td>0.544380</td>\n",
              "      <td>0.7</td>\n",
              "    </tr>\n",
              "    <tr>\n",
              "      <th>35</th>\n",
              "      <td>0.010</td>\n",
              "      <td>LeastAbsoluteDeviation</td>\n",
              "      <td>4.0</td>\n",
              "      <td>200.0</td>\n",
              "      <td>0.054657</td>\n",
              "      <td>0.526245</td>\n",
              "      <td>0.9</td>\n",
              "    </tr>\n",
              "    <tr>\n",
              "      <th>27</th>\n",
              "      <td>0.001</td>\n",
              "      <td>LeastAbsoluteDeviation</td>\n",
              "      <td>4.0</td>\n",
              "      <td>200.0</td>\n",
              "      <td>0.053847</td>\n",
              "      <td>0.542145</td>\n",
              "      <td>0.7</td>\n",
              "    </tr>\n",
              "    <tr>\n",
              "      <th>50</th>\n",
              "      <td>0.010</td>\n",
              "      <td>LeastAbsoluteDeviation</td>\n",
              "      <td>2.0</td>\n",
              "      <td>500.0</td>\n",
              "      <td>0.051802</td>\n",
              "      <td>0.528449</td>\n",
              "      <td>0.9</td>\n",
              "    </tr>\n",
              "  </tbody>\n",
              "</table>\n",
              "</div>"
            ],
            "text/plain": [
              "    learning_rate                    loss  ...      rmse  sampling_rate\n",
              "52          0.005  LeastAbsoluteDeviation  ...  0.524952            0.9\n",
              "9           0.001  LeastAbsoluteDeviation  ...  0.544380            0.7\n",
              "35          0.010  LeastAbsoluteDeviation  ...  0.526245            0.9\n",
              "27          0.001  LeastAbsoluteDeviation  ...  0.542145            0.7\n",
              "50          0.010  LeastAbsoluteDeviation  ...  0.528449            0.9\n",
              "\n",
              "[5 rows x 7 columns]"
            ]
          },
          "metadata": {
            "tags": []
          },
          "execution_count": 27
        }
      ]
    },
    {
      "cell_type": "code",
      "metadata": {
        "colab": {
          "base_uri": "https://localhost:8080/"
        },
        "id": "PacuZV0KwHIY",
        "outputId": "0d9cab12-072c-4346-e5cc-a72225692476"
      },
      "source": [
        "model_no_gedi = ee.Classifier.smileGradientTreeBoost(numberOfTrees=500, shrinkage=0.005, samplingRate=0.9, maxNodes=4, seed=42).setOutputMode(\"REGRESSION\").train(training_no_gedi, \"frac_change_AGB_live\", ee.List([\"NDVI_jul\", \"b1\"]))\n",
        "\n",
        "holdout_no_gedi = validation_no_gedi.classify(model_no_gedi, \"predicted\")\n",
        "\n",
        "test_no_gedi = holdout_no_gedi.select([\"predicted\", \"frac_change_AGB_live\"]).getInfo()\n",
        "actual_no_gedi = [x[\"properties\"][\"frac_change_AGB_live\"] for x in test_no_gedi[\"features\"]]\n",
        "predicted_no_gedi = [x[\"properties\"][\"predicted\"] for x in test_no_gedi[\"features\"]]\n",
        "\n",
        "corr_matrix = np.corrcoef(actual_no_gedi, predicted_no_gedi)\n",
        "corr_xy = corr_matrix[0, 1]\n",
        "print(corr_xy**2)"
      ],
      "execution_count": null,
      "outputs": [
        {
          "output_type": "stream",
          "text": [
            "0.05928961532963118\n"
          ],
          "name": "stdout"
        }
      ]
    },
    {
      "cell_type": "code",
      "metadata": {
        "id": "ZjjptuFMwHIZ"
      },
      "source": [
        "classified_no_gedi = input_features.updateMask(gedi_mask.Not()).classify(model_no_gedi)"
      ],
      "execution_count": null,
      "outputs": []
    },
    {
      "cell_type": "code",
      "metadata": {
        "id": "UNi3TNoqwHIZ"
      },
      "source": [
        "classified_col = ee.ImageCollection.fromImages([classified_w_gedi, classified_no_gedi])\n",
        "combined = classified_col.mosaic().add(ee.Image(1)).multiply(hudak_agb_2016)"
      ],
      "execution_count": null,
      "outputs": []
    },
    {
      "cell_type": "code",
      "metadata": {
        "colab": {
          "base_uri": "https://localhost:8080/"
        },
        "id": "z0VhuxqswHIa",
        "outputId": "c934d625-e0fb-4347-b41f-b5c83183869b"
      },
      "source": [
        "print(combined.reduceRegion(ee.Reducer.minMax(), aoi, scale=30).getInfo())"
      ],
      "execution_count": null,
      "outputs": [
        {
          "output_type": "stream",
          "text": [
            "{'classification_max': 1039.9997681230307, 'classification_min': 13.633646354079247}\n"
          ],
          "name": "stdout"
        }
      ]
    },
    {
      "cell_type": "code",
      "metadata": {
        "id": "2H5UmzWewHIb"
      },
      "source": [
        "task = ee.batch.Export.image.toAsset(combined, description=\"hudak_2051_agb\", assetId=\"users/connorr/agb_2051_predicted\", region=aoi, scale=30)"
      ],
      "execution_count": null,
      "outputs": []
    },
    {
      "cell_type": "code",
      "metadata": {
        "id": "RTTULU3xwHIb"
      },
      "source": [
        "task.start()"
      ],
      "execution_count": null,
      "outputs": []
    },
    {
      "cell_type": "code",
      "metadata": {
        "colab": {
          "base_uri": "https://localhost:8080/"
        },
        "id": "Q7Ylpr28wHIb",
        "outputId": "2cbee440-3206-405e-e3c1-598e13fbffeb"
      },
      "source": [
        "task.status()"
      ],
      "execution_count": null,
      "outputs": [
        {
          "output_type": "execute_result",
          "data": {
            "text/plain": [
              "{'attempt': 1,\n",
              " 'creation_timestamp_ms': 1612219409588,\n",
              " 'description': 'hudak_2051_agb',\n",
              " 'destination_uris': ['https://code.earthengine.google.com/?asset=projects/earthengine-legacy/assets/users/connorr/agb_2051_predicted'],\n",
              " 'id': '6NGZEY2RN2QZNZEOZFYBBPJA',\n",
              " 'name': 'projects/earthengine-legacy/operations/6NGZEY2RN2QZNZEOZFYBBPJA',\n",
              " 'start_timestamp_ms': 1612219427403,\n",
              " 'state': 'COMPLETED',\n",
              " 'task_type': 'EXPORT_IMAGE',\n",
              " 'update_timestamp_ms': 1612219776717}"
            ]
          },
          "metadata": {
            "tags": []
          },
          "execution_count": 40
        }
      ]
    },
    {
      "cell_type": "code",
      "metadata": {
        "id": "V0mK38hKw-j4"
      },
      "source": [
        ""
      ],
      "execution_count": null,
      "outputs": []
    }
  ]
}